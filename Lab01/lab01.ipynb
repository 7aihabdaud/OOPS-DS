{
 "cells": [
  {
   "cell_type": "markdown",
   "id": "af706ad0-c75b-4432-b1dd-4f5cbce262c3",
   "metadata": {},
   "source": [
    "<font color='indigo'>\n",
    "    \n",
    "#  *Aihab Daud*\n",
    "##  *REG # 23jzelel0509*\n",
    "\n",
    "</font>"
   ]
  },
  {
   "cell_type": "markdown",
   "id": "ffca5bf7-1e4d-4337-a9ef-9e352da9643e",
   "metadata": {},
   "source": [
    "<font color='indigo'>\n",
    "    \n",
    "### Subject: OOP & DS\n",
    "### **LAB-01**\n",
    "\n",
    "</font>"
   ]
  },
  {
   "cell_type": "markdown",
   "id": "8261ab98-8450-4732-89b7-fa6ea0867d29",
   "metadata": {},
   "source": [
    "<font color='indigo'>\n",
    "    \n",
    "####     SUBJECT\n",
    "#####           *Getting started with phython*\n",
    "</font>"
   ]
  },
  {
   "cell_type": "code",
   "execution_count": 8,
   "id": "5ed29c61-452d-4f87-a2a5-7cc47da42c76",
   "metadata": {},
   "outputs": [
    {
     "name": "stdout",
     "output_type": "stream",
     "text": [
      "Hello, world!\n"
     ]
    }
   ],
   "source": [
    "# Print a message\n",
    "print(\"Hello, world!\")"
   ]
  },
  {
   "cell_type": "code",
   "execution_count": 9,
   "id": "ca47840a-7772-4a7f-b70a-de700b6f047d",
   "metadata": {},
   "outputs": [],
   "source": [
    "# Variables\n",
    "name = \"Alice\"\n",
    "age = 30"
   ]
  },
  {
   "cell_type": "code",
   "execution_count": 10,
   "id": "cf3e8c5c-99d8-4ba0-9ba5-0918424d574e",
   "metadata": {},
   "outputs": [],
   "source": [
    "# Data types\n",
    "number = 42 \n",
    "pi = 3.14159   \n",
    "is_student = True  "
   ]
  },
  {
   "cell_type": "code",
   "execution_count": 11,
   "id": "066a9299-7b4c-4fbd-8a0d-a7bbb9309a3c",
   "metadata": {},
   "outputs": [
    {
     "name": "stdout",
     "output_type": "stream",
     "text": [
      "Alice is an adult.\n"
     ]
    }
   ],
   "source": [
    "# If-else statement\n",
    "if age >= 18:\n",
    "    print(name, \"is an adult.\")\n",
    "else:\n",
    "    print(name, \"is a minor.\")"
   ]
  },
  {
   "cell_type": "code",
   "execution_count": 12,
   "id": "9f6a4cf5-d1a4-40dd-b7f6-a1d834041b00",
   "metadata": {},
   "outputs": [
    {
     "name": "stdout",
     "output_type": "stream",
     "text": [
      "Iteration: 0\n",
      "Iteration: 1\n",
      "Iteration: 2\n",
      "Iteration: 3\n",
      "Iteration: 4\n"
     ]
    }
   ],
   "source": [
    "# Loop\n",
    "for i in range(5):\n",
    "    print(\"Iteration:\", i)"
   ]
  },
  {
   "cell_type": "code",
   "execution_count": 13,
   "id": "3fbac7b9-5ad3-4a59-ba6a-db2131a70733",
   "metadata": {},
   "outputs": [
    {
     "name": "stdout",
     "output_type": "stream",
     "text": [
      "Hello, Bob!\n"
     ]
    }
   ],
   "source": [
    "# Function\n",
    "def greet(person):\n",
    "    print(\"Hello,\", person + \"!\")\n",
    "\n",
    "greet(\"Bob\")"
   ]
  },
  {
   "cell_type": "code",
   "execution_count": 14,
   "id": "427d7ca7-c3ef-46b6-b230-511c17e72638",
   "metadata": {},
   "outputs": [],
   "source": [
    "class Dog:\n",
    "    def __init__(self, name, breed, age):\n",
    "        self.name = name\n",
    "        self.breed = breed\n",
    "        self.age = age"
   ]
  },
  {
   "cell_type": "code",
   "execution_count": 15,
   "id": "23328e65-6bed-4ae8-9f86-303a1b1edca8",
   "metadata": {},
   "outputs": [],
   "source": [
    "my_dog = Dog(\"Buddy\", \"Golden Retriever\", 3)"
   ]
  }
 ],
 "metadata": {
  "kernelspec": {
   "display_name": "Python 3 (ipykernel)",
   "language": "python",
   "name": "python3"
  },
  "language_info": {
   "codemirror_mode": {
    "name": "ipython",
    "version": 3
   },
   "file_extension": ".py",
   "mimetype": "text/x-python",
   "name": "python",
   "nbconvert_exporter": "python",
   "pygments_lexer": "ipython3",
   "version": "3.9.19"
  }
 },
 "nbformat": 4,
 "nbformat_minor": 5
}
