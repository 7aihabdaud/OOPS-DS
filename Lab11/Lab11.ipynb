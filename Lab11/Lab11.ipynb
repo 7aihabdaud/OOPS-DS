{
 "cells": [
  {
   "cell_type": "markdown",
   "id": "a4d289ce-60e7-403b-a883-c0a0fe484130",
   "metadata": {},
   "source": [
    "<font color='teal'>\n",
    "\n",
    "#  *Aihab Daud*\n",
    "##  *REG # 23jzelel0509*\n",
    "\n",
    "</font>"
   ]
  },
  {
   "cell_type": "markdown",
   "id": "4d2814ba-57dc-4eba-a06c-d49af280d09e",
   "metadata": {},
   "source": [
    "<font color='teal'>\n",
    "    \n",
    "### Subject: OOP & DS\n",
    "### **LAB-11**\n",
    "\n",
    "</font>"
   ]
  },
  {
   "cell_type": "markdown",
   "id": "27d1fe29-8805-466a-9ca2-1a01da9b1357",
   "metadata": {},
   "source": [
    "<font color='teal'>\n",
    "    \n",
    "####     SUBJECT\n",
    "#####           * STACK ALGORITHM *\n",
    "</font>"
   ]
  },
  {
   "cell_type": "markdown",
   "id": "d32f8026-1065-43ca-86fe-33496ca7be03",
   "metadata": {},
   "source": [
    "<font color='maroon'>\n",
    "    \n",
    "# lab report task\n",
    "</font>"
   ]
  },
  {
   "cell_type": "markdown",
   "id": "59eaa384-5939-4243-9e16-059e8c9b584b",
   "metadata": {},
   "source": [
    "  Make a node base implementation for Stack and pass different data types and push and pop different items and display the top item"
   ]
  },
  {
   "cell_type": "code",
   "execution_count": 47,
   "id": "9aff80c6-a567-4503-970b-99d64685f71a",
   "metadata": {},
   "outputs": [],
   "source": [
    "class Node:\n",
    "    def __init__(self, data):\n",
    "        self.data = data\n",
    "        self.next = None\n",
    "\n",
    "class NodeStack:\n",
    "    def __init__(self):\n",
    "        self.top = None\n",
    "\n",
    "    def is_empty(self):\n",
    "        return self.top is None\n",
    "\n",
    "    def push(self, item):\n",
    "        new_node = Node(item)\n",
    "        new_node.next = self.top\n",
    "        self.top = new_node\n",
    "\n",
    "    def pop(self):\n",
    "        if not self.is_empty():\n",
    "            popped_item = self.top.data\n",
    "            self.top = self.top.next\n",
    "            return popped_item\n",
    "        else:\n",
    "            print(\"Stack is empty\")"
   ]
  },
  {
   "cell_type": "code",
   "execution_count": 48,
   "id": "9a7c2040-927c-4597-a638-f651ed041879",
   "metadata": {},
   "outputs": [],
   "source": [
    "stack = NodeStack()"
   ]
  },
  {
   "cell_type": "code",
   "execution_count": 49,
   "id": "633d3ff0-c024-4b8c-b5ed-fa1a7e27e550",
   "metadata": {},
   "outputs": [],
   "source": [
    "stack.push(10)"
   ]
  },
  {
   "cell_type": "code",
   "execution_count": 50,
   "id": "64ce52a3-7860-4231-bc2f-d880a22410e6",
   "metadata": {},
   "outputs": [],
   "source": [
    "stack.push(3.14)"
   ]
  },
  {
   "cell_type": "code",
   "execution_count": 51,
   "id": "09d13827-352a-4386-91cc-a3ab07957c92",
   "metadata": {},
   "outputs": [],
   "source": [
    "stack.push(\"Hello\")  "
   ]
  },
  {
   "cell_type": "code",
   "execution_count": 52,
   "id": "a94abadf-09f8-459d-8e45-78a3ccdf7433",
   "metadata": {},
   "outputs": [],
   "source": [
    "stack.push(True) "
   ]
  },
  {
   "cell_type": "code",
   "execution_count": 53,
   "id": "52aec180-5de6-4057-9a6a-4123899ad4d3",
   "metadata": {},
   "outputs": [
    {
     "name": "stdout",
     "output_type": "stream",
     "text": [
      "Popped: True\n"
     ]
    }
   ],
   "source": [
    "print(\"Popped:\", stack.pop()) "
   ]
  },
  {
   "cell_type": "code",
   "execution_count": 54,
   "id": "b628852c-6edc-4e46-b4d7-0a375cf5c55b",
   "metadata": {},
   "outputs": [
    {
     "name": "stdout",
     "output_type": "stream",
     "text": [
      "Popped: Hello\n"
     ]
    }
   ],
   "source": [
    "print(\"Popped:\", stack.pop())  "
   ]
  },
  {
   "cell_type": "code",
   "execution_count": 55,
   "id": "1657896f-ecba-47e9-b91a-98d88f801b9b",
   "metadata": {},
   "outputs": [
    {
     "name": "stdout",
     "output_type": "stream",
     "text": [
      "Popped: 3.14\n"
     ]
    }
   ],
   "source": [
    "print(\"Popped:\", stack.pop())  "
   ]
  },
  {
   "cell_type": "code",
   "execution_count": 56,
   "id": "8b986d27-d8a3-4dae-9830-d3d2f820edc4",
   "metadata": {},
   "outputs": [
    {
     "name": "stdout",
     "output_type": "stream",
     "text": [
      "Top item: 10\n"
     ]
    }
   ],
   "source": [
    "print(\"Top item:\", stack.top.data)"
   ]
  },
  {
   "cell_type": "markdown",
   "id": "b0161b58-e3ed-443d-aa24-426d9576930f",
   "metadata": {},
   "source": [
    "1. List Stack:"
   ]
  },
  {
   "cell_type": "code",
   "execution_count": 57,
   "id": "cc956759-4e87-43ef-b674-72ccf862eacd",
   "metadata": {},
   "outputs": [],
   "source": [
    "class StackList:\n",
    "    def __init__(self):\n",
    "        self.items = []\n",
    "\n",
    "    def is_empty(self):\n",
    "        return len(self.items) == 0\n",
    "\n",
    "    def push(self, item):\n",
    "        self.items.append(item)\n",
    "\n",
    "    def pop(self):\n",
    "        if not self.is_empty():\n",
    "            return self.items.pop()\n",
    "        else:\n",
    "            print(\"Stack is empty\")\n",
    "\n",
    "    def peek(self):\n",
    "        if not self.is_empty():\n",
    "            return self.items[-1]\n",
    "        else:\n",
    "            print(\"Stack is empty\")\n",
    "\n",
    "    def size(self):\n",
    "        return len(self.items)"
   ]
  },
  {
   "cell_type": "code",
   "execution_count": 58,
   "id": "e0b2c7d6-ca13-41fa-b24e-a2e45478fb9b",
   "metadata": {},
   "outputs": [],
   "source": [
    "# . Creating object of this class:"
   ]
  },
  {
   "cell_type": "code",
   "execution_count": 59,
   "id": "224c6b23-a9fc-4227-b444-e7eaf5be8f4d",
   "metadata": {},
   "outputs": [],
   "source": [
    "stack_list = StackList()"
   ]
  },
  {
   "cell_type": "code",
   "execution_count": 60,
   "id": "1176d397-e1a3-4712-9d2d-17ea985f709c",
   "metadata": {},
   "outputs": [],
   "source": [
    "# The __init__ method initializes an empty list to store the stack elements."
   ]
  },
  {
   "cell_type": "code",
   "execution_count": 61,
   "id": "7b45fcf6-9827-4811-b579-0f1e4e98a7ac",
   "metadata": {},
   "outputs": [],
   "source": [
    "class StackList:\n",
    "    def __init__(self):\n",
    "        self.items = []\n",
    "\n",
    "    def is_empty(self):\n",
    "        return len(self.items) == 0\n",
    "\n",
    "    def push(self, item):\n",
    "        self.items.append(item)\n",
    "\n",
    "    def pop(self):\n",
    "        if not self.is_empty():\n",
    "            return self.items.pop()\n",
    "        else:\n",
    "            print(\"Stack is empty\")\n",
    "\n",
    "    def peek(self):\n",
    "        if not self.is_empty():\n",
    "            return self.items[-1]\n",
    "        else:\n",
    "            print(\"Stack is empty\")\n",
    "\n",
    "    def size(self):\n",
    "        return len(self.items)"
   ]
  },
  {
   "cell_type": "code",
   "execution_count": 62,
   "id": "8156ef0e-8ea3-407f-a081-cdac2eee9878",
   "metadata": {},
   "outputs": [],
   "source": [
    "stack = StackList()"
   ]
  },
  {
   "cell_type": "markdown",
   "id": "646df44d-23a4-4a40-8963-c5b3128f6ca5",
   "metadata": {},
   "source": [
    "In this implementation check:\n",
    "\n",
    "__init__\n",
    "\n",
    " is_empty()\n",
    " \n",
    " push(item)\n",
    " \n",
    " append()\n",
    " \n",
    " peek()\n",
    " \n",
    " size() "
   ]
  },
  {
   "cell_type": "code",
   "execution_count": 63,
   "id": "bba4d9dc-385c-4a61-8e51-d340879cd7a8",
   "metadata": {},
   "outputs": [],
   "source": [
    "stack.push(1)\n",
    "stack.push(2)\n",
    "stack.push(3)"
   ]
  },
  {
   "cell_type": "code",
   "execution_count": 64,
   "id": "701508f1-fcd2-4439-a5db-df13228168fa",
   "metadata": {},
   "outputs": [
    {
     "name": "stdout",
     "output_type": "stream",
     "text": [
      "Pop: 3\n"
     ]
    }
   ],
   "source": [
    "popped_item = stack.pop()\n",
    "print(\"Pop:\", popped_item)  "
   ]
  },
  {
   "cell_type": "code",
   "execution_count": 65,
   "id": "f628fed4-a2f3-4806-ae2c-4489a44b16fe",
   "metadata": {},
   "outputs": [
    {
     "name": "stdout",
     "output_type": "stream",
     "text": [
      "Peek: 2\n"
     ]
    }
   ],
   "source": [
    "top_item = stack.peek()\n",
    "print(\"Peek:\", top_item) "
   ]
  },
  {
   "cell_type": "code",
   "execution_count": 66,
   "id": "2706483c-bd60-4e5d-a0b2-af07255ef4f0",
   "metadata": {},
   "outputs": [
    {
     "name": "stdout",
     "output_type": "stream",
     "text": [
      "Stack size: 2\n"
     ]
    }
   ],
   "source": [
    "stack_size = stack.size()\n",
    "print(\"Stack size:\", stack_size) "
   ]
  },
  {
   "cell_type": "markdown",
   "id": "99893397-fb22-4798-ac88-b1edc8469a6b",
   "metadata": {},
   "source": [
    "## 1) Deque Implementation:"
   ]
  },
  {
   "cell_type": "code",
   "execution_count": 75,
   "id": "5cc98989-9658-492b-bf92-d475210223cd",
   "metadata": {},
   "outputs": [],
   "source": [
    "from collections import deque\n",
    "class StackDeque:\n",
    "    def __init__(self):\n",
    "        self.items = deque()\n",
    "\n",
    "    def is_empty(self):\n",
    "        return len(self.items) == 0\n",
    "\n",
    "    def push(self, item):\n",
    "        self.items.append(item)\n",
    "\n",
    "    def pop(self):\n",
    "        if not self.is_empty():\n",
    "            return self.items.pop()\n",
    "        else:\n",
    "            print(\"Stack is empty\")\n",
    "\n",
    "    def peek(self):\n",
    "        if not self.is_empty():\n",
    "            return self.items[-1]\n",
    "        else:\n",
    "            print(\"Stack is empty\")\n",
    "\n",
    "    def size(self):\n",
    "        return len(self.items)"
   ]
  },
  {
   "cell_type": "markdown",
   "id": "dbe25daf-7796-4aa2-b466-c8d202830a12",
   "metadata": {},
   "source": [
    "a. Creating Data types in Deque Stack Implementation."
   ]
  },
  {
   "cell_type": "code",
   "execution_count": 76,
   "id": "d8c9aac8-32b3-4b5d-bbdb-6d6dd2aef7d8",
   "metadata": {},
   "outputs": [],
   "source": [
    "stack1 = StackDeque()\n",
    "stack2 = StackDeque()"
   ]
  },
  {
   "cell_type": "markdown",
   "id": "0b9f79a2-990f-49c5-b8ac-10aa94fbf135",
   "metadata": {},
   "source": [
    "b. Pushing element in Stack:"
   ]
  },
  {
   "cell_type": "code",
   "execution_count": 77,
   "id": "05e4145b-e9f4-4ad6-bef9-422cf42b4e61",
   "metadata": {},
   "outputs": [],
   "source": [
    "stack1.push(1)\n",
    "stack1.push(2)\n",
    "stack1.push(3)"
   ]
  },
  {
   "cell_type": "code",
   "execution_count": 78,
   "id": "c5b48ec5-3015-4f8d-8512-1125a73d92c3",
   "metadata": {},
   "outputs": [],
   "source": [
    "stack2.push(\"apple\")\n",
    "stack2.push(\"banana\")\n",
    "stack2.push(\"cherry\")"
   ]
  },
  {
   "cell_type": "code",
   "execution_count": 79,
   "id": "c4f2cf03-52d0-4833-aeeb-cb8f2c825e52",
   "metadata": {},
   "outputs": [
    {
     "name": "stdout",
     "output_type": "stream",
     "text": [
      "Stack1:\n",
      "Stack2: <__main__.StackDeque object at 0x00000212D8EEEF40>\n"
     ]
    }
   ],
   "source": [
    "print(\"Stack1:\")\n",
    "print(\"Stack2:\", stack2)"
   ]
  },
  {
   "cell_type": "markdown",
   "id": "a0d9331a-4600-4665-95ab-537960d01a37",
   "metadata": {},
   "source": [
    "c. Popping out element from Stack."
   ]
  },
  {
   "cell_type": "code",
   "execution_count": 80,
   "id": "31e3294a-dbec-4caf-a3ca-01ee6fbd160d",
   "metadata": {},
   "outputs": [],
   "source": [
    "# Popping elements from stack1\n",
    "popped1 = stack1.pop()\n",
    "popped2 = stack1.pop()"
   ]
  },
  {
   "cell_type": "code",
   "execution_count": 81,
   "id": "ecc63d40-bb27-4379-a334-8aca5beded5b",
   "metadata": {},
   "outputs": [],
   "source": [
    "# Popping elements from stack2\n",
    "popped3 = stack2.pop()\n",
    "popped4 = stack2.pop()"
   ]
  },
  {
   "cell_type": "code",
   "execution_count": 82,
   "id": "a997a829-19a1-4f1b-806b-d96182ce126f",
   "metadata": {},
   "outputs": [
    {
     "name": "stdout",
     "output_type": "stream",
     "text": [
      "Popped from Stack1: 3 2\n",
      "Popped from Stack2: cherry banana\n"
     ]
    }
   ],
   "source": [
    "# Checking the popped elements and the current state of both stacks\n",
    "print(\"Popped from Stack1:\", popped1, popped2)\n",
    "print(\"Popped from Stack2:\", popped3, popped4)"
   ]
  },
  {
   "cell_type": "code",
   "execution_count": 84,
   "id": "989c5f82-d6ee-439d-9022-4af5a108f76d",
   "metadata": {},
   "outputs": [
    {
     "name": "stdout",
     "output_type": "stream",
     "text": [
      "Current Stack1:\n",
      "Current Stack2:\n"
     ]
    }
   ],
   "source": [
    "print(\"Current Stack1:\")\n",
    "print(\"Current Stack2:\")"
   ]
  },
  {
   "cell_type": "markdown",
   "id": "f036da28-3e02-4a54-9106-cc9864abb7db",
   "metadata": {},
   "source": [
    "## 2. NODE BASE IMPLEMENTATION:"
   ]
  },
  {
   "cell_type": "markdown",
   "id": "b9095c7a-c9d3-4fca-9822-f211a9ab7a05",
   "metadata": {},
   "source": [
    "ii. The Node class represents each element in the stack with a data attribute \n",
    "and a next attribute pointing to the next node"
   ]
  },
  {
   "cell_type": "code",
   "execution_count": 146,
   "id": "cd473269-695e-433a-b92b-ed6b3e7fed2c",
   "metadata": {},
   "outputs": [],
   "source": [
    "class Node:\n",
    "    def __init__(self, data):\n",
    "        self.data = data\n",
    "        self.next = None"
   ]
  },
  {
   "cell_type": "code",
   "execution_count": 147,
   "id": "ef95b0c2-303a-44ff-8ee5-dc2caabfe154",
   "metadata": {},
   "outputs": [],
   "source": [
    "# The NodeStack class maintains a reference to the top of the stack (top)"
   ]
  },
  {
   "cell_type": "code",
   "execution_count": 148,
   "id": "8cc87603-eb54-44ad-ae7a-c218ac208859",
   "metadata": {},
   "outputs": [],
   "source": [
    "class NodeStack:\n",
    "    def __init__(self):\n",
    "        self.top = None"
   ]
  },
  {
   "cell_type": "code",
   "execution_count": 135,
   "id": "3451c0fb-9bad-42e5-b6d2-b48b6efb3a17",
   "metadata": {},
   "outputs": [],
   "source": [
    "#  The push() method adds a new node to the top of the stack."
   ]
  },
  {
   "cell_type": "code",
   "execution_count": 149,
   "id": "19590ded-660a-4e04-b423-251e8c583ae3",
   "metadata": {},
   "outputs": [],
   "source": [
    "def push(self, item):\n",
    "  new_node = Node(item)\n",
    "  new_node.next = self.top\n",
    "  self.top = new_node"
   ]
  },
  {
   "cell_type": "code",
   "execution_count": 137,
   "id": "7b67ad33-fbb2-45e5-97aa-eced654af5bc",
   "metadata": {},
   "outputs": [],
   "source": [
    "# the pop() method removes and returns the item from the top of the stack."
   ]
  },
  {
   "cell_type": "code",
   "execution_count": 150,
   "id": "5c56a0e1-0624-4a18-992d-397edaabea6a",
   "metadata": {},
   "outputs": [],
   "source": [
    "def pop(self):\n",
    "    if not self.is_empty():\n",
    "        popped_item = self.top.data\n",
    "        self.top = self.top.next\n",
    "        return popped_item\n",
    "    else:\n",
    "        print(\"Stack is empty\")"
   ]
  },
  {
   "cell_type": "code",
   "execution_count": 151,
   "id": "609bd223-7753-48d3-a9ac-9ee2ef4158ba",
   "metadata": {},
   "outputs": [],
   "source": [
    "#  The peek() method returns the item from the top of the stack without removing it."
   ]
  },
  {
   "cell_type": "code",
   "execution_count": 152,
   "id": "0e57948d-412e-4cf7-98a9-1ddc61bfb79d",
   "metadata": {},
   "outputs": [],
   "source": [
    "def pop(self):\n",
    "    if not self.is_empty():\n",
    "        popped_item = self.top.data\n",
    "        self.top = self.top.next\n",
    "        return popped_item\n",
    "    else:\n",
    "        print(\"Stack is empty\")"
   ]
  },
  {
   "cell_type": "code",
   "execution_count": 153,
   "id": "1929eb4e-6760-4103-b650-2fabcf337d0d",
   "metadata": {},
   "outputs": [],
   "source": [
    "#  The size() method calculates the number of elements in the stack by traversing the linked nodes."
   ]
  },
  {
   "cell_type": "code",
   "execution_count": 154,
   "id": "27aa33d5-e571-412a-bd1b-8f18a38b1c7a",
   "metadata": {},
   "outputs": [],
   "source": [
    "def size(self):\n",
    "  current = self.top\n",
    "  count = 0\n",
    "  while current:\n",
    "    count += 1\n",
    "    current = current.next\n",
    "  return count"
   ]
  },
  {
   "cell_type": "markdown",
   "id": "3d87bbc4-a95f-48a8-8dc0-9e13986f3053",
   "metadata": {},
   "source": [
    "## 3. NOW CREATING INSTANCES:"
   ]
  },
  {
   "cell_type": "code",
   "execution_count": 155,
   "id": "2528ed8e-2e96-45ad-beab-a1fbf495d247",
   "metadata": {},
   "outputs": [],
   "source": [
    "# Creating instances of Node base Stack and apply push pop and other methods on that instance"
   ]
  },
  {
   "cell_type": "code",
   "execution_count": 157,
   "id": "ce037eb8-e310-4fe9-ba8c-b0e5c87d3f2c",
   "metadata": {},
   "outputs": [],
   "source": [
    "class Node:\n",
    "    def __init__(self, data):\n",
    "        self.data = data\n",
    "        self.next = None\n",
    "\n",
    "class NodeStack:\n",
    "    def __init__(self):\n",
    "        self.top = None\n",
    "\n",
    "    def push(self, item):\n",
    "        new_node = Node(item)\n",
    "        new_node.next = self.top\n",
    "        self.top = new_node\n",
    "\n",
    "    def pop(self):\n",
    "        if not self.is_empty():\n",
    "            popped_item = self.top.data\n",
    "            self.top = self.top.next\n",
    "            return popped_item\n",
    "        else:\n",
    "            print(\"Stack is empty\")\n",
    "\n",
    "    def peek(self):\n",
    "        if not self.is_empty():\n",
    "            return self.top.data\n",
    "        else:\n",
    "            print(\"Stack is empty\")\n",
    "\n",
    "    def size(self):\n",
    "        current = self.top\n",
    "        count = 0\n",
    "        while current:\n",
    "            count += 1\n",
    "            current = current.next\n",
    "        return count\n",
    "\n",
    "    def is_empty(self):\n",
    "        return self.top is None"
   ]
  },
  {
   "cell_type": "code",
   "execution_count": 159,
   "id": "d8e567a5-22d4-480e-8b2f-9d11ebf6c07b",
   "metadata": {},
   "outputs": [
    {
     "name": "stdout",
     "output_type": "stream",
     "text": [
      "Peek: 3\n",
      "Pop: 3\n",
      "Stack size: 2\n"
     ]
    }
   ],
   "source": [
    "stack = NodeStack()\n",
    "stack.push(1)\n",
    "stack.push(2)\n",
    "stack.push(3)\n",
    "print(\"Peek:\", stack.peek()) \n",
    "print(\"Pop:\", stack.pop()) \n",
    "print(\"Stack size:\", stack.size())"
   ]
  }
 ],
 "metadata": {
  "kernelspec": {
   "display_name": "Python 3 (ipykernel)",
   "language": "python",
   "name": "python3"
  },
  "language_info": {
   "codemirror_mode": {
    "name": "ipython",
    "version": 3
   },
   "file_extension": ".py",
   "mimetype": "text/x-python",
   "name": "python",
   "nbconvert_exporter": "python",
   "pygments_lexer": "ipython3",
   "version": "3.9.19"
  }
 },
 "nbformat": 4,
 "nbformat_minor": 5
}
