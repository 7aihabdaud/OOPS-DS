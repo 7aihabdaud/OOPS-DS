{
 "cells": [
  {
   "cell_type": "markdown",
   "id": "04006bb5-c9af-4c1e-a7e5-ed9856c5cc54",
   "metadata": {},
   "source": [
    "# Lab 08"
   ]
  },
  {
   "cell_type": "markdown",
   "id": "1303ee3c-d3f1-48b9-bd82-5f79c7274149",
   "metadata": {},
   "source": [
    "# Problem"
   ]
  },
  {
   "cell_type": "markdown",
   "id": "fdad3e1d-1653-4450-b11d-a27b18283dec",
   "metadata": {},
   "source": [
    "ProductivitySystem tracks productivity based on employee roles. \n",
    "There are different employee roles:\n",
    "•\tManagers: They walk around yelling at people, telling them what to do. They’re salaried employees and make more money.\n",
    "\n",
    "•\tSecretaries: They do all the paperwork for managers and ensure that everything gets billed and payed on time. They’re also salaried employees but make less money.\n",
    "\n",
    "•\tSales employees: They make a lot of phone calls to sell products. They have a salary, but they also get commissions for sales.\n",
    "\n",
    "•\tFactory workers: They manufacture the products for the company. They’re paid by the hour.\n",
    "\n",
    "First, you add a Manager class that derives from SalaryEmployee. The class exposes a .work() method that the productivity system will use. The method takes the hours that the employee worked.\n",
    "\n",
    "Then you add Secretary, SalesPerson, and FactoryWorker and then implement the .work() interface, so they can be used by the productivity system\n"
   ]
  },
  {
   "cell_type": "code",
   "execution_count": 61,
   "id": "68bbe1ed-848f-4119-bec4-8481a6fe32cf",
   "metadata": {},
   "outputs": [],
   "source": [
    "class PayrollSystem:\n",
    "    def calculate_payroll(self, employees):\n",
    "        print(\"Calculating Payroll\")\n",
    "        print(\"===================\")\n",
    "        for employee in employees:\n",
    "            print(f\"Payroll for: {employee.id} - {employee.name}\")\n",
    "            print(f\"- Check amount: {employee.calculate_payroll()}\")\n",
    "            print(\"\")"
   ]
  },
  {
   "cell_type": "code",
   "execution_count": 62,
   "id": "bb727773-b861-4426-976d-59c4cd9f6e9b",
   "metadata": {},
   "outputs": [],
   "source": [
    "class Employee:\n",
    "    def __init__(self, id, name):\n",
    "        self.id = id\n",
    "        self.name = name"
   ]
  },
  {
   "cell_type": "raw",
   "id": "ad7a40d2-c2cd-4714-88a0-2416de71d489",
   "metadata": {},
   "source": [
    "# SalaryEmployee"
   ]
  },
  {
   "cell_type": "code",
   "execution_count": 63,
   "id": "98a0f07d-8795-47b4-b1ac-fb34f8edf40b",
   "metadata": {},
   "outputs": [],
   "source": [
    "class SalaryEmployee(Employee):\n",
    "    def __init__(self, id, name, weekly_salary):\n",
    "        super().__init__(id, name)\n",
    "        self.weekly_salary = weekly_salary\n",
    "\n",
    "    def calculate_payroll(self):\n",
    "        return self.weekly_salary"
   ]
  },
  {
   "cell_type": "code",
   "execution_count": 64,
   "id": "4c9c2b0e-6207-401e-9283-88b2eb7b4365",
   "metadata": {},
   "outputs": [],
   "source": [
    "A=SalaryEmployee(2, 32, \"Aihab\")"
   ]
  },
  {
   "cell_type": "code",
   "execution_count": 65,
   "id": "b371cb20-5d1c-4b34-87a5-a659f7612740",
   "metadata": {},
   "outputs": [
    {
     "data": {
      "text/plain": [
       "<bound method SalaryEmployee.calculate_payroll of <__main__.SalaryEmployee object at 0x000001C5168203A0>>"
      ]
     },
     "execution_count": 65,
     "metadata": {},
     "output_type": "execute_result"
    }
   ],
   "source": [
    "A.calculate_payroll"
   ]
  },
  {
   "cell_type": "raw",
   "id": "76a12836-e184-4049-af26-a917e58c8121",
   "metadata": {},
   "source": [
    "# Hourlyemployee"
   ]
  },
  {
   "cell_type": "code",
   "execution_count": 66,
   "id": "5b34cd45-4b80-44d2-b1e4-ac8be9a3de35",
   "metadata": {},
   "outputs": [],
   "source": [
    "class HourlyEmployee(Employee):\n",
    "    def __init__(self, id, name, hours_worked, hourly_rate):\n",
    "        super().__init__(id, name)\n",
    "        self.hours_worked = hours_worked\n",
    "        self.hourly_rate = hourly_rate\n",
    "    def calculate_payroll(self):\n",
    "        return self.hours_worked * self.hourly_rate"
   ]
  },
  {
   "cell_type": "code",
   "execution_count": 71,
   "id": "a85ecc1f-f730-4748-8b9c-c531de1e0cfb",
   "metadata": {},
   "outputs": [],
   "source": [
    "a=HourlyEmployee(2,\"aihab\",12, 20)"
   ]
  },
  {
   "cell_type": "code",
   "execution_count": 72,
   "id": "137becc7-5a76-4b59-8125-df18d76e8540",
   "metadata": {},
   "outputs": [
    {
     "data": {
      "text/plain": [
       "240"
      ]
     },
     "execution_count": 72,
     "metadata": {},
     "output_type": "execute_result"
    }
   ],
   "source": [
    "a.calculate_payroll()"
   ]
  },
  {
   "cell_type": "raw",
   "id": "26092613-8120-452b-8aae-0a2587ac9b4b",
   "metadata": {},
   "source": [
    "# CommissionEmployee"
   ]
  },
  {
   "cell_type": "code",
   "execution_count": 73,
   "id": "92141ac3-f838-4b1b-8e73-b2f871d91b6b",
   "metadata": {},
   "outputs": [],
   "source": [
    "class CommissionEmployee(SalaryEmployee):\n",
    "    def __init__(self, id, name, weekly_salary, commission):\n",
    "        super().__init__(id, name, weekly_salary)\n",
    "        self.commission = commission\n",
    "\n",
    "    def calculate_payroll(self):\n",
    "        fixed = super().calculate_payroll()\n",
    "        return fixed + self.commission"
   ]
  },
  {
   "cell_type": "code",
   "execution_count": 74,
   "id": "a8488054-70f9-4e3f-bb38-4ecd9f6d8479",
   "metadata": {},
   "outputs": [],
   "source": [
    "a= CommissionEmployee(2, \"aihab\", 40, 10)"
   ]
  },
  {
   "cell_type": "code",
   "execution_count": 75,
   "id": "61b50090-6482-49f5-b233-b3530c4e6c94",
   "metadata": {},
   "outputs": [
    {
     "data": {
      "text/plain": [
       "50"
      ]
     },
     "execution_count": 75,
     "metadata": {},
     "output_type": "execute_result"
    }
   ],
   "source": [
    "a.calculate_payroll()"
   ]
  },
  {
   "cell_type": "raw",
   "id": "0f4186e2-4df2-49a5-b383-0921d49ffc89",
   "metadata": {},
   "source": [
    "# Manager"
   ]
  },
  {
   "cell_type": "code",
   "execution_count": 76,
   "id": "f00f2924-afd5-4de8-a6fd-ed1330b4701c",
   "metadata": {},
   "outputs": [],
   "source": [
    "class Manager(SalaryEmployee):\n",
    "    def work(self, hours):\n",
    "        print(f\"{self.name} screams and yells for {hours} hours.\")"
   ]
  },
  {
   "cell_type": "code",
   "execution_count": 81,
   "id": "95a267cf-3353-4fe1-8812-25d21502dd2f",
   "metadata": {},
   "outputs": [],
   "source": [
    "a=Manager(4,\"Aihab\",40)"
   ]
  },
  {
   "cell_type": "code",
   "execution_count": 82,
   "id": "f38a5ca5-d480-4348-9544-d2affffde7d9",
   "metadata": {},
   "outputs": [
    {
     "name": "stdout",
     "output_type": "stream",
     "text": [
      "Aihab screams and yells for 11 hours.\n"
     ]
    }
   ],
   "source": [
    "a.work(11)"
   ]
  },
  {
   "cell_type": "raw",
   "id": "4eb08edd-aa7c-4e5f-b5ad-6ab3c6213dff",
   "metadata": {},
   "source": [
    "# Secretary"
   ]
  },
  {
   "cell_type": "code",
   "execution_count": 83,
   "id": "34db9cbb-283c-4f08-a419-93ee786023a9",
   "metadata": {},
   "outputs": [],
   "source": [
    "class Secretary(SalaryEmployee):\n",
    "    def work(self, hours):\n",
    "        print(f\"{self.name} expends {hours} hours doing office paperwork.\")\n"
   ]
  },
  {
   "cell_type": "code",
   "execution_count": 84,
   "id": "483f740d-3b76-4cc9-acd0-3520fbeed5d4",
   "metadata": {},
   "outputs": [],
   "source": [
    "a=Secretary(12,\"aihab\", 40)"
   ]
  },
  {
   "cell_type": "code",
   "execution_count": 85,
   "id": "e58c5f26-7180-4395-9539-ee36a1d5dd13",
   "metadata": {},
   "outputs": [
    {
     "name": "stdout",
     "output_type": "stream",
     "text": [
      "aihab expends 10 hours doing office paperwork.\n"
     ]
    }
   ],
   "source": [
    "a.work(10)"
   ]
  },
  {
   "cell_type": "raw",
   "id": "06cb0761-8070-4ba4-a1f4-46ec45cb8226",
   "metadata": {},
   "source": [
    "# SalesPerson"
   ]
  },
  {
   "cell_type": "code",
   "execution_count": 86,
   "id": "ae13ca79-5ac9-4fe4-8081-ae020f46eb65",
   "metadata": {},
   "outputs": [],
   "source": [
    "class SalesPerson(CommissionEmployee):\n",
    "    def work(self, hours):\n",
    "        print(f\"{self.name} expends {hours} hours on the phone.\")"
   ]
  },
  {
   "cell_type": "code",
   "execution_count": 88,
   "id": "4ce16a85-7f85-45d8-a5d3-708a4c88e6e1",
   "metadata": {},
   "outputs": [],
   "source": [
    "a=SalesPerson(2,\"aihab\",23,10)"
   ]
  },
  {
   "cell_type": "code",
   "execution_count": 89,
   "id": "9501376e-bfe3-4276-a04d-9374da2177d9",
   "metadata": {},
   "outputs": [
    {
     "name": "stdout",
     "output_type": "stream",
     "text": [
      "aihab expends 10 hours on the phone.\n"
     ]
    }
   ],
   "source": [
    "a.work(10)"
   ]
  },
  {
   "cell_type": "raw",
   "id": "bbe0c4fc-10ab-4181-af81-6df48519cf4a",
   "metadata": {},
   "source": [
    "# FactoryWorke"
   ]
  },
  {
   "cell_type": "code",
   "execution_count": 91,
   "id": "9091ce06-7bba-4107-9a90-116c23222edd",
   "metadata": {},
   "outputs": [],
   "source": [
    "class FactoryWorker(HourlyEmployee):\n",
    "    def work(self, hours):\n",
    "        print(f\"{self.name} manufactures gadgets for {hours} hours.\")"
   ]
  },
  {
   "cell_type": "code",
   "execution_count": 93,
   "id": "66499693-d355-412b-8bfb-5595642f5d3c",
   "metadata": {},
   "outputs": [],
   "source": [
    "a=FactoryWorker(12,\"aihab\",12.20,10)"
   ]
  },
  {
   "cell_type": "code",
   "execution_count": 94,
   "id": "37c2a557-21aa-4dea-b92c-2fda3b8e727a",
   "metadata": {},
   "outputs": [
    {
     "name": "stdout",
     "output_type": "stream",
     "text": [
      "aihab manufactures gadgets for 10 hours.\n"
     ]
    }
   ],
   "source": [
    "a.work(10)"
   ]
  },
  {
   "cell_type": "raw",
   "id": "2911ce05-5d71-4ec6-8579-1f54fbc9cef8",
   "metadata": {},
   "source": [
    "# TemporarySecretary"
   ]
  },
  {
   "cell_type": "code",
   "execution_count": 19,
   "id": "0bffa00d-ee71-44a4-976b-a9b8abb2ab00",
   "metadata": {},
   "outputs": [],
   "source": [
    "class TemporarySecretary(Secretary, HourlyEmployee):\n",
    "    def __init__(self, id, name, hours_worked, hourly_rate):\n",
    "        HourlyEmployee.__init__(self, id, name, hours_worked, hourly_rate)\n",
    "\n",
    "    def calculate_payroll(self):\n",
    "        return HourlyEmployee.calculate_payroll(self)"
   ]
  },
  {
   "cell_type": "code",
   "execution_count": null,
   "id": "37ffd43c-443e-43eb-a794-1af486697dd8",
   "metadata": {},
   "outputs": [],
   "source": []
  },
  {
   "cell_type": "code",
   "execution_count": null,
   "id": "eabb1c37-d5bf-4016-aa1e-acf512b28617",
   "metadata": {},
   "outputs": [],
   "source": []
  },
  {
   "cell_type": "code",
   "execution_count": null,
   "id": "20c76809-38a0-460f-a52b-0806eb6e8d45",
   "metadata": {},
   "outputs": [],
   "source": []
  },
  {
   "cell_type": "code",
   "execution_count": null,
   "id": "369e5b76-b2aa-4f1b-8d51-4bbe2b2116fc",
   "metadata": {},
   "outputs": [],
   "source": []
  },
  {
   "cell_type": "code",
   "execution_count": null,
   "id": "06eb0a5e-3a5a-4917-994d-819d91b3e783",
   "metadata": {},
   "outputs": [],
   "source": []
  },
  {
   "cell_type": "code",
   "execution_count": null,
   "id": "8647474f-738a-4217-9530-0344a260d2dd",
   "metadata": {},
   "outputs": [],
   "source": []
  },
  {
   "cell_type": "code",
   "execution_count": null,
   "id": "953a8d01-8fb3-4ffe-9f67-e7717d4a550c",
   "metadata": {},
   "outputs": [],
   "source": []
  },
  {
   "cell_type": "code",
   "execution_count": null,
   "id": "cb968e43-3c42-493a-b1e1-0d8ef33f6477",
   "metadata": {},
   "outputs": [],
   "source": []
  },
  {
   "cell_type": "code",
   "execution_count": null,
   "id": "b68e28eb-3753-495c-8df9-c49ce480a187",
   "metadata": {},
   "outputs": [],
   "source": []
  },
  {
   "cell_type": "code",
   "execution_count": null,
   "id": "227e8b7f-dfb5-4132-a017-ee905a4675c7",
   "metadata": {},
   "outputs": [],
   "source": []
  },
  {
   "cell_type": "code",
   "execution_count": null,
   "id": "e517ba1f-6c3f-43a2-9d9a-cb248ba0f5ce",
   "metadata": {},
   "outputs": [],
   "source": []
  },
  {
   "cell_type": "code",
   "execution_count": null,
   "id": "5f250906-2b60-45ae-8a97-dbecc0a8232d",
   "metadata": {},
   "outputs": [],
   "source": []
  },
  {
   "cell_type": "code",
   "execution_count": null,
   "id": "dc612933-bf26-4bb5-b83d-ccc72d2a4053",
   "metadata": {},
   "outputs": [],
   "source": []
  },
  {
   "cell_type": "code",
   "execution_count": null,
   "id": "f2252373-7068-4432-beef-5670f0bf68da",
   "metadata": {},
   "outputs": [],
   "source": []
  },
  {
   "cell_type": "code",
   "execution_count": null,
   "id": "2866fe73-9d21-4bee-abd2-5b6cfce5ebfb",
   "metadata": {},
   "outputs": [],
   "source": []
  },
  {
   "cell_type": "code",
   "execution_count": null,
   "id": "0ec60822-9ac3-41ed-9137-963a889d6240",
   "metadata": {},
   "outputs": [],
   "source": []
  },
  {
   "cell_type": "code",
   "execution_count": null,
   "id": "3e17e0c4-0553-4c8f-ac73-c34da025b946",
   "metadata": {},
   "outputs": [],
   "source": []
  },
  {
   "cell_type": "code",
   "execution_count": null,
   "id": "2121cb83-5410-41a0-a534-f6d063db97e3",
   "metadata": {},
   "outputs": [],
   "source": []
  },
  {
   "cell_type": "code",
   "execution_count": null,
   "id": "0c89e26a-2285-48e2-a074-2b99851736c4",
   "metadata": {},
   "outputs": [],
   "source": []
  },
  {
   "cell_type": "code",
   "execution_count": null,
   "id": "33d55a91-c758-4ebe-bc65-6fdc2518346e",
   "metadata": {},
   "outputs": [],
   "source": []
  },
  {
   "cell_type": "code",
   "execution_count": null,
   "id": "81a85487-5601-4e41-98fd-07017db43f53",
   "metadata": {},
   "outputs": [],
   "source": []
  },
  {
   "cell_type": "code",
   "execution_count": null,
   "id": "73b638e1-5f02-41f9-b433-2866e01a6f87",
   "metadata": {},
   "outputs": [],
   "source": []
  },
  {
   "cell_type": "code",
   "execution_count": null,
   "id": "b638650d-5b7f-445d-ac2e-ae11b9b2c5a1",
   "metadata": {},
   "outputs": [],
   "source": []
  },
  {
   "cell_type": "code",
   "execution_count": null,
   "id": "2d8abdbb-e96f-4e49-9289-37a44ab80013",
   "metadata": {},
   "outputs": [],
   "source": []
  },
  {
   "cell_type": "code",
   "execution_count": null,
   "id": "86fedd5d-e723-45c3-91b3-c7031f23cf3e",
   "metadata": {},
   "outputs": [],
   "source": []
  },
  {
   "cell_type": "code",
   "execution_count": null,
   "id": "f5216543-0bc7-4ba2-9b02-6bd8c7fec7ef",
   "metadata": {},
   "outputs": [],
   "source": []
  },
  {
   "cell_type": "code",
   "execution_count": null,
   "id": "91e1a3a5-9330-4319-94de-8b9379b5282e",
   "metadata": {},
   "outputs": [],
   "source": []
  },
  {
   "cell_type": "code",
   "execution_count": null,
   "id": "3401dc32-c6e6-49a8-b272-b5f15a33b5c7",
   "metadata": {},
   "outputs": [],
   "source": []
  },
  {
   "cell_type": "code",
   "execution_count": null,
   "id": "791f67ec-3f79-428e-b90b-9bdd1ba7548c",
   "metadata": {},
   "outputs": [],
   "source": []
  },
  {
   "cell_type": "code",
   "execution_count": null,
   "id": "cf4b3952-402e-4278-9011-d310971d9381",
   "metadata": {},
   "outputs": [],
   "source": []
  },
  {
   "cell_type": "code",
   "execution_count": null,
   "id": "509fd87d-a526-4628-9046-940c686be3ce",
   "metadata": {},
   "outputs": [],
   "source": []
  },
  {
   "cell_type": "code",
   "execution_count": null,
   "id": "497d0560-32df-45cb-8814-b18d87f5e8a6",
   "metadata": {},
   "outputs": [],
   "source": []
  },
  {
   "cell_type": "code",
   "execution_count": null,
   "id": "1cc4ecce-95be-413c-a70f-b2be06853cae",
   "metadata": {},
   "outputs": [],
   "source": []
  },
  {
   "cell_type": "code",
   "execution_count": null,
   "id": "b4802deb-3a55-4214-ac69-bd2a59a13b4f",
   "metadata": {},
   "outputs": [],
   "source": []
  }
 ],
 "metadata": {
  "kernelspec": {
   "display_name": "Python 3 (ipykernel)",
   "language": "python",
   "name": "python3"
  },
  "language_info": {
   "codemirror_mode": {
    "name": "ipython",
    "version": 3
   },
   "file_extension": ".py",
   "mimetype": "text/x-python",
   "name": "python",
   "nbconvert_exporter": "python",
   "pygments_lexer": "ipython3",
   "version": "3.9.19"
  }
 },
 "nbformat": 4,
 "nbformat_minor": 5
}
