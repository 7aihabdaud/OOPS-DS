{
 "cells": [
  {
   "cell_type": "markdown",
   "id": "9b2b286a-fc06-4958-b9f6-ba5386ec5945",
   "metadata": {},
   "source": [
    "<font color='teal'>\n",
    "\n",
    "#  *Aihab Daud*\n",
    "##  *REG # 23jzelel0509*\n",
    "\n",
    "</font>"
   ]
  },
  {
   "cell_type": "markdown",
   "id": "f86eea77-bf04-458e-b5e3-ca92c445f5ee",
   "metadata": {},
   "source": [
    "<font color='teal'>\n",
    "\n",
    "### Subject: OOP & DS\n",
    "### **LAB-02**\n",
    "\n",
    "\n",
    "</font>"
   ]
  },
  {
   "cell_type": "markdown",
   "id": "f6f52898-1158-4afe-a57e-b14100c6a5c5",
   "metadata": {},
   "source": [
    "<font color='teal'>\n",
    "\n",
    "####     SUBJECT\n",
    "#####           *Classes, objects, and instances (1)*\n",
    "\n",
    "\n",
    "\n",
    "</font>"
   ]
  },
  {
   "cell_type": "markdown",
   "id": "28ebcc7a-00da-4d09-ab3b-11067c14d46d",
   "metadata": {},
   "source": [
    "<font color='maroon'>\n",
    "    \n",
    "# Lab work tasks:\n",
    "</font>"
   ]
  },
  {
   "cell_type": "markdown",
   "id": "11cfb49d-b000-4618-8304-9244e7fed3ab",
   "metadata": {},
   "source": [
    "## 1) Motivation"
   ]
  },
  {
   "cell_type": "code",
   "execution_count": 14,
   "id": "644cf2e9-bcfe-4197-a322-47520847478f",
   "metadata": {},
   "outputs": [],
   "source": [
    "# Interest is to make a list that can store employee data.[name, age, position, the year they started working]"
   ]
  },
  {
   "cell_type": "code",
   "execution_count": 27,
   "id": "962688da-ded7-4ff9-ae1e-f3877692cfe2",
   "metadata": {},
   "outputs": [],
   "source": [
    "class Employee:\n",
    "    def __init__(self, name, age, position, start_year):\n",
    "        self.name = name\n",
    "        self.age = age\n",
    "        self.position = position\n",
    "        self.start_year = start_year\n",
    "\n",
    "    def __str__(self):\n",
    "        return f\"Name: {self.name}, Age: {self.age}, Position: {self.position}, Start Year: {self.start_year}\""
   ]
  },
  {
   "cell_type": "code",
   "execution_count": 28,
   "id": "4294b56b-b591-4c93-be2f-a105ac5f41c7",
   "metadata": {},
   "outputs": [],
   "source": [
    "kirk = Employee(\"James Kirk\", 34, \"Captain\", 2265)\n",
    "spock = Employee(\"Spock\", 35, \"Science Officer\", 2254)\n",
    "mccoy = Employee(\"Leonard McCoy\", None, \"Chief Medical Officer\", 2266)  "
   ]
  },
  {
   "cell_type": "code",
   "execution_count": 29,
   "id": "fc42a882-f928-493d-b011-98634779d3b2",
   "metadata": {},
   "outputs": [
    {
     "name": "stdout",
     "output_type": "stream",
     "text": [
      "James Kirk\n"
     ]
    }
   ],
   "source": [
    "print(kirk.name)"
   ]
  },
  {
   "cell_type": "code",
   "execution_count": 30,
   "id": "31eea540-3e94-4446-8b19-bb885f4c8330",
   "metadata": {},
   "outputs": [
    {
     "name": "stdout",
     "output_type": "stream",
     "text": [
      "Chief Medical Officer\n"
     ]
    }
   ],
   "source": [
    "print(mccoy.position)"
   ]
  },
  {
   "cell_type": "code",
   "execution_count": 31,
   "id": "dca89934-af8e-446b-9935-768f758ae322",
   "metadata": {},
   "outputs": [
    {
     "name": "stdout",
     "output_type": "stream",
     "text": [
      "Name: James Kirk, Age: 34, Position: Captain, Start Year: 2265\n",
      "Name: Spock, Age: 35, Position: Science Officer, Start Year: 2254\n",
      "Name: Leonard McCoy, Age: None, Position: Chief Medical Officer, Start Year: 2266\n"
     ]
    }
   ],
   "source": [
    "print(kirk)\n",
    "print(spock)\n",
    "print(mccoy)"
   ]
  },
  {
   "cell_type": "markdown",
   "id": "39ab2445-5d5e-44f8-a481-9edffceb492d",
   "metadata": {},
   "source": [
    "## 2. Dog class"
   ]
  },
  {
   "cell_type": "markdown",
   "id": "8ba8066f-427c-413f-893b-1e9f69800c83",
   "metadata": {},
   "source": [
    "Creating a new object from a class is called instantiating a class. You can create a new object by typing the name of the class, followed by opening and closing parentheses:\n"
   ]
  },
  {
   "cell_type": "code",
   "execution_count": 33,
   "id": "eb7809b2-8692-43e9-9500-a852ea4c8c47",
   "metadata": {},
   "outputs": [],
   "source": [
    "# # dog.py"
   ]
  },
  {
   "cell_type": "code",
   "execution_count": 34,
   "id": "2a82d126-85ea-44af-ae53-7fd0bf42a734",
   "metadata": {},
   "outputs": [],
   "source": [
    "class Dog:\n",
    "    pass"
   ]
  },
  {
   "cell_type": "code",
   "execution_count": 35,
   "id": "3cd21e3f-b61d-44f0-8368-2f83a0eeaa2a",
   "metadata": {},
   "outputs": [],
   "source": [
    "# Create two new Dog objects and assign them to the variables a and b."
   ]
  },
  {
   "cell_type": "code",
   "execution_count": 36,
   "id": "7e2a4a0c-74ac-4244-8099-211e26346a94",
   "metadata": {},
   "outputs": [],
   "source": [
    "a = Dog()"
   ]
  },
  {
   "cell_type": "code",
   "execution_count": 37,
   "id": "772d7f50-d0b9-4d29-9f6b-9eb4b5f77c46",
   "metadata": {},
   "outputs": [],
   "source": [
    "b = Dog()"
   ]
  },
  {
   "cell_type": "code",
   "execution_count": 38,
   "id": "5689be10-9de2-436d-a7a5-fd6400adccba",
   "metadata": {},
   "outputs": [],
   "source": [
    "# Compare a and b using the == operator"
   ]
  },
  {
   "cell_type": "code",
   "execution_count": 39,
   "id": "305dc649-83bf-4243-8aad-a57759d3934a",
   "metadata": {},
   "outputs": [
    {
     "name": "stdout",
     "output_type": "stream",
     "text": [
      "False\n"
     ]
    }
   ],
   "source": [
    "print(a == b) "
   ]
  },
  {
   "cell_type": "code",
   "execution_count": 40,
   "id": "89726dfc-c886-4a68-8188-e3fc6ab305d8",
   "metadata": {},
   "outputs": [],
   "source": [
    "# Print the instances/objects"
   ]
  },
  {
   "cell_type": "code",
   "execution_count": 41,
   "id": "47387498-6c4b-485a-bcfa-861abd33de4f",
   "metadata": {},
   "outputs": [
    {
     "name": "stdout",
     "output_type": "stream",
     "text": [
      "<__main__.Dog object at 0x000002857B1E7E20>\n"
     ]
    }
   ],
   "source": [
    "print(a)  "
   ]
  },
  {
   "cell_type": "code",
   "execution_count": 42,
   "id": "39a9482d-366e-45fb-8984-d3da2ff1a0f2",
   "metadata": {},
   "outputs": [
    {
     "name": "stdout",
     "output_type": "stream",
     "text": [
      "<__main__.Dog object at 0x000002857B1E7FD0>\n"
     ]
    }
   ],
   "source": [
    "print(b) "
   ]
  },
  {
   "cell_type": "markdown",
   "id": "dea14ff7-eba8-4a2a-b8f3-4a195373bad3",
   "metadata": {},
   "source": [
    "## 3. Following is a class named MyFirstClass. "
   ]
  },
  {
   "cell_type": "code",
   "execution_count": 48,
   "id": "d73dfcde-434e-4b4a-8f6a-46d14d633004",
   "metadata": {},
   "outputs": [],
   "source": [
    "class MyFirstClass:\n",
    "    pass"
   ]
  },
  {
   "cell_type": "code",
   "execution_count": 49,
   "id": "4c143d08-11d8-4755-b530-ad9565e9cb88",
   "metadata": {},
   "outputs": [],
   "source": [
    "# Make two instances named FC1 and FC2."
   ]
  },
  {
   "cell_type": "code",
   "execution_count": 50,
   "id": "1ba6676a-2dd8-46e6-a324-a157789b9d43",
   "metadata": {},
   "outputs": [],
   "source": [
    "FC1 = MyFirstClass()"
   ]
  },
  {
   "cell_type": "code",
   "execution_count": 51,
   "id": "b260f241-91da-40cb-9977-489439d82e0d",
   "metadata": {},
   "outputs": [],
   "source": [
    "FC2 = MyFirstClass()"
   ]
  },
  {
   "cell_type": "code",
   "execution_count": 52,
   "id": "d99e8702-859a-48c0-ba34-1179d2c8ba48",
   "metadata": {},
   "outputs": [],
   "source": [
    "# Check whether FC1 and FC2 represent the same object or not"
   ]
  },
  {
   "cell_type": "code",
   "execution_count": 58,
   "id": "5a082fff-a242-4c4f-9fa5-ade70bcb55a8",
   "metadata": {},
   "outputs": [
    {
     "name": "stdout",
     "output_type": "stream",
     "text": [
      "False\n"
     ]
    }
   ],
   "source": [
    "print(FC1 is FC2)  "
   ]
  },
  {
   "cell_type": "code",
   "execution_count": 54,
   "id": "b6df5881-dca8-40fa-bde6-bd6089cc365a",
   "metadata": {},
   "outputs": [],
   "source": [
    "# the print command and print both instances."
   ]
  },
  {
   "cell_type": "code",
   "execution_count": 56,
   "id": "198a64eb-55ed-4d84-91e6-61b201bb8125",
   "metadata": {},
   "outputs": [
    {
     "name": "stdout",
     "output_type": "stream",
     "text": [
      "<__main__.MyFirstClass object at 0x000002857B15C670>\n"
     ]
    }
   ],
   "source": [
    "print(FC1) "
   ]
  },
  {
   "cell_type": "code",
   "execution_count": 57,
   "id": "dabbcf27-c35e-473a-a5df-629f50e69bbf",
   "metadata": {},
   "outputs": [
    {
     "name": "stdout",
     "output_type": "stream",
     "text": [
      "<__main__.MyFirstClass object at 0x000002857B1E7D60>\n"
     ]
    }
   ],
   "source": [
    "print(FC2)  # Output: <__main__.MyFirstClass object at 0x...>"
   ]
  },
  {
   "cell_type": "markdown",
   "id": "4cd21b58-2013-4111-aa98-d7831ece67fe",
   "metadata": {},
   "source": [
    "## 4. Consider the following class definition. "
   ]
  },
  {
   "cell_type": "code",
   "execution_count": 60,
   "id": "5b374b4a-159b-425c-9671-ecb452faed0b",
   "metadata": {},
   "outputs": [],
   "source": [
    "class Point:\n",
    "    pass"
   ]
  },
  {
   "cell_type": "code",
   "execution_count": 68,
   "id": "3a46b628-9312-46fa-b266-9606758b1aff",
   "metadata": {},
   "outputs": [],
   "source": [
    "# a. Make two instances named p1 and p2."
   ]
  },
  {
   "cell_type": "code",
   "execution_count": 69,
   "id": "0e315344-ecec-4a99-a56c-a37a712ca220",
   "metadata": {},
   "outputs": [],
   "source": [
    "p1 = Point()"
   ]
  },
  {
   "cell_type": "code",
   "execution_count": 70,
   "id": "6e2d6e89-397e-4f78-a83b-13d77d3a8e6c",
   "metadata": {},
   "outputs": [],
   "source": [
    "p2 = Point()"
   ]
  },
  {
   "cell_type": "code",
   "execution_count": 71,
   "id": "29ffe218-c0ba-45c6-a519-c44557237606",
   "metadata": {},
   "outputs": [],
   "source": [
    "# b. Print both objects p1 and p2."
   ]
  },
  {
   "cell_type": "code",
   "execution_count": 72,
   "id": "00b97f13-f98e-4159-ba0b-b2f323bb68c5",
   "metadata": {},
   "outputs": [
    {
     "name": "stdout",
     "output_type": "stream",
     "text": [
      "<__main__.Point object at 0x000002857B23B2B0>\n"
     ]
    }
   ],
   "source": [
    "print(p1) "
   ]
  },
  {
   "cell_type": "code",
   "execution_count": 73,
   "id": "54cf3548-24b0-4ff5-8b39-0dcdafd8b0b1",
   "metadata": {},
   "outputs": [
    {
     "name": "stdout",
     "output_type": "stream",
     "text": [
      "<__main__.Point object at 0x000002857B23BFD0>\n"
     ]
    }
   ],
   "source": [
    "print(p2)  "
   ]
  },
  {
   "cell_type": "code",
   "execution_count": 75,
   "id": "78a63f39-6890-4eb1-bba7-0cb39b773645",
   "metadata": {},
   "outputs": [],
   "source": [
    "# c. Try different names for objects, instead of p1 and p2. \n",
    "# Also, use different attribute names."
   ]
  },
  {
   "cell_type": "code",
   "execution_count": 76,
   "id": "91635b39-357f-4654-b47e-2fcfbca9cbf6",
   "metadata": {},
   "outputs": [],
   "source": [
    "my_point = Point()\n",
    "another_point = Point()"
   ]
  },
  {
   "cell_type": "code",
   "execution_count": 79,
   "id": "4d59dc33-de82-4f05-b28a-3cf72b43f484",
   "metadata": {},
   "outputs": [],
   "source": [
    "# Different attribute names and values"
   ]
  },
  {
   "cell_type": "code",
   "execution_count": 80,
   "id": "1e941dd0-b36e-43fc-bcf0-1cc5709b95da",
   "metadata": {},
   "outputs": [],
   "source": [
    "my_point.x_coordinate = 10\n",
    "my_point.y_coordinate = 5\n",
    "another_point.location = \"origin\"\n",
    "another_point.color = \"red\""
   ]
  },
  {
   "cell_type": "code",
   "execution_count": 81,
   "id": "d820840d-7d67-4c72-8df9-36342a11c7ef",
   "metadata": {},
   "outputs": [
    {
     "name": "stdout",
     "output_type": "stream",
     "text": [
      "10\n",
      "5\n",
      "origin\n",
      "red\n"
     ]
    }
   ],
   "source": [
    "print(my_point.x_coordinate)  # Output: 10\n",
    "print(my_point.y_coordinate)  # Output: 5\n",
    "print(another_point.location)  # Output: origin\n",
    "print(another_point.color)  # Output: red"
   ]
  },
  {
   "cell_type": "markdown",
   "id": "cb0ddedb-ac96-40ff-b52f-d6bf8c4333c2",
   "metadata": {},
   "source": [
    "## 5. Update the Dog class with an __init__() method that creates .name and .age attributes:"
   ]
  },
  {
   "cell_type": "code",
   "execution_count": 82,
   "id": "ac18c20c-0d2f-45c0-b439-8fca694b3ef9",
   "metadata": {},
   "outputs": [],
   "source": [
    "class Dog:\n",
    "    def __init__(self, name, age):\n",
    "        self.name = name\n",
    "        self.age = age"
   ]
  },
  {
   "cell_type": "code",
   "execution_count": 86,
   "id": "ee111f78-de2b-4a29-8d75-e58eaa522766",
   "metadata": {},
   "outputs": [],
   "source": [
    "# a. Run: miles = Dog(\"Miles\", 4)"
   ]
  },
  {
   "cell_type": "code",
   "execution_count": 87,
   "id": "d8642924-c0cc-449a-9a9d-f0479564d707",
   "metadata": {},
   "outputs": [],
   "source": [
    "miles = Dog(\"Miles\", 4)"
   ]
  },
  {
   "cell_type": "code",
   "execution_count": 88,
   "id": "b3d70b18-289e-41d8-a01d-5a2b2757bf6f",
   "metadata": {},
   "outputs": [],
   "source": [
    "# b. Print miles"
   ]
  },
  {
   "cell_type": "code",
   "execution_count": 89,
   "id": "fa5b6d0c-4017-40f6-8eea-604402ec16a9",
   "metadata": {},
   "outputs": [
    {
     "name": "stdout",
     "output_type": "stream",
     "text": [
      "<__main__.Dog object at 0x000002857B373040>\n"
     ]
    }
   ],
   "source": [
    "print(miles)  "
   ]
  },
  {
   "cell_type": "markdown",
   "id": "03531309-e713-494c-8069-6138c4ddc4ff",
   "metadata": {},
   "source": [
    "## 6. Create a new Dog class with a class attribute called. species and two instance attributes called .name and .age:"
   ]
  },
  {
   "cell_type": "code",
   "execution_count": 98,
   "id": "09b949c2-2c2b-4d45-8af3-10a355ea7375",
   "metadata": {},
   "outputs": [],
   "source": [
    "class Dog:\n",
    "    species = \"Canis familiaris\"  \n",
    "    def __init__(self, name, age):\n",
    "        self.name = name  \n",
    "        self.age = age  "
   ]
  },
  {
   "cell_type": "code",
   "execution_count": 99,
   "id": "de195891-8b43-4956-94ab-72981fb8e098",
   "metadata": {},
   "outputs": [],
   "source": [
    "# b. To pass arguments to the name and age parameters, put values into the parentheses\n",
    "# after the class name:"
   ]
  },
  {
   "cell_type": "code",
   "execution_count": 100,
   "id": "f9936818-7bc4-46fd-8c45-e39decb3dead",
   "metadata": {},
   "outputs": [],
   "source": [
    "miles = Dog(\"Miles\", 4)\n",
    "buddy = Dog(\"Buddy\", 9)"
   ]
  },
  {
   "cell_type": "code",
   "execution_count": 101,
   "id": "10981f29-3745-4165-86e3-0dc41e503ac6",
   "metadata": {},
   "outputs": [],
   "source": [
    "# c. After you create the Dog instances, you can access their instance attributes using dot notation:"
   ]
  },
  {
   "cell_type": "code",
   "execution_count": 102,
   "id": "d8ed0da8-4a0e-4a49-85d1-a43c009a5020",
   "metadata": {},
   "outputs": [
    {
     "name": "stdout",
     "output_type": "stream",
     "text": [
      "Miles:\n",
      "Name: Miles, Age: 4, Species: Canis familiaris\n"
     ]
    }
   ],
   "source": [
    "print(\"Miles:\")\n",
    "print(f\"Name: {miles.name}, Age: {miles.age}, Species: {miles.species}\")"
   ]
  },
  {
   "cell_type": "code",
   "execution_count": 103,
   "id": "f4350af5-243a-46d3-9e5a-7d6cd159fe28",
   "metadata": {},
   "outputs": [
    {
     "name": "stdout",
     "output_type": "stream",
     "text": [
      "\n",
      "Buddy:\n",
      "Name: Buddy, Age: 9, Species: Canis familiaris\n"
     ]
    }
   ],
   "source": [
    "print(\"\\nBuddy:\")\n",
    "print(f\"Name: {buddy.name}, Age: {buddy.age}, Species: {buddy.species}\")"
   ]
  },
  {
   "cell_type": "code",
   "execution_count": 104,
   "id": "045dadf6-1c33-443b-9cb9-7014e5608b30",
   "metadata": {},
   "outputs": [],
   "source": [
    "# d. Although the attributes are guaranteed to exist, their values can change dynamically:"
   ]
  },
  {
   "cell_type": "code",
   "execution_count": 105,
   "id": "34dd63a8-3d0c-4719-9b30-f95ccdc51610",
   "metadata": {},
   "outputs": [],
   "source": [
    "buddy.age = 10\n",
    "miles.species = \"Felis silvestris\"  "
   ]
  },
  {
   "cell_type": "code",
   "execution_count": 106,
   "id": "57d4731e-09d8-464d-b98c-2179051f159b",
   "metadata": {},
   "outputs": [
    {
     "name": "stdout",
     "output_type": "stream",
     "text": [
      "\n",
      "Buddy (after age update):\n",
      "Name: Buddy, Age: 10, Species: Canis familiaris\n"
     ]
    }
   ],
   "source": [
    "print(\"\\nBuddy (after age update):\")\n",
    "print(f\"Name: {buddy.name}, Age: {buddy.age}, Species: {buddy.species}\")"
   ]
  },
  {
   "cell_type": "code",
   "execution_count": 107,
   "id": "6b68060a-5dde-4385-9533-43aec2623d8f",
   "metadata": {},
   "outputs": [
    {
     "name": "stdout",
     "output_type": "stream",
     "text": [
      "\n",
      "Miles (after species update):\n",
      "Name: Miles, Age: 4, Species: Felis silvestris\n"
     ]
    }
   ],
   "source": [
    "print(\"\\nMiles (after species update):\")\n",
    "print(f\"Name: {miles.name}, Age: {miles.age}, Species: {miles.species}\")"
   ]
  },
  {
   "cell_type": "markdown",
   "id": "ddb66972-8db2-4e36-9e4f-5848a5a16ad1",
   "metadata": {},
   "source": [
    "## 7. Define a class point in 2 dimension coordinate system."
   ]
  },
  {
   "cell_type": "code",
   "execution_count": 7,
   "id": "1e8898da-5208-4ea9-ab03-f95a5a76bf86",
   "metadata": {},
   "outputs": [],
   "source": [
    "# a. Define point1 and pass two numbers."
   ]
  },
  {
   "cell_type": "code",
   "execution_count": 8,
   "id": "b4ebdd4e-0e7a-46e3-87df-f67c5253c70b",
   "metadata": {},
   "outputs": [],
   "source": [
    "point1 = Point(3, 4)"
   ]
  },
  {
   "cell_type": "code",
   "execution_count": 9,
   "id": "8c44ab31-760b-4b8d-bea5-69f43af5c5e8",
   "metadata": {},
   "outputs": [],
   "source": [
    "# b. Make another instance of the point class, say its name is p2."
   ]
  },
  {
   "cell_type": "code",
   "execution_count": 10,
   "id": "36e14c90-e7b0-4d0d-baf0-0ff03d677b1c",
   "metadata": {},
   "outputs": [],
   "source": [
    "point2 = Point(1, 2)"
   ]
  },
  {
   "cell_type": "code",
   "execution_count": 11,
   "id": "078536db-60b5-4056-899e-e484ce3320cd",
   "metadata": {},
   "outputs": [],
   "source": [
    "# c. Print p1 and p2, for this use the print command and pass the point as input."
   ]
  },
  {
   "cell_type": "code",
   "execution_count": 12,
   "id": "1e4d2f7b-6229-4e62-86b6-b930f8332b3c",
   "metadata": {},
   "outputs": [
    {
     "name": "stdout",
     "output_type": "stream",
     "text": [
      "<__main__.Point object at 0x000001AD105A51C0>\n",
      "<__main__.Point object at 0x000001AD10593280>\n"
     ]
    }
   ],
   "source": [
    "print(point1)  # Output: <__main__.Point object at 0x...>\n",
    "print(point2)  # Output: <__main__.Point object at 0x...>"
   ]
  },
  {
   "cell_type": "code",
   "execution_count": 13,
   "id": "f260369e-e8be-4156-a4bf-eb8e466f4a94",
   "metadata": {},
   "outputs": [],
   "source": [
    "# d. Also print the location of both points."
   ]
  },
  {
   "cell_type": "code",
   "execution_count": 14,
   "id": "f672b915-e7c1-42e1-bd38-05af89870195",
   "metadata": {},
   "outputs": [
    {
     "name": "stdout",
     "output_type": "stream",
     "text": [
      "Location of point1: Quadrant I\n",
      "Location of point2: Quadrant I\n"
     ]
    }
   ],
   "source": [
    "print(f\"Location of point1: {point1.locate()}\")\n",
    "print(f\"Location of point2: {point2.locate()}\")"
   ]
  },
  {
   "cell_type": "code",
   "execution_count": 15,
   "id": "3004b1b0-5cd2-475c-ab5a-a53fdcc61085",
   "metadata": {},
   "outputs": [],
   "source": [
    "# e. Print the coordinate by using the object and dot operator."
   ]
  },
  {
   "cell_type": "code",
   "execution_count": 16,
   "id": "9e9b475b-1c37-49ec-b8df-887f33db107b",
   "metadata": {},
   "outputs": [
    {
     "name": "stdout",
     "output_type": "stream",
     "text": [
      "Coordinates of point1: (3, 4)\n",
      "Coordinates of point2: (1, 2)\n"
     ]
    }
   ],
   "source": [
    "print(f\"Coordinates of point1: ({point1.x}, {point1.y})\")\n",
    "print(f\"Coordinates of point2: ({point2.x}, {point2.y})\")"
   ]
  },
  {
   "cell_type": "code",
   "execution_count": 17,
   "id": "485ed127-983f-4273-a658-fbadc38f3833",
   "metadata": {},
   "outputs": [],
   "source": [
    "# f. Add a new method to the point class to effectively print the points. \n",
    "# Print both the point using that function."
   ]
  },
  {
   "cell_type": "code",
   "execution_count": 18,
   "id": "f442d01a-5743-4be5-bfa8-a6a3bdbc8738",
   "metadata": {},
   "outputs": [
    {
     "name": "stdout",
     "output_type": "stream",
     "text": [
      "Coordinates of point1 using show method: (3, 4)\n",
      "Coordinates of point2 using show method: (1, 2)\n"
     ]
    }
   ],
   "source": [
    "print(\"Coordinates of point1 using show method:\", point1.show())\n",
    "print(\"Coordinates of point2 using show method:\", point2.show())"
   ]
  },
  {
   "cell_type": "code",
   "execution_count": 19,
   "id": "a0180f34-c5ba-4f2d-be7e-63840b40756d",
   "metadata": {},
   "outputs": [],
   "source": [
    "# g. Calculate the distance between these two pints."
   ]
  },
  {
   "cell_type": "code",
   "execution_count": 20,
   "id": "f00396c2-a8b9-4be2-8432-2f51d137bcc7",
   "metadata": {},
   "outputs": [
    {
     "name": "stdout",
     "output_type": "stream",
     "text": [
      "Distance between point1 and point2: 2.8284271247461903\n"
     ]
    }
   ],
   "source": [
    "distance = point1.distance(point2)\n",
    "print(f\"Distance between point1 and point2: {distance}\")"
   ]
  },
  {
   "cell_type": "code",
   "execution_count": 21,
   "id": "226339d2-3b44-4180-a5b4-b168b82cc842",
   "metadata": {},
   "outputs": [],
   "source": [
    "# h. Call the __dict__ by the class name."
   ]
  },
  {
   "cell_type": "code",
   "execution_count": 22,
   "id": "a02a73bc-247b-4ba5-93f5-b14e997b1b62",
   "metadata": {},
   "outputs": [
    {
     "name": "stdout",
     "output_type": "stream",
     "text": [
      "{'__module__': '__main__', '__doc__': 'Represents a point in a 2-dimensional coordinate system.', '__init__': <function Point.__init__ at 0x000001AD120474C0>, 'distance': <function Point.distance at 0x000001AD120475E0>, 'show': <function Point.show at 0x000001AD12047310>, 'locate': <function Point.locate at 0x000001AD120479D0>, '__dict__': <attribute '__dict__' of 'Point' objects>, '__weakref__': <attribute '__weakref__' of 'Point' objects>}\n"
     ]
    }
   ],
   "source": [
    "print(Point.__dict__)"
   ]
  },
  {
   "cell_type": "code",
   "execution_count": 23,
   "id": "3008e683-83f0-4c9a-a0ac-b31cf5832524",
   "metadata": {},
   "outputs": [],
   "source": [
    "# i. Call the __dict__ on the object of the class."
   ]
  },
  {
   "cell_type": "code",
   "execution_count": 24,
   "id": "5a4c2452-0c64-49a3-932b-622e2e7eb013",
   "metadata": {},
   "outputs": [
    {
     "name": "stdout",
     "output_type": "stream",
     "text": [
      "{'x': 3, 'y': 4}\n"
     ]
    }
   ],
   "source": [
    "print(point1.__dict__)"
   ]
  },
  {
   "cell_type": "code",
   "execution_count": 25,
   "id": "44b9d2a1-fca5-4b89-bd78-d7090cc9a63b",
   "metadata": {},
   "outputs": [],
   "source": [
    "# j. Pass the class name to help."
   ]
  },
  {
   "cell_type": "code",
   "execution_count": 26,
   "id": "6c885dde-cdd6-45ac-a530-7391329af40d",
   "metadata": {},
   "outputs": [
    {
     "name": "stdout",
     "output_type": "stream",
     "text": [
      "Help on class Point in module __main__:\n",
      "\n",
      "class Point(builtins.object)\n",
      " |  Point(x: 'float', y: 'float') -> 'None'\n",
      " |  \n",
      " |  Represents a point in a 2-dimensional coordinate system.\n",
      " |  \n",
      " |  Methods defined here:\n",
      " |  \n",
      " |  __init__(self, x: 'float', y: 'float') -> 'None'\n",
      " |      Initializes a Point object with given x and y coordinates.\n",
      " |  \n",
      " |  distance(self, other: 'Point') -> 'float'\n",
      " |      Calculates the Euclidean distance between this point and another point.\n",
      " |  \n",
      " |  locate(self) -> 'str'\n",
      " |      Returns a string describing the location of the point.\n",
      " |  \n",
      " |  show(self) -> 'tuple[float, float]'\n",
      " |      Returns the coordinates of the point as a tuple.\n",
      " |  \n",
      " |  ----------------------------------------------------------------------\n",
      " |  Data descriptors defined here:\n",
      " |  \n",
      " |  __dict__\n",
      " |      dictionary for instance variables (if defined)\n",
      " |  \n",
      " |  __weakref__\n",
      " |      list of weak references to the object (if defined)\n",
      "\n"
     ]
    }
   ],
   "source": [
    "help(Point)"
   ]
  },
  {
   "cell_type": "code",
   "execution_count": 27,
   "id": "78d55d1b-d465-4f22-a952-3c880ff2cac7",
   "metadata": {},
   "outputs": [],
   "source": [
    "# k. Print the doc-string and annotations of both the class and each instance method."
   ]
  },
  {
   "cell_type": "code",
   "execution_count": 28,
   "id": "055e53e5-4963-4a46-8896-f8644d85e210",
   "metadata": {},
   "outputs": [
    {
     "name": "stdout",
     "output_type": "stream",
     "text": [
      "Represents a point in a 2-dimensional coordinate system.\n",
      "\n",
      "        Initializes a Point object with given x and y coordinates.\n",
      "        \n",
      "\n",
      "        Calculates the Euclidean distance between this point and another point.\n",
      "        \n",
      "\n",
      "        Returns the coordinates of the point as a tuple.\n",
      "        \n",
      "\n",
      "        Returns a string describing the location of the point.\n",
      "        \n"
     ]
    }
   ],
   "source": [
    "print(Point.__doc__)\n",
    "print(Point.__init__.__doc__)\n",
    "print(Point.distance.__doc__)\n",
    "print(Point.show.__doc__)\n",
    "print(Point.locate.__doc__)"
   ]
  },
  {
   "cell_type": "markdown",
   "id": "14ceb484-7b71-4321-b9d5-39110b52572b",
   "metadata": {},
   "source": [
    "# 8. Modify the above class by making its parameters default. The parameters will initialize the point with no parameters to the origin."
   ]
  },
  {
   "cell_type": "code",
   "execution_count": 36,
   "id": "755be39a-61b8-4a57-ad53-396c2b83d2af",
   "metadata": {},
   "outputs": [],
   "source": [
    "# a. Define point_1 by passing two arguments and print their values by using the dot operator and also by calling the show function."
   ]
  },
  {
   "cell_type": "code",
   "execution_count": 32,
   "id": "846a4b37-cd4d-4112-92a1-80e954a5de97",
   "metadata": {},
   "outputs": [
    {
     "name": "stdout",
     "output_type": "stream",
     "text": [
      "point_1: x = 2, y = 3\n",
      "point_1: (2, 3)\n"
     ]
    }
   ],
   "source": [
    "point_1 = Point(2, 3)\n",
    "print(f\"point_1: x = {point_1.x}, y = {point_1.y}\")\n",
    "print(f\"point_1: {point_1.show()}\")"
   ]
  },
  {
   "cell_type": "code",
   "execution_count": 37,
   "id": "2783a7f2-a300-4c85-9d87-b8c30fdc2ca2",
   "metadata": {},
   "outputs": [],
   "source": [
    "# b. Define another object with the name point_2 and pass one argument."
   ]
  },
  {
   "cell_type": "code",
   "execution_count": 38,
   "id": "71266862-014c-48b8-b181-e8d6cff9b267",
   "metadata": {},
   "outputs": [
    {
     "name": "stdout",
     "output_type": "stream",
     "text": [
      "point_2: (1, 0)\n"
     ]
    }
   ],
   "source": [
    "point_2 = Point(1)\n",
    "print(f\"point_2: {point_2.show()}\")"
   ]
  },
  {
   "cell_type": "code",
   "execution_count": 39,
   "id": "fb8199e8-c7ba-427b-b9be-fd383d1ca872",
   "metadata": {},
   "outputs": [],
   "source": [
    "# c. Define another object with the name point_3 and pass no argument."
   ]
  },
  {
   "cell_type": "code",
   "execution_count": 40,
   "id": "3bac5214-2c5c-44fe-98a8-2ad36d04bbd9",
   "metadata": {},
   "outputs": [
    {
     "name": "stdout",
     "output_type": "stream",
     "text": [
      "point_3: (0, 0)\n"
     ]
    }
   ],
   "source": [
    "point_3 = Point()\n",
    "print(f\"point_3: {point_3.show()}\")"
   ]
  },
  {
   "cell_type": "code",
   "execution_count": null,
   "id": "5cb92559-cc18-4635-8114-7890013b606e",
   "metadata": {},
   "outputs": [],
   "source": []
  }
 ],
 "metadata": {
  "kernelspec": {
   "display_name": "Python 3 (ipykernel)",
   "language": "python",
   "name": "python3"
  },
  "language_info": {
   "codemirror_mode": {
    "name": "ipython",
    "version": 3
   },
   "file_extension": ".py",
   "mimetype": "text/x-python",
   "name": "python",
   "nbconvert_exporter": "python",
   "pygments_lexer": "ipython3",
   "version": "3.9.19"
  }
 },
 "nbformat": 4,
 "nbformat_minor": 5
}
