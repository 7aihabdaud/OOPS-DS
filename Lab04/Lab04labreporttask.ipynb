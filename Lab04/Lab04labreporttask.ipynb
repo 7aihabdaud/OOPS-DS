{
 "cells": [
  {
   "cell_type": "markdown",
   "id": "278ad685-b1e8-4e59-9bba-689e592fd534",
   "metadata": {},
   "source": [
    "# Lab 04"
   ]
  },
  {
   "cell_type": "markdown",
   "id": "8ac2c4fe-ebfa-43f8-9a35-9a8a10a3b49d",
   "metadata": {},
   "source": [
    "# Lab report task:"
   ]
  },
  {
   "cell_type": "markdown",
   "id": "ee6c7a35-8b5a-4f1a-a435-b05f7c2a8584",
   "metadata": {},
   "source": [
    "Make an object and print its x and y coordinates. "
   ]
  },
  {
   "cell_type": "code",
   "execution_count": 1,
   "id": "536eb40a-95e7-4b19-92e0-8de3d74c8c07",
   "metadata": {},
   "outputs": [],
   "source": [
    "import math\n",
    "class Point:\n",
    "    \"\"\"Represents a point in two-dimensional geometric coordinates\"\"\"\n",
    "\n",
    "    def __init__(self, x: float, y: float) -> None:\n",
    "        self.x = x\n",
    "        self.y = y\n",
    "\n",
    "    def distance(self, p2) -> float:\n",
    "        return math.sqrt((self.x - p2.x) ** 2 + (self.y - p2.y) ** 2)\n",
    "\n",
    "    def print_point(self):\n",
    "        print(f\"({self.x}, {self.y})\")"
   ]
  },
  {
   "cell_type": "markdown",
   "id": "c2bc39df-53f6-411e-9c84-a3362e2eed97",
   "metadata": {},
   "source": [
    "a. Define point1 and pass two numbers. "
   ]
  },
  {
   "cell_type": "code",
   "execution_count": 2,
   "id": "4acffbf2-87be-42a6-8ef2-dcebba3e14d8",
   "metadata": {},
   "outputs": [],
   "source": [
    "point1 = Point(3, 4)"
   ]
  },
  {
   "cell_type": "markdown",
   "id": "f791a3be-a028-44e7-9d0d-004f8eb78fee",
   "metadata": {},
   "source": [
    "b) Make another instance of the point class, say its name is p2."
   ]
  },
  {
   "cell_type": "code",
   "execution_count": 3,
   "id": "c5e475a6-262d-4f6c-832e-fbc268a5a027",
   "metadata": {},
   "outputs": [],
   "source": [
    "point2 = Point(1, 2)"
   ]
  },
  {
   "cell_type": "markdown",
   "id": "55c1361b-64a3-4813-8c3f-86291adc3bae",
   "metadata": {},
   "source": [
    "c) Print p1 and p2, for this use the print command and pass the point as input."
   ]
  },
  {
   "cell_type": "code",
   "execution_count": 4,
   "id": "f7bc1351-1c1e-411f-b8ee-12b2be9422e1",
   "metadata": {},
   "outputs": [
    {
     "name": "stdout",
     "output_type": "stream",
     "text": [
      "Point 1: <__main__.Point object at 0x000001A38FE27A00>\n"
     ]
    }
   ],
   "source": [
    "print(\"Point 1:\", point1)"
   ]
  },
  {
   "cell_type": "code",
   "execution_count": 5,
   "id": "e9c19fdb-1d74-4b24-90a8-da946556c416",
   "metadata": {},
   "outputs": [
    {
     "name": "stdout",
     "output_type": "stream",
     "text": [
      "Point 2: <__main__.Point object at 0x000001A38FE27AF0>\n"
     ]
    }
   ],
   "source": [
    "print(\"Point 2:\", point2)"
   ]
  },
  {
   "cell_type": "markdown",
   "id": "f7c45950-5af4-4bfa-9a32-1a31ea9defdd",
   "metadata": {},
   "source": [
    "d) Print the coordinate by using the object and dot operator"
   ]
  },
  {
   "cell_type": "code",
   "execution_count": 6,
   "id": "84e14cf6-83f5-447a-8c82-d501822acb21",
   "metadata": {},
   "outputs": [
    {
     "name": "stdout",
     "output_type": "stream",
     "text": [
      "Coordinates of point1: 3 4\n"
     ]
    }
   ],
   "source": [
    "print(\"Coordinates of point1:\", point1.x, point1.y)"
   ]
  },
  {
   "cell_type": "code",
   "execution_count": 7,
   "id": "b2a05c08-5960-4092-a4c5-a3a9ce0af0ab",
   "metadata": {},
   "outputs": [
    {
     "name": "stdout",
     "output_type": "stream",
     "text": [
      "Coordinates of point2: 1 2\n"
     ]
    }
   ],
   "source": [
    "print(\"Coordinates of point2:\", point2.x, point2.y)"
   ]
  },
  {
   "cell_type": "markdown",
   "id": "54b23695-d1cc-4c04-9fb1-d6207923e1d4",
   "metadata": {},
   "source": [
    "e) Add a new method to the point class that can effectively print the points. Print both the \n",
    "point using that function. "
   ]
  },
  {
   "cell_type": "code",
   "execution_count": 8,
   "id": "cf696b6e-498c-4b9a-b8aa-20c472813f27",
   "metadata": {},
   "outputs": [
    {
     "name": "stdout",
     "output_type": "stream",
     "text": [
      "Point 1 using print_point: (3, 4)\n"
     ]
    }
   ],
   "source": [
    "print(\"Point 1 using print_point:\", end=\" \")\n",
    "point1.print_point()"
   ]
  },
  {
   "cell_type": "code",
   "execution_count": 9,
   "id": "80833963-5d1c-4fcd-9a72-9ef0fd25fd2c",
   "metadata": {},
   "outputs": [
    {
     "name": "stdout",
     "output_type": "stream",
     "text": [
      "Point 2 using print_point: (1, 2)\n"
     ]
    }
   ],
   "source": [
    "print(\"Point 2 using print_point:\", end=\" \")\n",
    "point2.print_point()"
   ]
  },
  {
   "cell_type": "markdown",
   "id": "84764af9-b146-4076-b267-fa6ec027ed8c",
   "metadata": {},
   "source": [
    "f). Calculate the distance between these two pints."
   ]
  },
  {
   "cell_type": "code",
   "execution_count": 10,
   "id": "d57ae9a6-5224-44e6-b839-90b6ee64bff2",
   "metadata": {},
   "outputs": [
    {
     "name": "stdout",
     "output_type": "stream",
     "text": [
      "Distance between point1 and point2: 2.8284271247461903\n"
     ]
    }
   ],
   "source": [
    "distance = point1.distance(point2)\n",
    "print(\"Distance between point1 and point2:\", distance)"
   ]
  },
  {
   "cell_type": "code",
   "execution_count": null,
   "id": "2c86f524-9df3-498b-9bbf-8514cb685e50",
   "metadata": {},
   "outputs": [],
   "source": []
  }
 ],
 "metadata": {
  "kernelspec": {
   "display_name": "Python 3 (ipykernel)",
   "language": "python",
   "name": "python3"
  },
  "language_info": {
   "codemirror_mode": {
    "name": "ipython",
    "version": 3
   },
   "file_extension": ".py",
   "mimetype": "text/x-python",
   "name": "python",
   "nbconvert_exporter": "python",
   "pygments_lexer": "ipython3",
   "version": "3.9.19"
  }
 },
 "nbformat": 4,
 "nbformat_minor": 5
}
