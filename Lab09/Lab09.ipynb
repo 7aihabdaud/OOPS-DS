{
 "cells": [
  {
   "cell_type": "markdown",
   "id": "01d6b7cf-884c-4570-bc5f-aeaee6eebe59",
   "metadata": {},
   "source": [
    "<font color='teal'>\n",
    "\n",
    "#  *Aihab Daud*\n",
    "##  *REG # 23jzelel0509*\n",
    "\n",
    "</font>"
   ]
  },
  {
   "cell_type": "markdown",
   "id": "850181cb-87fa-45be-9c13-69bbe31a16d4",
   "metadata": {},
   "source": [
    "<font color='teal'>\n",
    "    \n",
    "### Subject: OOP & DS\n",
    "### **LAB-09**\n",
    "\n",
    "</font>"
   ]
  },
  {
   "cell_type": "markdown",
   "id": "c6bc0854-cbc6-4eac-b97e-a0cd4fb183ad",
   "metadata": {},
   "source": [
    "<font color='teal'>\n",
    "    \n",
    "####     SUBJECT\n",
    "#####           *Start adding the new classes to the exixting class(lab-7,8).Temporary secretaries are hired(addition to past..)*\n",
    "</font>"
   ]
  },
  {
   "cell_type": "code",
   "execution_count": 1,
   "id": "627c0412-f0fa-4ac5-ba38-278f5f1fb86a",
   "metadata": {},
   "outputs": [
    {
     "ename": "NameError",
     "evalue": "name 'SalaryEmployee' is not defined",
     "output_type": "error",
     "traceback": [
      "\u001b[1;31m---------------------------------------------------------------------------\u001b[0m",
      "\u001b[1;31mNameError\u001b[0m                                 Traceback (most recent call last)",
      "Cell \u001b[1;32mIn[1], line 1\u001b[0m\n\u001b[1;32m----> 1\u001b[0m \u001b[38;5;28;01mclass\u001b[39;00m \u001b[38;5;21;01mManager\u001b[39;00m(\u001b[43mSalaryEmployee\u001b[49m):\n\u001b[0;32m      2\u001b[0m     \u001b[38;5;28;01mdef\u001b[39;00m \u001b[38;5;21mwork\u001b[39m(\u001b[38;5;28mself\u001b[39m, hours):\n\u001b[0;32m      3\u001b[0m         \u001b[38;5;28mprint\u001b[39m(\u001b[38;5;124mf\u001b[39m\u001b[38;5;124m\"\u001b[39m\u001b[38;5;132;01m{\u001b[39;00m\u001b[38;5;28mself\u001b[39m\u001b[38;5;241m.\u001b[39mname\u001b[38;5;132;01m}\u001b[39;00m\u001b[38;5;124m screams and yells for \u001b[39m\u001b[38;5;132;01m{\u001b[39;00mhours\u001b[38;5;132;01m}\u001b[39;00m\u001b[38;5;124m hours.\u001b[39m\u001b[38;5;124m\"\u001b[39m)\n",
      "\u001b[1;31mNameError\u001b[0m: name 'SalaryEmployee' is not defined"
     ]
    }
   ],
   "source": [
    "class Manager(SalaryEmployee):\n",
    "    def work(self, hours):\n",
    "        print(f\"{self.name} screams and yells for {hours} hours.\")\n",
    "\n",
    "class Secretary(SalaryEmployee):\n",
    "    def work(self, hours):\n",
    "        print(f\"{self.name} expends {hours} hours doing office paperwork.\")\n",
    "\n",
    "class SalesPerson(CommissionEmployee):\n",
    "    def work(self, hours):\n",
    "        print(f\"{self.name} expends {hours} hours on the phone.\")\n",
    "\n",
    "class FactoryWorker(HourlyEmployee):\n",
    "    def work(self, hours):\n",
    "        print(f\"{self.name} manufactures gadgets for {hours} hours.\")"
   ]
  },
  {
   "cell_type": "markdown",
   "id": "616534de-a3b7-4348-a146-9f49d5dad7ea",
   "metadata": {},
   "source": [
    "1.\tIt turns out that sometimes temporary secretaries are hired when there’s too much paperwork to do. The TemporarySecretary class performs the role of a Secretary in the context of the ProductivitySystem, but for payroll purposes, it’s an HourlyEmployee."
   ]
  },
  {
   "cell_type": "code",
   "execution_count": null,
   "id": "1e4d3728-7ee0-48fa-b503-0eacab487ca1",
   "metadata": {},
   "outputs": [],
   "source": [
    "# a)\tDerive it from both Secretary and HourlyEmployee:"
   ]
  },
  {
   "cell_type": "code",
   "execution_count": null,
   "id": "83edd6d5-d58a-44f9-b6e4-e8e4cea65f51",
   "metadata": {},
   "outputs": [],
   "source": [
    "class TemporarySecretary(Secretary, HourlyEmployee):\n",
    "    pass\n"
   ]
  },
  {
   "cell_type": "code",
   "execution_count": null,
   "id": "faa23881-2d2e-49b6-904d-fca20efca7be",
   "metadata": {},
   "outputs": [],
   "source": [
    "temporary_secretary = TemporarySecretary(5, \"Robin Williams\", 40, 9)"
   ]
  },
  {
   "cell_type": "code",
   "execution_count": null,
   "id": "164086f3-644f-4c71-acea-876621f225ee",
   "metadata": {},
   "outputs": [],
   "source": [
    "TemporarySecretary.__mro__"
   ]
  },
  {
   "cell_type": "code",
   "execution_count": null,
   "id": "68cf8454-72bf-4f14-a522-4f3f118c6d93",
   "metadata": {},
   "outputs": [],
   "source": [
    "# ii)\tModify the above class as "
   ]
  },
  {
   "cell_type": "code",
   "execution_count": null,
   "id": "1f053ca4-2f49-4640-9eec-56549658b76e",
   "metadata": {},
   "outputs": [],
   "source": [
    "class TemporarySecretary(HourlyEmployee, Secretary):\n",
    "    pass"
   ]
  },
  {
   "cell_type": "code",
   "execution_count": null,
   "id": "356da9eb-2986-4807-8954-a7d938f16c10",
   "metadata": {},
   "outputs": [],
   "source": [
    "temporary_secretary = TemporarySecretary(5, \"Robin Williams\", 40, 9)"
   ]
  },
  {
   "cell_type": "code",
   "execution_count": null,
   "id": "5eaaaad0-4c6b-48f7-8b28-48b19a26bbbd",
   "metadata": {},
   "outputs": [],
   "source": [
    "TemporarySecretary.__mro__"
   ]
  },
  {
   "cell_type": "code",
   "execution_count": 2,
   "id": "19d76615-19b6-4000-836d-6990b9d2076e",
   "metadata": {},
   "outputs": [],
   "source": [
    "# iii)\tModify the above class as "
   ]
  },
  {
   "cell_type": "code",
   "execution_count": 3,
   "id": "99250f7d-7f11-47c8-95d7-4a62f31e0916",
   "metadata": {},
   "outputs": [
    {
     "ename": "NameError",
     "evalue": "name 'HourlyEmployee' is not defined",
     "output_type": "error",
     "traceback": [
      "\u001b[1;31m---------------------------------------------------------------------------\u001b[0m",
      "\u001b[1;31mNameError\u001b[0m                                 Traceback (most recent call last)",
      "Cell \u001b[1;32mIn[3], line 1\u001b[0m\n\u001b[1;32m----> 1\u001b[0m \u001b[38;5;28;01mclass\u001b[39;00m \u001b[38;5;21;01mTemporarySecretary\u001b[39;00m(\u001b[43mHourlyEmployee\u001b[49m, Secretary):\n\u001b[0;32m      2\u001b[0m     \u001b[38;5;28;01mdef\u001b[39;00m \u001b[38;5;21m__init__\u001b[39m(\u001b[38;5;28mself\u001b[39m, \u001b[38;5;28mid\u001b[39m, name, hours_worked, hourly_rate):\n\u001b[0;32m      3\u001b[0m         \u001b[38;5;28msuper\u001b[39m()\u001b[38;5;241m.\u001b[39m\u001b[38;5;21m__init__\u001b[39m(\u001b[38;5;28mid\u001b[39m, name, hours_worked, hourly_rate)\n",
      "\u001b[1;31mNameError\u001b[0m: name 'HourlyEmployee' is not defined"
     ]
    }
   ],
   "source": [
    "class TemporarySecretary(HourlyEmployee, Secretary):\n",
    "    def __init__(self, id, name, hours_worked, hourly_rate):\n",
    "        super().__init__(id, name, hours_worked, hourly_rate)"
   ]
  },
  {
   "cell_type": "code",
   "execution_count": 4,
   "id": "c3699017-56f7-4bf4-83cb-6336f99966dd",
   "metadata": {},
   "outputs": [
    {
     "ename": "NameError",
     "evalue": "name 'TemporarySecretary' is not defined",
     "output_type": "error",
     "traceback": [
      "\u001b[1;31m---------------------------------------------------------------------------\u001b[0m",
      "\u001b[1;31mNameError\u001b[0m                                 Traceback (most recent call last)",
      "Cell \u001b[1;32mIn[4], line 1\u001b[0m\n\u001b[1;32m----> 1\u001b[0m temporary_secretary \u001b[38;5;241m=\u001b[39m \u001b[43mTemporarySecretary\u001b[49m(\u001b[38;5;241m5\u001b[39m, \u001b[38;5;124m\"\u001b[39m\u001b[38;5;124mRobin Williams\u001b[39m\u001b[38;5;124m\"\u001b[39m, \u001b[38;5;241m40\u001b[39m, \u001b[38;5;241m9\u001b[39m)\n",
      "\u001b[1;31mNameError\u001b[0m: name 'TemporarySecretary' is not defined"
     ]
    }
   ],
   "source": [
    "temporary_secretary = TemporarySecretary(5, \"Robin Williams\", 40, 9)"
   ]
  },
  {
   "cell_type": "code",
   "execution_count": 5,
   "id": "10b4c0ad-ea8f-4f64-bb5e-8ddaa5a7a9ab",
   "metadata": {},
   "outputs": [
    {
     "ename": "NameError",
     "evalue": "name 'TemporarySecretary' is not defined",
     "output_type": "error",
     "traceback": [
      "\u001b[1;31m---------------------------------------------------------------------------\u001b[0m",
      "\u001b[1;31mNameError\u001b[0m                                 Traceback (most recent call last)",
      "Cell \u001b[1;32mIn[5], line 1\u001b[0m\n\u001b[1;32m----> 1\u001b[0m \u001b[43mTemporarySecretary\u001b[49m\u001b[38;5;241m.\u001b[39m\u001b[38;5;18m__mro__\u001b[39m\n",
      "\u001b[1;31mNameError\u001b[0m: name 'TemporarySecretary' is not defined"
     ]
    }
   ],
   "source": [
    "TemporarySecretary.__mro__"
   ]
  },
  {
   "cell_type": "code",
   "execution_count": 6,
   "id": "91375943-3f3b-4797-8314-87d2f5af2d05",
   "metadata": {},
   "outputs": [],
   "source": [
    "# iv)\tModify the above class as "
   ]
  },
  {
   "cell_type": "code",
   "execution_count": 7,
   "id": "29d5a60a-88d7-42e5-bbe8-40c3ad34e03d",
   "metadata": {},
   "outputs": [
    {
     "ename": "NameError",
     "evalue": "name 'Secretary' is not defined",
     "output_type": "error",
     "traceback": [
      "\u001b[1;31m---------------------------------------------------------------------------\u001b[0m",
      "\u001b[1;31mNameError\u001b[0m                                 Traceback (most recent call last)",
      "Cell \u001b[1;32mIn[7], line 1\u001b[0m\n\u001b[1;32m----> 1\u001b[0m \u001b[38;5;28;01mclass\u001b[39;00m \u001b[38;5;21;01mTemporarySecretary\u001b[39;00m(\u001b[43mSecretary\u001b[49m, HourlyEmployee):\n\u001b[0;32m      2\u001b[0m     \u001b[38;5;28;01mdef\u001b[39;00m \u001b[38;5;21m__init__\u001b[39m(\u001b[38;5;28mself\u001b[39m, \u001b[38;5;28mid\u001b[39m, name, hours_worked, hourly_rate):\n\u001b[0;32m      3\u001b[0m         HourlyEmployee\u001b[38;5;241m.\u001b[39m\u001b[38;5;21m__init__\u001b[39m(\u001b[38;5;28mself\u001b[39m, \u001b[38;5;28mid\u001b[39m, name, hours_worked, hourly_rate)\n",
      "\u001b[1;31mNameError\u001b[0m: name 'Secretary' is not defined"
     ]
    }
   ],
   "source": [
    "class TemporarySecretary(Secretary, HourlyEmployee):\n",
    "    def __init__(self, id, name, hours_worked, hourly_rate):\n",
    "        HourlyEmployee.__init__(self, id, name, hours_worked, hourly_rate)"
   ]
  },
  {
   "cell_type": "code",
   "execution_count": 8,
   "id": "4dc89134-4062-4553-a965-b20c7a9ffe22",
   "metadata": {},
   "outputs": [
    {
     "ename": "NameError",
     "evalue": "name 'TemporarySecretary' is not defined",
     "output_type": "error",
     "traceback": [
      "\u001b[1;31m---------------------------------------------------------------------------\u001b[0m",
      "\u001b[1;31mNameError\u001b[0m                                 Traceback (most recent call last)",
      "Cell \u001b[1;32mIn[8], line 1\u001b[0m\n\u001b[1;32m----> 1\u001b[0m temporary_secretary \u001b[38;5;241m=\u001b[39m \u001b[43mTemporarySecretary\u001b[49m(\u001b[38;5;241m5\u001b[39m, \u001b[38;5;124m\"\u001b[39m\u001b[38;5;124mRobin Williams\u001b[39m\u001b[38;5;124m\"\u001b[39m, \u001b[38;5;241m40\u001b[39m, \u001b[38;5;241m9\u001b[39m)\n\u001b[0;32m      2\u001b[0m company_employees \u001b[38;5;241m=\u001b[39m [temporary_secretary]\n\u001b[0;32m      3\u001b[0m productivity_system \u001b[38;5;241m=\u001b[39m productivity\u001b[38;5;241m.\u001b[39mProductivitySystem()\n",
      "\u001b[1;31mNameError\u001b[0m: name 'TemporarySecretary' is not defined"
     ]
    }
   ],
   "source": [
    "temporary_secretary = TemporarySecretary(5, \"Robin Williams\", 40, 9)\n",
    "company_employees = [temporary_secretary]\n",
    "productivity_system = productivity.ProductivitySystem()\n",
    "productivity_system.track(company_employees, 40)\n",
    "payroll_system = hr.PayrollSystem()\n",
    "payroll_system.calculate_payroll(company_employees)"
   ]
  },
  {
   "cell_type": "code",
   "execution_count": 9,
   "id": "7d0e3f1e-3788-4675-b9e0-7fe61ebf5d1f",
   "metadata": {},
   "outputs": [
    {
     "ename": "NameError",
     "evalue": "name 'TemporarySecretary' is not defined",
     "output_type": "error",
     "traceback": [
      "\u001b[1;31m---------------------------------------------------------------------------\u001b[0m",
      "\u001b[1;31mNameError\u001b[0m                                 Traceback (most recent call last)",
      "Cell \u001b[1;32mIn[9], line 1\u001b[0m\n\u001b[1;32m----> 1\u001b[0m \u001b[43mTemporarySecretary\u001b[49m\u001b[38;5;241m.\u001b[39m\u001b[38;5;18m__mro__\u001b[39m\n",
      "\u001b[1;31mNameError\u001b[0m: name 'TemporarySecretary' is not defined"
     ]
    }
   ],
   "source": [
    "TemporarySecretary.__mro__"
   ]
  },
  {
   "cell_type": "code",
   "execution_count": 10,
   "id": "37d058da-18f8-4248-a0d4-2b81a57e8260",
   "metadata": {},
   "outputs": [],
   "source": [
    "# v.\tModify the above class as "
   ]
  },
  {
   "cell_type": "code",
   "execution_count": 11,
   "id": "efafd8b7-a675-4f5f-b7c3-f34736a1d89f",
   "metadata": {},
   "outputs": [
    {
     "ename": "NameError",
     "evalue": "name 'Secretary' is not defined",
     "output_type": "error",
     "traceback": [
      "\u001b[1;31m---------------------------------------------------------------------------\u001b[0m",
      "\u001b[1;31mNameError\u001b[0m                                 Traceback (most recent call last)",
      "Cell \u001b[1;32mIn[11], line 1\u001b[0m\n\u001b[1;32m----> 1\u001b[0m \u001b[38;5;28;01mclass\u001b[39;00m \u001b[38;5;21;01mTemporarySecretary\u001b[39;00m(\u001b[43mSecretary\u001b[49m, HourlyEmployee):\n\u001b[0;32m      2\u001b[0m     \u001b[38;5;28;01mdef\u001b[39;00m \u001b[38;5;21m__init__\u001b[39m(\u001b[38;5;28mself\u001b[39m, \u001b[38;5;28mid\u001b[39m, name, hours_worked, hourly_rate):\n\u001b[0;32m      3\u001b[0m         HourlyEmployee\u001b[38;5;241m.\u001b[39m\u001b[38;5;21m__init__\u001b[39m(\u001b[38;5;28mself\u001b[39m, \u001b[38;5;28mid\u001b[39m, name, hours_worked, hourly_rate)\n",
      "\u001b[1;31mNameError\u001b[0m: name 'Secretary' is not defined"
     ]
    }
   ],
   "source": [
    "class TemporarySecretary(Secretary, HourlyEmployee):\n",
    "    def __init__(self, id, name, hours_worked, hourly_rate):\n",
    "        HourlyEmployee.__init__(self, id, name, hours_worked, hourly_rate)\n",
    "    def calculate_payroll(self):\n",
    "        return HourlyEmployee.calculate_payroll(self)"
   ]
  },
  {
   "cell_type": "code",
   "execution_count": 12,
   "id": "ebde6978-1bba-4478-a692-e05725db6193",
   "metadata": {},
   "outputs": [
    {
     "ename": "NameError",
     "evalue": "name 'TemporarySecretary' is not defined",
     "output_type": "error",
     "traceback": [
      "\u001b[1;31m---------------------------------------------------------------------------\u001b[0m",
      "\u001b[1;31mNameError\u001b[0m                                 Traceback (most recent call last)",
      "Cell \u001b[1;32mIn[12], line 1\u001b[0m\n\u001b[1;32m----> 1\u001b[0m temporary_secretary \u001b[38;5;241m=\u001b[39m \u001b[43mTemporarySecretary\u001b[49m(\u001b[38;5;241m5\u001b[39m, \u001b[38;5;124m\"\u001b[39m\u001b[38;5;124mRobin Williams\u001b[39m\u001b[38;5;124m\"\u001b[39m, \u001b[38;5;241m40\u001b[39m, \u001b[38;5;241m9\u001b[39m)\n\u001b[0;32m      2\u001b[0m company_employees \u001b[38;5;241m=\u001b[39m [temporary_secretary]\n\u001b[0;32m      3\u001b[0m productivity_system \u001b[38;5;241m=\u001b[39m productivity\u001b[38;5;241m.\u001b[39mProductivitySystem()\n",
      "\u001b[1;31mNameError\u001b[0m: name 'TemporarySecretary' is not defined"
     ]
    }
   ],
   "source": [
    "temporary_secretary = TemporarySecretary(5, \"Robin Williams\", 40, 9)\n",
    "company_employees = [temporary_secretary]\n",
    "productivity_system = productivity.ProductivitySystem()\n",
    "productivity_system.track(company_employees, 40)\n",
    "payroll_system = hr.PayrollSystem()\n",
    "payroll_system.calculate_payroll(company_employees)"
   ]
  },
  {
   "cell_type": "code",
   "execution_count": 13,
   "id": "b7d6d394-091a-4a10-b691-1ad87a07f968",
   "metadata": {},
   "outputs": [
    {
     "ename": "NameError",
     "evalue": "name 'TemporarySecretary' is not defined",
     "output_type": "error",
     "traceback": [
      "\u001b[1;31m---------------------------------------------------------------------------\u001b[0m",
      "\u001b[1;31mNameError\u001b[0m                                 Traceback (most recent call last)",
      "Cell \u001b[1;32mIn[13], line 1\u001b[0m\n\u001b[1;32m----> 1\u001b[0m \u001b[43mTemporarySecretary\u001b[49m\u001b[38;5;241m.\u001b[39m__mro_\n",
      "\u001b[1;31mNameError\u001b[0m: name 'TemporarySecretary' is not defined"
     ]
    }
   ],
   "source": [
    "TemporarySecretary.__mro_"
   ]
  }
 ],
 "metadata": {
  "kernelspec": {
   "display_name": "Python 3 (ipykernel)",
   "language": "python",
   "name": "python3"
  },
  "language_info": {
   "codemirror_mode": {
    "name": "ipython",
    "version": 3
   },
   "file_extension": ".py",
   "mimetype": "text/x-python",
   "name": "python",
   "nbconvert_exporter": "python",
   "pygments_lexer": "ipython3",
   "version": "3.9.19"
  }
 },
 "nbformat": 4,
 "nbformat_minor": 5
}
