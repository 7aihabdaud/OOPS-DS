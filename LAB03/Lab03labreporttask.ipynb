{
 "cells": [
  {
   "cell_type": "markdown",
   "id": "0ca36b5b-4c41-4a03-9699-29ebad03f5ce",
   "metadata": {},
   "source": [
    "<font color='teal'>\n",
    "\n",
    "#  *Aihab Daud*\n",
    "##  *REG # 23jzelel0509*\n",
    "</font>"
   ]
  },
  {
   "cell_type": "markdown",
   "id": "dbe87bcf-5e15-403a-9b84-4925c50b08ff",
   "metadata": {},
   "source": [
    "<font color='teal'>\n",
    "\n",
    "### Subject: OOP & DS\n",
    "### LAB-03\n",
    "</font>"
   ]
  },
  {
   "cell_type": "markdown",
   "id": "46e75a0c-06ed-464e-a8bc-42c4a28069c8",
   "metadata": {},
   "source": [
    "<font color='teal'>\n",
    "    \n",
    "####     SUBJECT\n",
    "#####           *List, Tuple, and Dictionary*\n",
    "\n",
    "</font>"
   ]
  },
  {
   "cell_type": "markdown",
   "id": "177031e4-c57d-4983-9013-6a11b45346ea",
   "metadata": {},
   "source": [
    "<font color='maroon'>\n",
    "    \n",
    "## Lab Report Work\n",
    "</font>"
   ]
  },
  {
   "cell_type": "code",
   "execution_count": 2,
   "id": "36ee5f20-5ac4-47b1-b562-3be74b5f9654",
   "metadata": {},
   "outputs": [],
   "source": [
    "# Make a list that contains the student name, the last four digits of the registration number as ...\n",
    "# ...an integer, the CGPA as a float, and a list that contains GPA of all semesters. (Nested List)\n"
   ]
  },
  {
   "cell_type": "code",
   "execution_count": 12,
   "id": "0933182f-aea4-4b85-8138-745f70919b1c",
   "metadata": {},
   "outputs": [],
   "source": [
    "students = [\n",
    "    [\"Aihab\", 509, 3.75, [3.8, 3.6, 3.85, 3.7]],\n",
    "    [\"Adil\", 513, 3.2, [3.0, 3.5, 3.1, 3.3]],\n",
    "    [\"Sebghat\", 523, 3.9, [3.95, 3.85, 3.9, 3.92]]\n",
    "]"
   ]
  },
  {
   "cell_type": "code",
   "execution_count": 13,
   "id": "58085b30-05f5-4e36-8192-29ee09379546",
   "metadata": {},
   "outputs": [],
   "source": [
    "for student in students:\n",
    "    name = student[0]\n",
    "    reg_no = student[1]\n",
    "    cgpa = student[2]\n",
    "    semester_gpas = student[3]"
   ]
  },
  {
   "cell_type": "code",
   "execution_count": 14,
   "id": "0921c2ed-59c6-4805-a6a5-37274cdcf5f2",
   "metadata": {},
   "outputs": [
    {
     "name": "stdout",
     "output_type": "stream",
     "text": [
      "Student Name: Sebghat\n",
      "Last 4 Digits of Registration Number: 523\n",
      "CGPA: 3.9\n",
      "GPA in Each Semester: [3.95, 3.85, 3.9, 3.92]\n",
      "--------------------\n"
     ]
    }
   ],
   "source": [
    "print(f\"Student Name: {name}\")\n",
    "print(f\"Last 4 Digits of Registration Number: {reg_no}\")\n",
    "print(f\"CGPA: {cgpa}\")\n",
    "print(f\"GPA in Each Semester: {semester_gpas}\")\n",
    "print(\"-\" * 20)"
   ]
  },
  {
   "cell_type": "code",
   "execution_count": null,
   "id": "6aeb9bf6-a02a-4bc7-88e2-9c650c8df04e",
   "metadata": {},
   "outputs": [],
   "source": [
    "# 2) Use list inducing in the following nested list and access each and every element."
   ]
  },
  {
   "cell_type": "code",
   "execution_count": 16,
   "id": "66ede85b-087a-421e-be3d-69e06e6065ae",
   "metadata": {},
   "outputs": [],
   "source": [
    "def access_elements(nested_list):\n",
    "    for element in nested_list:\n",
    "        if isinstance(element, list):\n",
    "            access_elements(element) \n",
    "        else:\n",
    "            print(element) "
   ]
  },
  {
   "cell_type": "code",
   "execution_count": 17,
   "id": "e92ea199-7164-47af-9178-5e365276f368",
   "metadata": {},
   "outputs": [
    {
     "name": "stdout",
     "output_type": "stream",
     "text": [
      "a\n",
      "bb\n",
      "ccc\n",
      "ddd\n",
      "ee\n",
      "ff\n",
      "g\n",
      "hh\n",
      "ii\n",
      "j\n"
     ]
    }
   ],
   "source": [
    "x = [\"a\", [\"bb\", [\"ccc\", \"ddd\"], \"ee\", \"ff\"], \"g\", [\"hh\", \"ii\"], \"j\"]\n",
    "access_elements(x)"
   ]
  }
 ],
 "metadata": {
  "kernelspec": {
   "display_name": "Python 3 (ipykernel)",
   "language": "python",
   "name": "python3"
  },
  "language_info": {
   "codemirror_mode": {
    "name": "ipython",
    "version": 3
   },
   "file_extension": ".py",
   "mimetype": "text/x-python",
   "name": "python",
   "nbconvert_exporter": "python",
   "pygments_lexer": "ipython3",
   "version": "3.9.19"
  }
 },
 "nbformat": 4,
 "nbformat_minor": 5
}
