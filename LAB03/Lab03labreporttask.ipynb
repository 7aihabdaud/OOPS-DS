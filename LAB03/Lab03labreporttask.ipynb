{
 "cells": [
  {
   "cell_type": "markdown",
   "id": "bd3d2f0a-4d5c-4869-80f6-a3e80bf935a7",
   "metadata": {},
   "source": [
    "# lab 03"
   ]
  },
  {
   "cell_type": "markdown",
   "id": "177031e4-c57d-4983-9013-6a11b45346ea",
   "metadata": {},
   "source": [
    "# Lab Report Work"
   ]
  },
  {
   "cell_type": "code",
   "execution_count": 11,
   "id": "36ee5f20-5ac4-47b1-b562-3be74b5f9654",
   "metadata": {},
   "outputs": [],
   "source": [
    "# Make a list that contains the student name, the last four digits of the registration number as ...\n",
    "# ...an integer, the CGPA as a float, and a list that contains GPA of all semesters. (Nested List)\n"
   ]
  },
  {
   "cell_type": "code",
   "execution_count": 12,
   "id": "0933182f-aea4-4b85-8138-745f70919b1c",
   "metadata": {},
   "outputs": [],
   "source": [
    "students = [\n",
    "    [\"Aihab\", 509, 3.75, [3.8, 3.6, 3.85, 3.7]],\n",
    "    [\"Adil\", 513, 3.2, [3.0, 3.5, 3.1, 3.3]],\n",
    "    [\"Sebghat\", 523, 3.9, [3.95, 3.85, 3.9, 3.92]]\n",
    "]"
   ]
  },
  {
   "cell_type": "code",
   "execution_count": 13,
   "id": "58085b30-05f5-4e36-8192-29ee09379546",
   "metadata": {},
   "outputs": [],
   "source": [
    "for student in students:\n",
    "    name = student[0]\n",
    "    reg_no = student[1]\n",
    "    cgpa = student[2]\n",
    "    semester_gpas = student[3]"
   ]
  },
  {
   "cell_type": "code",
   "execution_count": 14,
   "id": "0921c2ed-59c6-4805-a6a5-37274cdcf5f2",
   "metadata": {},
   "outputs": [
    {
     "name": "stdout",
     "output_type": "stream",
     "text": [
      "Student Name: Sebghat\n",
      "Last 4 Digits of Registration Number: 523\n",
      "CGPA: 3.9\n",
      "GPA in Each Semester: [3.95, 3.85, 3.9, 3.92]\n",
      "--------------------\n"
     ]
    }
   ],
   "source": [
    "print(f\"Student Name: {name}\")\n",
    "print(f\"Last 4 Digits of Registration Number: {reg_no}\")\n",
    "print(f\"CGPA: {cgpa}\")\n",
    "print(f\"GPA in Each Semester: {semester_gpas}\")\n",
    "print(\"-\" * 20)"
   ]
  },
  {
   "cell_type": "code",
   "execution_count": null,
   "id": "6aeb9bf6-a02a-4bc7-88e2-9c650c8df04e",
   "metadata": {},
   "outputs": [],
   "source": [
    "# 2) Use list inducing in the following nested list and access each and every element."
   ]
  },
  {
   "cell_type": "code",
   "execution_count": 16,
   "id": "66ede85b-087a-421e-be3d-69e06e6065ae",
   "metadata": {},
   "outputs": [],
   "source": [
    "def access_elements(nested_list):\n",
    "    for element in nested_list:\n",
    "        if isinstance(element, list):\n",
    "            access_elements(element) \n",
    "        else:\n",
    "            print(element) "
   ]
  },
  {
   "cell_type": "code",
   "execution_count": 17,
   "id": "e92ea199-7164-47af-9178-5e365276f368",
   "metadata": {},
   "outputs": [
    {
     "name": "stdout",
     "output_type": "stream",
     "text": [
      "a\n",
      "bb\n",
      "ccc\n",
      "ddd\n",
      "ee\n",
      "ff\n",
      "g\n",
      "hh\n",
      "ii\n",
      "j\n"
     ]
    }
   ],
   "source": [
    "x = [\"a\", [\"bb\", [\"ccc\", \"ddd\"], \"ee\", \"ff\"], \"g\", [\"hh\", \"ii\"], \"j\"]\n",
    "access_elements(x)"
   ]
  },
  {
   "cell_type": "code",
   "execution_count": null,
   "id": "f9d88b58-5e05-410d-b87b-54142ad8a435",
   "metadata": {},
   "outputs": [],
   "source": [
    " "
   ]
  },
  {
   "cell_type": "code",
   "execution_count": null,
   "id": "44019ebb-15a0-46d3-a4ba-d4d7bab9525a",
   "metadata": {},
   "outputs": [],
   "source": []
  },
  {
   "cell_type": "code",
   "execution_count": null,
   "id": "6a885082-4029-443c-bf07-6d70b73ddc59",
   "metadata": {},
   "outputs": [],
   "source": []
  },
  {
   "cell_type": "code",
   "execution_count": null,
   "id": "fd0374bb-aede-4783-ad9f-7d6538231f9d",
   "metadata": {},
   "outputs": [],
   "source": []
  },
  {
   "cell_type": "code",
   "execution_count": null,
   "id": "d2eb32fc-627d-42f8-b069-fa928787f996",
   "metadata": {},
   "outputs": [],
   "source": []
  },
  {
   "cell_type": "code",
   "execution_count": null,
   "id": "26110be7-786f-4766-9026-a89745f5c874",
   "metadata": {},
   "outputs": [],
   "source": []
  },
  {
   "cell_type": "code",
   "execution_count": null,
   "id": "7c3e1b87-fada-4b5d-bee1-e5c884df8ad8",
   "metadata": {},
   "outputs": [],
   "source": []
  },
  {
   "cell_type": "code",
   "execution_count": null,
   "id": "af423e30-75b2-4d33-b7be-32d0b98ead93",
   "metadata": {},
   "outputs": [],
   "source": []
  },
  {
   "cell_type": "code",
   "execution_count": null,
   "id": "2ded5c59-c80f-4b08-ba69-0a93299f6af8",
   "metadata": {},
   "outputs": [],
   "source": []
  },
  {
   "cell_type": "code",
   "execution_count": null,
   "id": "fec467e3-56ac-475d-a2d1-43e812c3b07a",
   "metadata": {},
   "outputs": [],
   "source": []
  }
 ],
 "metadata": {
  "kernelspec": {
   "display_name": "Python 3 (ipykernel)",
   "language": "python",
   "name": "python3"
  },
  "language_info": {
   "codemirror_mode": {
    "name": "ipython",
    "version": 3
   },
   "file_extension": ".py",
   "mimetype": "text/x-python",
   "name": "python",
   "nbconvert_exporter": "python",
   "pygments_lexer": "ipython3",
   "version": "3.9.19"
  }
 },
 "nbformat": 4,
 "nbformat_minor": 5
}
