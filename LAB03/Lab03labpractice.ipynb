{
 "cells": [
  {
   "cell_type": "markdown",
   "id": "3a073eba-6b03-464e-b7a9-fac4ea274573",
   "metadata": {},
   "source": [
    "<font color='teal'>\n",
    "\n",
    "#  Aihab Daud\n",
    "##  REG # 23jzelel0509\n",
    "</font>"
   ]
  },
  {
   "cell_type": "markdown",
   "id": "5b39c2e2-9b61-41ff-9906-d2d2badfeb6a",
   "metadata": {},
   "source": [
    "<font color='teal'>\n",
    "\n",
    "### Subject: OOP & DS\n",
    "### LAB-03\n",
    "</font>"
   ]
  },
  {
   "cell_type": "markdown",
   "id": "5e41dbae-fb67-4249-9fd9-b77f35ccbad7",
   "metadata": {},
   "source": [
    "<font color='teal'>\n",
    "\n",
    "####     SUBJECT\n",
    "#####           * List, Tuple, and Dictionary*\n",
    "</font>"
   ]
  },
  {
   "cell_type": "markdown",
   "id": "9462396c-72aa-45aa-85c3-c6aa56682d54",
   "metadata": {},
   "source": [
    "<font color='pink'>\n",
    "    \n",
    "## Lab practice\n",
    "</font>"
   ]
  },
  {
   "cell_type": "code",
   "execution_count": 1,
   "id": "faf81e3c-15fb-4e80-8694-33ef09434a7f",
   "metadata": {},
   "outputs": [],
   "source": [
    "# List:"
   ]
  },
  {
   "cell_type": "code",
   "execution_count": 2,
   "id": "35f585a2-8a5e-43ae-a3b0-8bc41b3c0085",
   "metadata": {},
   "outputs": [],
   "source": [
    "# 1) Make a list of 5 any integers"
   ]
  },
  {
   "cell_type": "code",
   "execution_count": 3,
   "id": "b1b1b0be-50ed-47f6-b91a-22c67970fa2c",
   "metadata": {},
   "outputs": [],
   "source": [
    "my_list = [10, -5, 0, 25, 12] "
   ]
  },
  {
   "cell_type": "code",
   "execution_count": 4,
   "id": "a20fc7a3-f46c-49a1-a0d8-507d54ad9f25",
   "metadata": {},
   "outputs": [
    {
     "name": "stdout",
     "output_type": "stream",
     "text": [
      "[10, -5, 0, 25, 12]\n"
     ]
    }
   ],
   "source": [
    "print(my_list)"
   ]
  },
  {
   "cell_type": "code",
   "execution_count": 5,
   "id": "49e26810-fbf5-4955-9015-895456a204a3",
   "metadata": {},
   "outputs": [],
   "source": [
    "# . Make a list that contains the student's name, the last four digits of the registration number..... \n",
    "#.....as an integer, CGPA as a float, and a list that contains the GPA of all semesters. (Nested List)"
   ]
  },
  {
   "cell_type": "code",
   "execution_count": 6,
   "id": "015d33e3-6cd5-4ab9-80b4-3de7db26b1c5",
   "metadata": {},
   "outputs": [],
   "source": [
    "students = [\n",
    "    [\"Aihab\", 509, 3.75, [3.8, 3.6, 3.85, 3.7]],\n",
    "    [\"adeel\", 504, 3.2, [3.0, 3.5, 3.1, 3.3]],\n",
    "    [\"adil\", 510, 3.9, [2.95, 2.85, 1.9, 1.92]]\n",
    "]"
   ]
  },
  {
   "cell_type": "code",
   "execution_count": 7,
   "id": "72fc4d9b-1cc3-4f1d-adcc-76b4ae5f369d",
   "metadata": {},
   "outputs": [],
   "source": [
    "for student in students:\n",
    "    name = student[0]\n",
    "    reg_no = student[1]\n",
    "    cgpa = student[2]\n",
    "    semester_gpas = student[3]"
   ]
  },
  {
   "cell_type": "code",
   "execution_count": 8,
   "id": "45a3ca5e-0ec0-4dec-99ea-16c4a444e625",
   "metadata": {},
   "outputs": [
    {
     "name": "stdout",
     "output_type": "stream",
     "text": [
      "Student Name: adil\n",
      "Last 4 Digits of Registration Number: 510\n",
      "CGPA: 3.9\n",
      "GPA in Each Semester: [2.95, 2.85, 1.9, 1.92]\n",
      "--------------------\n"
     ]
    }
   ],
   "source": [
    "print(f\"Student Name: {name}\")\n",
    "print(f\"Last 4 Digits of Registration Number: {reg_no}\")\n",
    "print(f\"CGPA: {cgpa}\")\n",
    "print(f\"GPA in Each Semester: {semester_gpas}\")\n",
    "print(\"-\" * 20)"
   ]
  },
  {
   "cell_type": "code",
   "execution_count": 9,
   "id": "58438803-04a5-439f-9788-ea3998a6961a",
   "metadata": {},
   "outputs": [],
   "source": [
    "# 3) In the above list print the student's CGPA. (Index)"
   ]
  },
  {
   "cell_type": "code",
   "execution_count": 10,
   "id": "edd24736-2766-4c08-869f-bb7455c2b767",
   "metadata": {},
   "outputs": [
    {
     "name": "stdout",
     "output_type": "stream",
     "text": [
      "Student Name: Aihab, CGPA: 3.75\n",
      "Student Name: adeel, CGPA: 3.2\n",
      "Student Name: adil, CGPA: 3.9\n"
     ]
    }
   ],
   "source": [
    "for student in students:\n",
    "    name = student[0]\n",
    "    cgpa = student[2]\n",
    "    print(f\"Student Name: {name}, CGPA: {cgpa}\")"
   ]
  },
  {
   "cell_type": "code",
   "execution_count": 11,
   "id": "f096e49f-30cd-4061-951f-e914776bcf57",
   "metadata": {},
   "outputs": [],
   "source": [
    "# 4). Print the list elements using the while loop and use the length function. (len)"
   ]
  },
  {
   "cell_type": "code",
   "execution_count": 12,
   "id": "49b78447-1eba-4897-a0cb-03a1009b6daf",
   "metadata": {},
   "outputs": [],
   "source": [
    "my_list = [10, 20, 30, 40, 50]\n",
    "index = 0\n",
    "list_length = len(my_list)"
   ]
  },
  {
   "cell_type": "code",
   "execution_count": 13,
   "id": "09ef5a2d-e1c7-44bd-9425-9ef9e9502074",
   "metadata": {},
   "outputs": [
    {
     "name": "stdout",
     "output_type": "stream",
     "text": [
      "10\n",
      "20\n",
      "30\n",
      "40\n",
      "50\n"
     ]
    }
   ],
   "source": [
    "while index < list_length:\n",
    "    print(my_list[index])\n",
    "    index += 1"
   ]
  },
  {
   "cell_type": "code",
   "execution_count": 14,
   "id": "da6ca7c6-40a1-42ac-9072-68baed6ea677",
   "metadata": {},
   "outputs": [],
   "source": [
    "# 5) Access the list of all semester GPAs using negative indexing"
   ]
  },
  {
   "cell_type": "code",
   "execution_count": 15,
   "id": "8ce3303f-0cdd-42d3-b9cb-e973d03ebf7f",
   "metadata": {},
   "outputs": [
    {
     "name": "stdout",
     "output_type": "stream",
     "text": [
      "Student Name: Aihab, Semester GPAs: [3.8, 3.6, 3.85, 3.7]\n",
      "Student Name: adeel, Semester GPAs: [3.0, 3.5, 3.1, 3.3]\n",
      "Student Name: adil, Semester GPAs: [2.95, 2.85, 1.9, 1.92]\n"
     ]
    }
   ],
   "source": [
    "for student in students:\n",
    "    name = student[0]\n",
    "    semester_gpas = student[-1]  \n",
    "    print(f\"Student Name: {name}, Semester GPAs: {semester_gpas}\")"
   ]
  },
  {
   "cell_type": "code",
   "execution_count": 16,
   "id": "99387b96-4c16-472f-8374-dbbf2e9c2861",
   "metadata": {},
   "outputs": [],
   "source": [
    "# 6) Make a list of the first 20 integers using the range function"
   ]
  },
  {
   "cell_type": "code",
   "execution_count": 17,
   "id": "e7c4a205-2594-40b0-965c-395af636ea5f",
   "metadata": {},
   "outputs": [],
   "source": [
    "first_20_integers = list(range(1, 21))"
   ]
  },
  {
   "cell_type": "code",
   "execution_count": 18,
   "id": "f271fa0b-a37a-4662-b676-aa7e7c4c73d4",
   "metadata": {},
   "outputs": [
    {
     "name": "stdout",
     "output_type": "stream",
     "text": [
      "[1, 2, 3, 4, 5, 6, 7, 8, 9, 10, 11, 12, 13, 14, 15, 16, 17, 18, 19, 20]\n"
     ]
    }
   ],
   "source": [
    "print(first_20_integers)"
   ]
  },
  {
   "cell_type": "code",
   "execution_count": 19,
   "id": "54afc4f1-2eb6-47c3-8e7f-7020f7e0ffcb",
   "metadata": {},
   "outputs": [],
   "source": [
    "# 7) Make a list of odd integers from 20 to 40 using the range function. "
   ]
  },
  {
   "cell_type": "code",
   "execution_count": 20,
   "id": "86c577b1-a197-49df-841c-221711f48069",
   "metadata": {},
   "outputs": [],
   "source": [
    "odd_numbers = list(range(21, 40, 2))"
   ]
  },
  {
   "cell_type": "code",
   "execution_count": 21,
   "id": "945aa887-47de-48a6-92b3-91d7f23a87cf",
   "metadata": {},
   "outputs": [
    {
     "name": "stdout",
     "output_type": "stream",
     "text": [
      "[21, 23, 25, 27, 29, 31, 33, 35, 37, 39]\n"
     ]
    }
   ],
   "source": [
    "print(odd_numbers)"
   ]
  },
  {
   "cell_type": "code",
   "execution_count": 22,
   "id": "40c0a9a8-ae8d-4eef-82b7-87ecf7890eb1",
   "metadata": {},
   "outputs": [],
   "source": [
    "# 8) Consider the student list.....\n",
    "# ....Student = [Ibrahim, Husain, Irfan, Ayub, Usman].....\n",
    "# ....Use in and not in operators to ensure that the student is in the list or not. "
   ]
  },
  {
   "cell_type": "code",
   "execution_count": 23,
   "id": "c2cdf124-33f0-48de-824f-5a0ce3c03e27",
   "metadata": {},
   "outputs": [
    {
     "name": "stdout",
     "output_type": "stream",
     "text": [
      "Irfan is in the list.\n",
      "Ali is not in the list.\n"
     ]
    }
   ],
   "source": [
    "students = [\"Ibrahim\", \"Husain\", \"Irfan\", \"Ayub\", \"Usman\"]\n",
    "student_to_check = \"Irfan\"\n",
    "if student_to_check in students:\n",
    "    print(f\"{student_to_check} is in the list.\")\n",
    "else:\n",
    "    print(f\"{student_to_check} is not in the list.\")\n",
    "\n",
    "student_to_check = \"Ali\"\n",
    "if student_to_check not in students:\n",
    "    print(f\"{student_to_check} is not in the list.\")\n",
    "else:\n",
    "    print(f\"{student_to_check} is in the list.\")"
   ]
  },
  {
   "cell_type": "code",
   "execution_count": 24,
   "id": "d7e22b71-a77f-4827-b3b3-ec639fadfb53",
   "metadata": {},
   "outputs": [],
   "source": [
    "# 9) Print all the student lists in task 8 using the for loop."
   ]
  },
  {
   "cell_type": "code",
   "execution_count": 25,
   "id": "6575a425-a5f4-4e6a-9056-5934b75a8dfa",
   "metadata": {},
   "outputs": [],
   "source": [
    "students = [\"Ibrahim\", \"Husain\", \"Irfan\", \"Ayub\", \"Usman\"]"
   ]
  },
  {
   "cell_type": "code",
   "execution_count": 26,
   "id": "6698e565-c985-4eb0-9cd8-c915ceb0f934",
   "metadata": {},
   "outputs": [
    {
     "name": "stdout",
     "output_type": "stream",
     "text": [
      "\n",
      "All students in the list:\n",
      "Ibrahim\n",
      "Husain\n",
      "Irfan\n",
      "Ayub\n",
      "Usman\n"
     ]
    }
   ],
   "source": [
    "print(\"\\nAll students in the list:\")\n",
    "for student in students:\n",
    "    print(student)"
   ]
  },
  {
   "cell_type": "code",
   "execution_count": 27,
   "id": "8f16c3e0-c7b0-44c7-a13e-9a6edca790f4",
   "metadata": {},
   "outputs": [],
   "source": [
    "# 10) Observe what is print, what is the first thing print, what the last thing print. Consider task 8 \n",
    "#...for the student list. \n",
    "#...Student [1:3] and student [2:4]"
   ]
  },
  {
   "cell_type": "code",
   "execution_count": 28,
   "id": "59c018a4-60a9-49aa-9188-eeb394a1f172",
   "metadata": {},
   "outputs": [
    {
     "name": "stdout",
     "output_type": "stream",
     "text": [
      "Original list: ['Ibrahim', 'Husain', 'Irfan', 'Ayub', 'Usman']\n",
      "First sliced list: ['Husain', 'Irfan']\n",
      "Second sliced list: ['Irfan', 'Ayub']\n"
     ]
    }
   ],
   "source": [
    "Student = [\"Ibrahim\", \"Husain\", \"Irfan\", \"Ayub\", \"Usman\"]\n",
    "print(\"Original list:\", Student) \n",
    "sliced_list1 = Student[1:3]\n",
    "print(\"First sliced list:\", sliced_list1) \n",
    "sliced_list2 = Student[2:4]\n",
    "print(\"Second sliced list:\", sliced_list2)"
   ]
  },
  {
   "cell_type": "code",
   "execution_count": 29,
   "id": "6ab85ed0-3729-4b9d-bc93-30bac1e59711",
   "metadata": {},
   "outputs": [],
   "source": [
    "# 11) Make an appropriate list and use and demonstrate the use of the following mutator Methods"
   ]
  },
  {
   "cell_type": "code",
   "execution_count": 30,
   "id": "6fd35f08-6736-4a9a-868a-5d64b77529b4",
   "metadata": {},
   "outputs": [],
   "source": [
    "fruits = [\"apple\", \"banana\", \"orange\"]"
   ]
  },
  {
   "cell_type": "code",
   "execution_count": 31,
   "id": "76abd41d-5a67-4a43-86d9-074bf026be55",
   "metadata": {},
   "outputs": [],
   "source": [
    "# # append(obj)"
   ]
  },
  {
   "cell_type": "code",
   "execution_count": 32,
   "id": "2f912ec0-0572-4ca1-ac55-e5bef5d24752",
   "metadata": {},
   "outputs": [
    {
     "name": "stdout",
     "output_type": "stream",
     "text": [
      "After append: ['apple', 'banana', 'orange', 'mango']\n"
     ]
    }
   ],
   "source": [
    "fruits.append(\"mango\")\n",
    "print(\"After append:\", fruits)  "
   ]
  },
  {
   "cell_type": "code",
   "execution_count": 33,
   "id": "4beb774e-3da5-48d0-a588-62f6c473cdf8",
   "metadata": {},
   "outputs": [],
   "source": [
    "# .extend(iterable)"
   ]
  },
  {
   "cell_type": "code",
   "execution_count": 34,
   "id": "39425eaf-dadf-4cf6-a757-71a103943969",
   "metadata": {},
   "outputs": [
    {
     "name": "stdout",
     "output_type": "stream",
     "text": [
      "After extend: ['apple', 'banana', 'orange', 'mango', 'grape', 'kiwi']\n"
     ]
    }
   ],
   "source": [
    "more_fruits = [\"grape\", \"kiwi\"]\n",
    "fruits.extend(more_fruits)\n",
    "print(\"After extend:\", fruits)  "
   ]
  },
  {
   "cell_type": "code",
   "execution_count": 35,
   "id": "e4031063-299d-42df-842d-72851b1d93f0",
   "metadata": {},
   "outputs": [],
   "source": [
    "# .insert(index, obj)"
   ]
  },
  {
   "cell_type": "code",
   "execution_count": 36,
   "id": "3ede15aa-dd7d-43a8-92fc-30e4d94e26eb",
   "metadata": {},
   "outputs": [
    {
     "name": "stdout",
     "output_type": "stream",
     "text": [
      "After insert: ['apple', 'pear', 'banana', 'orange', 'mango', 'grape', 'kiwi']\n"
     ]
    }
   ],
   "source": [
    "fruits.insert(1, \"pear\")\n",
    "print(\"After insert:\", fruits)  "
   ]
  },
  {
   "cell_type": "code",
   "execution_count": 37,
   "id": "47be2b25-ea2f-47bb-b3ab-0ed671af94d1",
   "metadata": {},
   "outputs": [],
   "source": [
    "# .remove(obj)"
   ]
  },
  {
   "cell_type": "code",
   "execution_count": 38,
   "id": "afbe8b2d-6ffc-45a2-a904-bb7232c37adf",
   "metadata": {},
   "outputs": [
    {
     "name": "stdout",
     "output_type": "stream",
     "text": [
      "After remove: ['apple', 'pear', 'orange', 'mango', 'grape', 'kiwi']\n"
     ]
    }
   ],
   "source": [
    "fruits.remove(\"banana\")\n",
    "print(\"After remove:\", fruits)  "
   ]
  },
  {
   "cell_type": "code",
   "execution_count": 39,
   "id": "ec5f2fb0-4611-4fd0-a1f7-1b97ecae1f22",
   "metadata": {},
   "outputs": [],
   "source": [
    "# .pop([index=-1])"
   ]
  },
  {
   "cell_type": "code",
   "execution_count": 40,
   "id": "651f2dcd-2dea-4005-b646-dadeb15c93eb",
   "metadata": {},
   "outputs": [
    {
     "name": "stdout",
     "output_type": "stream",
     "text": [
      "Removed fruit: orange\n",
      "After pop: ['apple', 'pear', 'mango', 'grape', 'kiwi']\n"
     ]
    }
   ],
   "source": [
    "removed_fruit = fruits.pop(2) \n",
    "print(\"Removed fruit:\", removed_fruit) \n",
    "print(\"After pop:\", fruits)  "
   ]
  },
  {
   "cell_type": "code",
   "execution_count": 41,
   "id": "0bdb9222-ba83-468b-a7f6-4661b15b9220",
   "metadata": {},
   "outputs": [],
   "source": [
    "# 12)  Use list inducing in the following nested list and access each and every element. \n",
    "# x = [\"a\", [\"bb\", [\"ccc\", \"ddd\"], \"ee\", \"ff\"], \"g\", [\"hh\", \"ii\"], \"j\"]"
   ]
  },
  {
   "cell_type": "code",
   "execution_count": 42,
   "id": "4ddf06f0-58f0-4a74-baa1-74c9a002106d",
   "metadata": {},
   "outputs": [],
   "source": [
    "def access_elements(nested_list):\n",
    "    for element in nested_list:\n",
    "        if isinstance(element, list):\n",
    "            access_elements(element)\n",
    "        else:\n",
    "            print(element)  "
   ]
  },
  {
   "cell_type": "code",
   "execution_count": 43,
   "id": "776472e8-bb7b-451f-b9f4-81bcbf264939",
   "metadata": {},
   "outputs": [
    {
     "name": "stdout",
     "output_type": "stream",
     "text": [
      "a\n",
      "bb\n",
      "ccc\n",
      "ddd\n",
      "ee\n",
      "ff\n",
      "g\n",
      "hh\n",
      "ii\n",
      "j\n"
     ]
    }
   ],
   "source": [
    "x = [\"a\", [\"bb\", [\"ccc\", \"ddd\"], \"ee\", \"ff\"], \"g\", [\"hh\", \"ii\"], \"j\"]\n",
    "access_elements(x)"
   ]
  },
  {
   "cell_type": "markdown",
   "id": "6bf16e11-7958-4263-aecc-7def214d2550",
   "metadata": {},
   "source": [
    "<font color='pink'>\n",
    "    \n",
    "# Tuple:\n",
    "</font>"
   ]
  },
  {
   "cell_type": "code",
   "execution_count": 44,
   "id": "ba707831-82b2-4c08-8b88-d8a9f979d134",
   "metadata": {},
   "outputs": [],
   "source": [
    "# 1)  Make a tuple containing first five letters of English. (definition)"
   ]
  },
  {
   "cell_type": "code",
   "execution_count": 46,
   "id": "4c78e03f-e511-4a5b-b7a0-d5ad248471bf",
   "metadata": {},
   "outputs": [],
   "source": [
    "first_five_letters = ('a', 'b', 'c', 'd', 'e')"
   ]
  },
  {
   "cell_type": "code",
   "execution_count": 47,
   "id": "b38576c2-1c69-4607-b70b-29c3f77fdff0",
   "metadata": {},
   "outputs": [
    {
     "name": "stdout",
     "output_type": "stream",
     "text": [
      "('a', 'b', 'c', 'd', 'e')\n"
     ]
    }
   ],
   "source": [
    "print(first_five_letters)"
   ]
  },
  {
   "cell_type": "code",
   "execution_count": 48,
   "id": "ce903963-0f6d-4fff-a8dc-505cc5aa3879",
   "metadata": {},
   "outputs": [],
   "source": [
    "# 2)  Use the index to access the third and last element."
   ]
  },
  {
   "cell_type": "code",
   "execution_count": 49,
   "id": "c29692d1-7bf9-49d4-8a50-0b6b7ff1a137",
   "metadata": {},
   "outputs": [],
   "source": [
    "third_letter = first_five_letters[2]"
   ]
  },
  {
   "cell_type": "code",
   "execution_count": 50,
   "id": "14ebd3a8-165c-49a0-8338-fbd2554f8cbb",
   "metadata": {},
   "outputs": [
    {
     "name": "stdout",
     "output_type": "stream",
     "text": [
      "Third letter: c\n"
     ]
    }
   ],
   "source": [
    "print(\"Third letter:\", third_letter)  "
   ]
  },
  {
   "cell_type": "code",
   "execution_count": 52,
   "id": "094c67ef-012c-4d04-b615-5a7d73e272dd",
   "metadata": {},
   "outputs": [],
   "source": [
    "last_letter = first_five_letters[-1]"
   ]
  },
  {
   "cell_type": "code",
   "execution_count": 53,
   "id": "84e218c7-0af5-4cdd-b499-b075c90ac446",
   "metadata": {},
   "outputs": [
    {
     "name": "stdout",
     "output_type": "stream",
     "text": [
      "Last letter: e\n"
     ]
    }
   ],
   "source": [
    "print(\"Last letter:\", last_letter)  # Output: Last letter: e"
   ]
  },
  {
   "cell_type": "code",
   "execution_count": 54,
   "id": "b22fcc2c-b60f-41d9-bc45-ff3ca1b67412",
   "metadata": {},
   "outputs": [],
   "source": [
    "# 3)  Make an appropriate list and tuple and use different operations that will show that list is mutable and tuple is immutable. "
   ]
  },
  {
   "cell_type": "code",
   "execution_count": 55,
   "id": "8f609290-495f-4a40-8071-aeea120c7590",
   "metadata": {},
   "outputs": [],
   "source": [
    "my_list = [1, 2, 3]"
   ]
  },
  {
   "cell_type": "code",
   "execution_count": 56,
   "id": "a30c4c2b-890c-4daa-8ede-7fbf6cde70f5",
   "metadata": {},
   "outputs": [],
   "source": [
    "my_tuple = (1, 2, 3)"
   ]
  },
  {
   "cell_type": "code",
   "execution_count": 57,
   "id": "3057b735-c380-4635-b621-ec09a8e645f6",
   "metadata": {},
   "outputs": [
    {
     "name": "stdout",
     "output_type": "stream",
     "text": [
      "Modified list: [10, 2, 3]\n"
     ]
    }
   ],
   "source": [
    "my_list[0] = 10  \n",
    "print(\"Modified list:\", my_list)  "
   ]
  },
  {
   "cell_type": "code",
   "execution_count": 58,
   "id": "1419fcdc-89f5-4176-bafe-4e177fbe57f0",
   "metadata": {},
   "outputs": [
    {
     "name": "stdout",
     "output_type": "stream",
     "text": [
      "Error: 'tuple' object does not support item assignment\n"
     ]
    }
   ],
   "source": [
    "try:\n",
    "    my_tuple[0] = 10\n",
    "except TypeError as e:\n",
    "    print(\"Error:\", e)"
   ]
  },
  {
   "cell_type": "code",
   "execution_count": 59,
   "id": "081dde55-cd27-47c1-80b4-070e06a762f3",
   "metadata": {},
   "outputs": [
    {
     "name": "stdout",
     "output_type": "stream",
     "text": [
      "List after appending: [10, 2, 3, 4]\n"
     ]
    }
   ],
   "source": [
    "# Add an element to the list\n",
    "my_list.append(4)\n",
    "print(\"List after appending:\", my_list)  # Output: [10, 2, 3, 4]"
   ]
  },
  {
   "cell_type": "code",
   "execution_count": 60,
   "id": "ccdccd65-f387-4e7a-9d4b-d5f2156a1627",
   "metadata": {},
   "outputs": [
    {
     "name": "stdout",
     "output_type": "stream",
     "text": [
      "Error: 'tuple' object has no attribute 'append'\n"
     ]
    }
   ],
   "source": [
    "# Attempt to add an element to the tuple (will result in an error)\n",
    "try:\n",
    "    my_tuple.append(4)\n",
    "except AttributeError as e:\n",
    "    print(\"Error:\", e)  # Output: Error: 'tuple' object has no attribute 'append'"
   ]
  },
  {
   "cell_type": "code",
   "execution_count": 61,
   "id": "9100373f-2249-411c-873c-84b2a742df14",
   "metadata": {},
   "outputs": [],
   "source": [
    "#  4) Make a tuple num = (1, 2, 3, 4)."
   ]
  },
  {
   "cell_type": "code",
   "execution_count": 63,
   "id": "84d7378e-db53-41b7-b159-1901aef8a57e",
   "metadata": {},
   "outputs": [],
   "source": [
    "num = (1, 2, 3, 4)"
   ]
  },
  {
   "cell_type": "code",
   "execution_count": 64,
   "id": "b5f990f1-a86e-4cc8-8208-aac1a7931267",
   "metadata": {},
   "outputs": [],
   "source": [
    "# Observe the output num[2] = 9"
   ]
  },
  {
   "cell_type": "code",
   "execution_count": 65,
   "id": "c3d3aba1-590e-4cfe-adc6-a0f66cd3a030",
   "metadata": {},
   "outputs": [
    {
     "name": "stdout",
     "output_type": "stream",
     "text": [
      "Error: 'tuple' object does not support item assignment\n"
     ]
    }
   ],
   "source": [
    "try:\n",
    "    num[2] = 9\n",
    "except TypeError as e:\n",
    "    print(\"Error:\", e)"
   ]
  },
  {
   "cell_type": "markdown",
   "id": "253a0e7a-63c8-4312-90a2-78d591499358",
   "metadata": {},
   "source": [
    "<font color='blue'>\n",
    "    \n",
    "# Dictionary:\n",
    "</font>"
   ]
  },
  {
   "cell_type": "markdown",
   "id": "7bca31dd-ebd2-4f65-a289-01c3f6204350",
   "metadata": {},
   "source": [
    ". Consider the following structure and observe."
   ]
  },
  {
   "cell_type": "code",
   "execution_count": 67,
   "id": "0b0755bb-f07f-4661-bd15-9d019527c63b",
   "metadata": {},
   "outputs": [],
   "source": [
    "Fd = {'one': 'aik', 'three': 'teen', 'ten': 'das', 'fifteen': 'pandra'}"
   ]
  },
  {
   "cell_type": "code",
   "execution_count": 68,
   "id": "5d106f99-415e-4b86-8561-058c65dfceb5",
   "metadata": {},
   "outputs": [],
   "source": [
    "# Print Fd"
   ]
  },
  {
   "cell_type": "code",
   "execution_count": 69,
   "id": "84c93a78-3857-473a-8912-aa8cfe6aa7e0",
   "metadata": {},
   "outputs": [
    {
     "name": "stdout",
     "output_type": "stream",
     "text": [
      "{'one': 'aik', 'three': 'teen', 'ten': 'das', 'fifteen': 'pandra'}\n"
     ]
    }
   ],
   "source": [
    "print(Fd)"
   ]
  },
  {
   "cell_type": "code",
   "execution_count": 70,
   "id": "81c75d5d-5ee6-4ee5-af58-5b3dd4768f35",
   "metadata": {},
   "outputs": [],
   "source": [
    "# Fd['one']"
   ]
  },
  {
   "cell_type": "code",
   "execution_count": 71,
   "id": "7656e289-7645-4b51-93b1-74ce58243c21",
   "metadata": {},
   "outputs": [
    {
     "name": "stdout",
     "output_type": "stream",
     "text": [
      "aik\n"
     ]
    }
   ],
   "source": [
    "print(Fd['one'])"
   ]
  },
  {
   "cell_type": "code",
   "execution_count": 72,
   "id": "a46137cf-59b6-4503-a864-d9e8ac7c8917",
   "metadata": {},
   "outputs": [],
   "source": [
    "# Fd['ten']"
   ]
  },
  {
   "cell_type": "code",
   "execution_count": 73,
   "id": "161398e9-5900-4223-bb22-fafef5b61284",
   "metadata": {},
   "outputs": [
    {
     "name": "stdout",
     "output_type": "stream",
     "text": [
      "das\n"
     ]
    }
   ],
   "source": [
    "print(Fd['ten'])"
   ]
  },
  {
   "cell_type": "code",
   "execution_count": 74,
   "id": "45dc5b28-6411-4bd5-8610-3bdcf67a133a",
   "metadata": {},
   "outputs": [],
   "source": [
    "# del Fd['three'] and then print Fd"
   ]
  },
  {
   "cell_type": "code",
   "execution_count": 75,
   "id": "33954e5f-9a79-4dce-bbad-b7d448b5cccb",
   "metadata": {},
   "outputs": [
    {
     "name": "stdout",
     "output_type": "stream",
     "text": [
      "{'one': 'aik', 'ten': 'das', 'fifteen': 'pandra'}\n"
     ]
    }
   ],
   "source": [
    "del Fd['three']\n",
    "print(Fd)"
   ]
  },
  {
   "cell_type": "code",
   "execution_count": 76,
   "id": "4fa2648e-65ec-47ef-bd70-1213fb288721",
   "metadata": {},
   "outputs": [],
   "source": [
    "#  Len(Fd)"
   ]
  },
  {
   "cell_type": "code",
   "execution_count": 77,
   "id": "c6a852d5-1b1c-4c23-b4eb-9cbfc6859ce6",
   "metadata": {},
   "outputs": [
    {
     "name": "stdout",
     "output_type": "stream",
     "text": [
      "3\n"
     ]
    }
   ],
   "source": [
    "print(len(Fd))"
   ]
  },
  {
   "cell_type": "code",
   "execution_count": 78,
   "id": "0b5dd83b-d942-4917-a0b6-461dfc0631ff",
   "metadata": {},
   "outputs": [],
   "source": [
    "# Use the key method and print the list of keys"
   ]
  },
  {
   "cell_type": "code",
   "execution_count": 79,
   "id": "f9357ee3-3dfb-411e-a8f5-d53a3bcc5e83",
   "metadata": {},
   "outputs": [
    {
     "name": "stdout",
     "output_type": "stream",
     "text": [
      "['one', 'ten', 'fifteen']\n"
     ]
    }
   ],
   "source": [
    "print(list(Fd.keys()))"
   ]
  },
  {
   "cell_type": "code",
   "execution_count": 80,
   "id": "4d2a8335-2e8a-4019-b891-80f318018bf9",
   "metadata": {},
   "outputs": [],
   "source": [
    "# Use the value function to print the list of values"
   ]
  },
  {
   "cell_type": "code",
   "execution_count": 81,
   "id": "863da014-e3f2-40af-a5b2-208e219071d6",
   "metadata": {},
   "outputs": [
    {
     "name": "stdout",
     "output_type": "stream",
     "text": [
      "['aik', 'das', 'pandra']\n"
     ]
    }
   ],
   "source": [
    "print(list(Fd.values()))"
   ]
  },
  {
   "cell_type": "code",
   "execution_count": 82,
   "id": "0f68dffa-7b75-471d-9f31-33b394cfd1ba",
   "metadata": {},
   "outputs": [],
   "source": [
    "# Observe the output of Fd.items()"
   ]
  },
  {
   "cell_type": "code",
   "execution_count": 83,
   "id": "49fb6648-1dda-4e1e-a64a-59411d8c157a",
   "metadata": {},
   "outputs": [
    {
     "name": "stdout",
     "output_type": "stream",
     "text": [
      "[('one', 'aik'), ('ten', 'das'), ('fifteen', 'pandra')]\n"
     ]
    }
   ],
   "source": [
    "print(list(Fd.items()))"
   ]
  },
  {
   "cell_type": "code",
   "execution_count": 84,
   "id": "6ebfa962-aad0-4229-b99a-7c3db4cffa81",
   "metadata": {},
   "outputs": [],
   "source": [
    "# . Observe the output Fd.has_key('one') and Fd.has_key('two') and think where such type of output will help and required."
   ]
  },
  {
   "cell_type": "code",
   "execution_count": 86,
   "id": "7a03a82e-ab88-4f23-b35a-a8f31c9e7cd6",
   "metadata": {},
   "outputs": [
    {
     "ename": "AttributeError",
     "evalue": "'dict' object has no attribute 'has_key'",
     "output_type": "error",
     "traceback": [
      "\u001b[1;31m---------------------------------------------------------------------------\u001b[0m",
      "\u001b[1;31mAttributeError\u001b[0m                            Traceback (most recent call last)",
      "Cell \u001b[1;32mIn[86], line 1\u001b[0m\n\u001b[1;32m----> 1\u001b[0m \u001b[38;5;28mprint\u001b[39m(\u001b[43mFd\u001b[49m\u001b[38;5;241;43m.\u001b[39;49m\u001b[43mhas_key\u001b[49m(\u001b[38;5;124m'\u001b[39m\u001b[38;5;124mone\u001b[39m\u001b[38;5;124m'\u001b[39m))\n",
      "\u001b[1;31mAttributeError\u001b[0m: 'dict' object has no attribute 'has_key'"
     ]
    }
   ],
   "source": [
    "print(Fd.has_key('one'))  "
   ]
  },
  {
   "cell_type": "code",
   "execution_count": 87,
   "id": "778db892-1f18-44cf-9fdc-252eb849c708",
   "metadata": {},
   "outputs": [
    {
     "ename": "AttributeError",
     "evalue": "'dict' object has no attribute 'has_key'",
     "output_type": "error",
     "traceback": [
      "\u001b[1;31m---------------------------------------------------------------------------\u001b[0m",
      "\u001b[1;31mAttributeError\u001b[0m                            Traceback (most recent call last)",
      "Cell \u001b[1;32mIn[87], line 1\u001b[0m\n\u001b[1;32m----> 1\u001b[0m \u001b[38;5;28mprint\u001b[39m(\u001b[43mFd\u001b[49m\u001b[38;5;241;43m.\u001b[39;49m\u001b[43mhas_key\u001b[49m(\u001b[38;5;124m'\u001b[39m\u001b[38;5;124mtwo\u001b[39m\u001b[38;5;124m'\u001b[39m))\n",
      "\u001b[1;31mAttributeError\u001b[0m: 'dict' object has no attribute 'has_key'"
     ]
    }
   ],
   "source": [
    "print(Fd.has_key('two'))  "
   ]
  },
  {
   "cell_type": "code",
   "execution_count": 88,
   "id": "b19cf1a1-34a4-4afb-8dab-70fbb5db51f5",
   "metadata": {},
   "outputs": [],
   "source": [
    "# To copy the dictionary, one may use one of the following. Verify by printing copy and alias."
   ]
  },
  {
   "cell_type": "code",
   "execution_count": 89,
   "id": "0ac05072-547d-4c09-866c-bfd93849f2ea",
   "metadata": {},
   "outputs": [],
   "source": [
    "# a. copy = Fd.copy()"
   ]
  },
  {
   "cell_type": "code",
   "execution_count": 90,
   "id": "ab00c016-f1f3-4e8d-a120-7f8ff12d1be3",
   "metadata": {},
   "outputs": [
    {
     "name": "stdout",
     "output_type": "stream",
     "text": [
      "{'one': 'aik', 'ten': 'das', 'fifteen': 'pandra'}\n"
     ]
    }
   ],
   "source": [
    "copy = Fd.copy()\n"
   ]
  },
  {
   "cell_type": "code",
   "execution_count": 91,
   "id": "ef49d767-e7ca-40b7-b2c5-f2b49b9d6336",
   "metadata": {},
   "outputs": [
    {
     "name": "stdout",
     "output_type": "stream",
     "text": [
      "{'one': 'aik', 'ten': 'das', 'fifteen': 'pandra'}\n"
     ]
    }
   ],
   "source": [
    "print(copy)"
   ]
  },
  {
   "cell_type": "code",
   "execution_count": 92,
   "id": "b4554f33-4d1a-4bd8-9dfa-9d8144e896db",
   "metadata": {},
   "outputs": [],
   "source": [
    "# b. alias = Fd"
   ]
  },
  {
   "cell_type": "code",
   "execution_count": 94,
   "id": "ddea58d1-c06e-483b-a137-1cdcc5dfd2b4",
   "metadata": {},
   "outputs": [],
   "source": [
    "alias = Fd"
   ]
  },
  {
   "cell_type": "code",
   "execution_count": 95,
   "id": "4cc83bf0-5cd7-4d31-9c9a-f7c98415d102",
   "metadata": {},
   "outputs": [
    {
     "name": "stdout",
     "output_type": "stream",
     "text": [
      "{'one': 'aik', 'ten': 'das', 'fifteen': 'pandra'}\n"
     ]
    }
   ],
   "source": [
    "print(alias)"
   ]
  },
  {
   "cell_type": "code",
   "execution_count": 96,
   "id": "a0e144bf-72d0-4219-9366-ad5b5f670226",
   "metadata": {},
   "outputs": [],
   "source": [
    "#  Now let alias['three'] = '3', now print alias and observe the result."
   ]
  },
  {
   "cell_type": "code",
   "execution_count": 98,
   "id": "fb734745-e067-4acd-b165-a45a3c79a4e7",
   "metadata": {},
   "outputs": [
    {
     "name": "stdout",
     "output_type": "stream",
     "text": [
      "{'one': 'aik', 'ten': 'das', 'fifteen': 'pandra', 'three': '3'}\n"
     ]
    }
   ],
   "source": [
    "alias['three'] = '3'\n",
    "print(alias)  "
   ]
  },
  {
   "cell_type": "code",
   "execution_count": 100,
   "id": "75c66b08-68ed-48b6-8234-d2adae8ae991",
   "metadata": {},
   "outputs": [],
   "source": [
    "#  Also let copy['three'] = '3', now print copy and observe the result."
   ]
  },
  {
   "cell_type": "code",
   "execution_count": 99,
   "id": "8abee441-73ca-410a-924b-fef5354ca64e",
   "metadata": {},
   "outputs": [
    {
     "name": "stdout",
     "output_type": "stream",
     "text": [
      "{'one': 'aik', 'ten': 'das', 'fifteen': 'pandra', 'three': '3'}\n"
     ]
    }
   ],
   "source": [
    "copy['three'] = '3'\n",
    "print(copy)  "
   ]
  },
  {
   "cell_type": "markdown",
   "id": "bad95054-f258-45fa-b012-06ff0f2a8b18",
   "metadata": {},
   "source": [
    "2. Make an appropriate dictionary and use the following built-in function and observe the \n",
    "result."
   ]
  },
  {
   "cell_type": "code",
   "execution_count": 101,
   "id": "983c5c65-16f5-4d10-a19b-f575ff5d002a",
   "metadata": {},
   "outputs": [],
   "source": [
    "my_dict = {'apple': 1, 'banana': 2, 'cherry': 3}"
   ]
  },
  {
   "cell_type": "code",
   "execution_count": null,
   "id": "c767d0d1-76d9-4ccb-ad95-414f0c888821",
   "metadata": {},
   "outputs": [],
   "source": [
    "# a. .clear()"
   ]
  },
  {
   "cell_type": "code",
   "execution_count": 109,
   "id": "779c4aed-d75b-4380-a019-e9cf59dd124f",
   "metadata": {},
   "outputs": [
    {
     "name": "stdout",
     "output_type": "stream",
     "text": [
      "Original dictionary: {'apple': 1, 'banana': 2, 'cherry': 3}\n",
      "After .clear(): {}\n"
     ]
    }
   ],
   "source": [
    "print(\"Original dictionary:\", my_dict) \n",
    "my_dict.clear()\n",
    "print(\"After .clear():\", my_dict) "
   ]
  },
  {
   "cell_type": "code",
   "execution_count": 110,
   "id": "4b710d72-d66d-40a6-a594-6775f9bef1fd",
   "metadata": {},
   "outputs": [],
   "source": [
    "my_dict = {'apple': 1, 'banana': 2, 'cherry': 3}"
   ]
  },
  {
   "cell_type": "code",
   "execution_count": 111,
   "id": "72156ec6-3306-4bac-8909-36ca026f067f",
   "metadata": {},
   "outputs": [],
   "source": [
    "# b. .get()"
   ]
  },
  {
   "cell_type": "code",
   "execution_count": 112,
   "id": "cfc074cc-5b0e-4329-9b1f-622a8ab2c268",
   "metadata": {},
   "outputs": [
    {
     "name": "stdout",
     "output_type": "stream",
     "text": [
      "Value for 'apple': 1\n",
      "Value for 'orange': None\n",
      "Value for 'orange' with default value: 0\n"
     ]
    }
   ],
   "source": [
    "print(\"Value for 'apple':\", my_dict.get('apple'))  # Output: 1\n",
    "print(\"Value for 'orange':\", my_dict.get('orange'))  # Output: None\n",
    "print(\"Value for 'orange' with default value:\", my_dict.get('orange', 0))  # Output: 0"
   ]
  },
  {
   "cell_type": "code",
   "execution_count": 113,
   "id": "53f19843-8743-4edd-ad52-a2de7cadbc42",
   "metadata": {},
   "outputs": [
    {
     "name": "stdout",
     "output_type": "stream",
     "text": [
      "Key-value pairs: [('apple', 1), ('banana', 2), ('cherry', 3)]\n"
     ]
    }
   ],
   "source": [
    "print(\"Key-value pairs:\", list(my_dict.items())) "
   ]
  },
  {
   "cell_type": "code",
   "execution_count": 114,
   "id": "adb11ae1-faf0-4b43-bc67-48beb1af935e",
   "metadata": {},
   "outputs": [],
   "source": [
    "# d. .keys()"
   ]
  },
  {
   "cell_type": "code",
   "execution_count": 115,
   "id": "d3c7753b-a221-4f75-bf63-dd9fb9cb3773",
   "metadata": {},
   "outputs": [
    {
     "name": "stdout",
     "output_type": "stream",
     "text": [
      "Keys: ['apple', 'banana', 'cherry']\n"
     ]
    }
   ],
   "source": [
    "print(\"Keys:\", list(my_dict.keys())) "
   ]
  },
  {
   "cell_type": "code",
   "execution_count": 116,
   "id": "311c8982-2174-4c3b-ac8f-fe81fceba22d",
   "metadata": {},
   "outputs": [],
   "source": [
    "# e. .values()"
   ]
  },
  {
   "cell_type": "code",
   "execution_count": 117,
   "id": "7ea8edcf-2a78-4eff-8565-2fe860c9ba6b",
   "metadata": {},
   "outputs": [
    {
     "name": "stdout",
     "output_type": "stream",
     "text": [
      "Values: [1, 2, 3]\n"
     ]
    }
   ],
   "source": [
    "print(\"Values:\", list(my_dict.values())) "
   ]
  },
  {
   "cell_type": "markdown",
   "id": "9588f936-e420-44cc-84f1-beda84946bbb",
   "metadata": {},
   "source": [
    "## List comprehensions:"
   ]
  },
  {
   "cell_type": "markdown",
   "id": "f2bd3e92-422d-4fa5-9a58-126df45aca64",
   "metadata": {},
   "source": [
    "a. Consider the following code and print the square"
   ]
  },
  {
   "cell_type": "code",
   "execution_count": 125,
   "id": "b1f3cccd-465a-4aef-847f-b251a99a99d7",
   "metadata": {},
   "outputs": [],
   "source": [
    "squares = []\n",
    "for x in range(10):\n",
    "    squares.append(x * x)"
   ]
  },
  {
   "cell_type": "code",
   "execution_count": 126,
   "id": "775cbf3a-0090-4a96-8e32-9ec6dcfe910e",
   "metadata": {},
   "outputs": [],
   "source": [
    "squares = [x * x for x in range(10)]"
   ]
  },
  {
   "cell_type": "code",
   "execution_count": 127,
   "id": "58aca7fa-06d8-4f58-a2b2-910413062bb0",
   "metadata": {},
   "outputs": [
    {
     "name": "stdout",
     "output_type": "stream",
     "text": [
      "[0, 1, 4, 9, 16, 25, 36, 49, 64, 81]\n"
     ]
    }
   ],
   "source": [
    "print (squares)"
   ]
  },
  {
   "cell_type": "markdown",
   "id": "e8dce3ef-3a41-4b01-8cfe-73aa4eece6c6",
   "metadata": {},
   "source": [
    "b. Replace the above code with the following. Print the square. This sample one-line code is \n",
    "called list comprehension"
   ]
  },
  {
   "cell_type": "code",
   "execution_count": 132,
   "id": "1472a3da-4850-468f-ad86-004d8db04616",
   "metadata": {},
   "outputs": [],
   "source": [
    "squares = [x * x for x in range(10)]"
   ]
  },
  {
   "cell_type": "code",
   "execution_count": 133,
   "id": "2b0683b2-f08f-42cd-8893-5b89df983fac",
   "metadata": {},
   "outputs": [
    {
     "name": "stdout",
     "output_type": "stream",
     "text": [
      "[0, 1, 4, 9, 16, 25, 36, 49, 64, 81]\n"
     ]
    }
   ],
   "source": [
    "print(squares)"
   ]
  },
  {
   "cell_type": "markdown",
   "id": "0dca3095-21b0-4d6b-af14-0697077eae40",
   "metadata": {},
   "source": [
    "c. Chane x*x by any function of x and observe the resulting list"
   ]
  },
  {
   "cell_type": "code",
   "execution_count": 134,
   "id": "809e63aa-6d67-425d-837f-17a0b2e59697",
   "metadata": {},
   "outputs": [],
   "source": [
    "new_list = [2 * x + 1 for x in range(10)] "
   ]
  },
  {
   "cell_type": "code",
   "execution_count": 135,
   "id": "d5be235f-8a3e-430c-86a6-992e9bfdf6e9",
   "metadata": {},
   "outputs": [
    {
     "name": "stdout",
     "output_type": "stream",
     "text": [
      "[1, 3, 5, 7, 9, 11, 13, 15, 17, 19]\n"
     ]
    }
   ],
   "source": [
    "print(new_list)"
   ]
  },
  {
   "cell_type": "markdown",
   "id": "7c043ccc-4523-4281-b8f5-ef0f454c7d4b",
   "metadata": {},
   "source": [
    "d.. List comprehensions can filter values based on some arbitrary condition that decides \n",
    "whether or not the resulting value becomes a part of the output list"
   ]
  },
  {
   "cell_type": "code",
   "execution_count": 140,
   "id": "bbf1caab-887b-4011-b28f-133f5a65f649",
   "metadata": {},
   "outputs": [],
   "source": [
    "even_numbers = [x for x in range(20) if x % 2 == 0]  "
   ]
  },
  {
   "cell_type": "code",
   "execution_count": 141,
   "id": "0ec5bffc-c484-42d2-b5de-8075c94d1fa5",
   "metadata": {},
   "outputs": [
    {
     "name": "stdout",
     "output_type": "stream",
     "text": [
      "[0, 2, 4, 6, 8, 10, 12, 14, 16, 18]\n"
     ]
    }
   ],
   "source": [
    "print(even_numbers) "
   ]
  },
  {
   "cell_type": "markdown",
   "id": "08108263-362f-46c1-a423-e8d103e199e9",
   "metadata": {},
   "source": [
    "e.This new list comprehension can be transformed into an equivalent for-loop:"
   ]
  },
  {
   "cell_type": "code",
   "execution_count": 144,
   "id": "5f1b9a59-6850-4674-81ed-27d20038a3ff",
   "metadata": {},
   "outputs": [],
   "source": [
    "even_squares = []\n",
    "for x in range(10):\n",
    "  if x % 2 == 0:\n",
    "    even_squares.append(x * x)"
   ]
  },
  {
   "cell_type": "code",
   "execution_count": 145,
   "id": "a9d71ef1-b578-469f-9d3b-cf95a197f4ee",
   "metadata": {},
   "outputs": [
    {
     "name": "stdout",
     "output_type": "stream",
     "text": [
      "[0, 4, 16, 36, 64]\n"
     ]
    }
   ],
   "source": [
    "print(even_squares) "
   ]
  },
  {
   "cell_type": "markdown",
   "id": "9707d4cb-aa92-4d8f-a14b-460b5619a81e",
   "metadata": {},
   "source": [
    "## Dictionary comprehension:"
   ]
  },
  {
   "cell_type": "code",
   "execution_count": 147,
   "id": "5dd06af5-0d9a-42e9-aa80-88d7e00d3461",
   "metadata": {},
   "outputs": [
    {
     "data": {
      "text/plain": [
       "{0: 0, 1: 1, 2: 4, 3: 9, 4: 16}"
      ]
     },
     "execution_count": 147,
     "metadata": {},
     "output_type": "execute_result"
    }
   ],
   "source": [
    "{ x: x * x for x in range(5) }"
   ]
  },
  {
   "cell_type": "code",
   "execution_count": 148,
   "id": "dc02993c-751e-4cfd-ab78-969f09215c46",
   "metadata": {},
   "outputs": [
    {
     "data": {
      "text/plain": [
       "{0: 0, 1: 1, 2: 4, 3: 9, 4: 16}"
      ]
     },
     "execution_count": 148,
     "metadata": {},
     "output_type": "execute_result"
    }
   ],
   "source": [
    "{0: 0, 1: 1, 2: 4, 3: 9, 4: 16}"
   ]
  }
 ],
 "metadata": {
  "kernelspec": {
   "display_name": "Python 3 (ipykernel)",
   "language": "python",
   "name": "python3"
  },
  "language_info": {
   "codemirror_mode": {
    "name": "ipython",
    "version": 3
   },
   "file_extension": ".py",
   "mimetype": "text/x-python",
   "name": "python",
   "nbconvert_exporter": "python",
   "pygments_lexer": "ipython3",
   "version": "3.9.19"
  }
 },
 "nbformat": 4,
 "nbformat_minor": 5
}
