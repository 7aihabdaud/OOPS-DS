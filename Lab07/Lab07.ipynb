{
 "cells": [
  {
   "cell_type": "markdown",
   "id": "d79ae20f-2fbd-485f-938b-f0deee56838a",
   "metadata": {},
   "source": [
    "<font color='teal'>\n",
    "\n",
    "#  *Aihab Daud*\n",
    "##  *REG # 23jzelel0509*\n",
    "\n",
    "</font>"
   ]
  },
  {
   "cell_type": "markdown",
   "id": "803def21-ef7e-48d3-b137-3298d903d29a",
   "metadata": {},
   "source": [
    "<font color='teal'>\n",
    "    \n",
    "### Subject: OOP & DS\n",
    "### **LAB-07**\n",
    "\n",
    "</font>"
   ]
  },
  {
   "cell_type": "markdown",
   "id": "56d342dd-20b3-43ac-ba9e-598d2bc3a91b",
   "metadata": {},
   "source": [
    "<font color='teal'>\n",
    "    \n",
    "####     SUBJECT\n",
    "#####           *Inheritance Classes*\n",
    "</font>"
   ]
  },
  {
   "cell_type": "markdown",
   "id": "b135993e-57cf-4dc1-a80c-c684b205b7af",
   "metadata": {},
   "source": [
    "## Problem 1"
   ]
  },
  {
   "cell_type": "markdown",
   "id": "63e13ed3-fa79-4202-8df6-954a6cba04aa",
   "metadata": {},
   "source": [
    " a.\tTake the example of the square class in the last lab and inherit a cube class with its own volume and surface area instance method. "
   ]
  },
  {
   "cell_type": "markdown",
   "id": "d5a2e0d4-938a-448c-8b75-039c21fbaa45",
   "metadata": {},
   "source": [
    "### Parent Class"
   ]
  },
  {
   "cell_type": "code",
   "execution_count": 12,
   "id": "db834583-dbb1-4582-8441-5de269052202",
   "metadata": {},
   "outputs": [],
   "source": [
    "class Square:\n",
    "    def __init__(self, side_length):\n",
    "        self.side_length = side_length\n",
    "    \n",
    "    def area(self):\n",
    "        return self.side_length ** 2\n",
    "    \n",
    "    def perimeter(self):\n",
    "        return 4 * self.side_length\n",
    "    \n",
    "    def __str__(self):\n",
    "        return f\"Square with side length {self.side_length}\"\n",
    "\n",
    "    def __repr__(self):\n",
    "        return f\"Square({self.side_length})\"\n",
    "        "
   ]
  },
  {
   "cell_type": "markdown",
   "id": "3a01f929-274c-4a0f-8d54-462021759905",
   "metadata": {},
   "source": [
    " Inherit cube class"
   ]
  },
  {
   "cell_type": "code",
   "execution_count": 5,
   "id": "ac82bd22-002f-4bb1-abba-f7cd3e03a1ae",
   "metadata": {},
   "outputs": [],
   "source": [
    "class Cube(Square):\n",
    "    def __init__(self, side_length):\n",
    "        super().__init__(side_length)\n",
    "    \n",
    "    def volume(self):\n",
    "        return self.side_length ** 3\n",
    "    \n",
    "    def surface_area(self):\n",
    "        return 6 * self.side_length ** 2\n",
    "    \n",
    "    def __str__(self):\n",
    "        return f\"Cube with side length {self.side_length}\"\n",
    "\n",
    "    def __repr__(self):\n",
    "        return f\"Cube({self.side_length})\""
   ]
  },
  {
   "cell_type": "code",
   "execution_count": 6,
   "id": "13837d79-8273-400f-81da-867a0232f8c2",
   "metadata": {},
   "outputs": [],
   "source": [
    "# cube class instance"
   ]
  },
  {
   "cell_type": "code",
   "execution_count": 7,
   "id": "4aab3484-2bd4-436e-ad2a-54d359e661b5",
   "metadata": {},
   "outputs": [],
   "source": [
    "A=Cube(3)"
   ]
  },
  {
   "cell_type": "code",
   "execution_count": 8,
   "id": "7226a627-8938-438f-bc34-661bff1210a0",
   "metadata": {},
   "outputs": [
    {
     "data": {
      "text/plain": [
       "54"
      ]
     },
     "execution_count": 8,
     "metadata": {},
     "output_type": "execute_result"
    }
   ],
   "source": [
    "A.surface_area()"
   ]
  },
  {
   "cell_type": "markdown",
   "id": "e240db90-9218-4312-b4a4-3e4448b3d49a",
   "metadata": {},
   "source": [
    " b.\tCreate two instances of the cube class and call both the instance methods."
   ]
  },
  {
   "cell_type": "code",
   "execution_count": 9,
   "id": "7074c7f8-a40e-4ab5-80e3-0076b132ab7c",
   "metadata": {},
   "outputs": [
    {
     "name": "stdout",
     "output_type": "stream",
     "text": [
      "Square Area: 4\n",
      "Square Perimeter: 8\n"
     ]
    }
   ],
   "source": [
    "square = Square(2)\n",
    "print(f\"Square Area: {square.area()}\")  \n",
    "print(f\"Square Perimeter: {square.perimeter()}\")  "
   ]
  },
  {
   "cell_type": "code",
   "execution_count": 11,
   "id": "e361f8c6-deca-4838-bc7b-f7b136fd2491",
   "metadata": {},
   "outputs": [
    {
     "name": "stdout",
     "output_type": "stream",
     "text": [
      "Cube Volume: 27\n",
      "Cube Surface Area: 54\n"
     ]
    }
   ],
   "source": [
    "cube = Cube(3)\n",
    "print(f\"Cube Volume: {cube.volume()}\")  \n",
    "print(f\"Cube Surface Area: {cube.surface_area()}\")"
   ]
  },
  {
   "cell_type": "markdown",
   "id": "2ad089f8-8a09-4a08-b550-eab4f721a5e1",
   "metadata": {},
   "source": [
    "## Problem 3"
   ]
  },
  {
   "cell_type": "markdown",
   "id": "76de2af6-6d29-40ea-b33b-091ef2d065d1",
   "metadata": {},
   "source": [
    " a.\tTake the example of the Point2D class in the last lab and inherit a cube class with its own distance_from_origin instance methods. "
   ]
  },
  {
   "cell_type": "markdown",
   "id": "5794d2d5-028f-42b4-a19f-30162ed76183",
   "metadata": {},
   "source": [
    "### Parent Class"
   ]
  },
  {
   "cell_type": "code",
   "execution_count": 15,
   "id": "7df98cc2-a225-4961-879f-bd8522d500d7",
   "metadata": {},
   "outputs": [],
   "source": [
    "import math\n",
    "\n",
    "class Point2D:\n",
    "    def __init__(self, x, y):\n",
    "        self.x = x\n",
    "        self.y = y\n",
    "    \n",
    "    def distance_from_origin(self):\n",
    "        return math.sqrt(self.x ** 2 + self.y ** 2)\n",
    "    \n",
    "    def __str__(self):\n",
    "        return f\"Point2D({self.x}, {self.y})\"\n",
    "    \n",
    "    def __repr__(self):\n",
    "        return f\"Point2D({self.x}, {self.y})\""
   ]
  },
  {
   "cell_type": "code",
   "execution_count": 16,
   "id": "a8a432ce-7edb-423c-ab56-ff6316f7cbe9",
   "metadata": {},
   "outputs": [],
   "source": [
    "# Inherit 3D Class"
   ]
  },
  {
   "cell_type": "code",
   "execution_count": 17,
   "id": "4caec5fe-a0ac-43b4-b8b0-0a0c0cfdb88c",
   "metadata": {},
   "outputs": [],
   "source": [
    "class Point3D(Point2D):\n",
    "    def __init__(self, x, y, z):\n",
    "        super().__init__(x, y)\n",
    "        self.z = z\n",
    "    def distance_from_origin(self):\n",
    "        r2d = super().distance_from_origin()\n",
    "        return math.sqrt(r2d ** 2 + self.z ** 2)\n",
    "    def __str__(self):\n",
    "        return f\"Point3D({self.x}, {self.y}, {self.z})\"\n",
    "    def __repr__(self):\n",
    "        return f\"Point3D({self.x}, {self.y}, {self.z})\""
   ]
  },
  {
   "cell_type": "markdown",
   "id": "04a874f3-f23e-4de3-947d-7d6b83521a3c",
   "metadata": {},
   "source": [
    " b.\tCreate two instances and call the instance methods."
   ]
  },
  {
   "cell_type": "code",
   "execution_count": 21,
   "id": "ce51f112-a849-4274-be87-a8a57b5fbe32",
   "metadata": {},
   "outputs": [
    {
     "name": "stdout",
     "output_type": "stream",
     "text": [
      "2D Point: Point2D(3, 4)\n",
      "Distance from origin (2D): 5.0\n"
     ]
    }
   ],
   "source": [
    "point_2d = Point2D(3, 4)\n",
    "print(f\"2D Point: {str(point_2d)}\")  \n",
    "print(f\"Distance from origin (2D): {point_2d.distance_from_origin()}\")  "
   ]
  },
  {
   "cell_type": "code",
   "execution_count": 22,
   "id": "ec30a2ce-b78b-44fc-b69f-14ea61ea138f",
   "metadata": {},
   "outputs": [
    {
     "name": "stdout",
     "output_type": "stream",
     "text": [
      "3D Point: Point3D(3, 5, 7)\n",
      "Distance from origin (3D): 9.1104335791443\n"
     ]
    }
   ],
   "source": [
    "point_3d = Point3D(3, 5, 7)\n",
    "print(f\"3D Point: {str(point_3d)}\")  \n",
    "print(f\"Distance from origin (3D): {point_3d.distance_from_origin()}\")  "
   ]
  },
  {
   "cell_type": "markdown",
   "id": "ea37390f-8460-46ec-86e7-f6ee2ebb22fd",
   "metadata": {},
   "source": [
    "## Problem 2:"
   ]
  },
  {
   "cell_type": "markdown",
   "id": "aa8e0d72-3d3b-4279-8268-bb13bad6d321",
   "metadata": {},
   "source": [
    " a.\tTake the example of the rectangle class in the last lab and inherit a square class. "
   ]
  },
  {
   "cell_type": "markdown",
   "id": "4652b436-a6c8-4b2e-a979-e114a5045d50",
   "metadata": {},
   "source": [
    "### Parent class"
   ]
  },
  {
   "cell_type": "code",
   "execution_count": 23,
   "id": "f7fc451e-328c-4a0e-8ade-c0f594297c37",
   "metadata": {},
   "outputs": [],
   "source": [
    "class Rectangle:\n",
    "    def __init__(self, length, width):\n",
    "        self.length = length\n",
    "        self.width = width\n",
    "\n",
    "    def area(self):\n",
    "        return self.length * self.width\n",
    "\n",
    "    def perimeter(self):\n",
    "        return 2 * (self.length + self.width)\n",
    "\n",
    "    def diagonal(self):\n",
    "        import math\n",
    "        return math.sqrt(self.length**2 + self.width**2)\n",
    "\n",
    "    def __str__(self):\n",
    "        return f\"Rectangle with length {self.length} and width {self.width}\"\n",
    "\n",
    "    def __repr__(self):\n",
    "        return f\"Rectangle({self.length}, {self.width})\"\n"
   ]
  },
  {
   "cell_type": "raw",
   "id": "6b312d11-bca4-4506-85fc-bfe9fef1d2f9",
   "metadata": {},
   "source": [
    "# Inherint Square class"
   ]
  },
  {
   "cell_type": "code",
   "execution_count": 24,
   "id": "e2ad35b2-6f0a-4f31-ac61-7d75071aa753",
   "metadata": {},
   "outputs": [],
   "source": [
    "class Square(Rectangle):\n",
    "    def __init__(self, side):\n",
    "        super().__init__(side, side)"
   ]
  },
  {
   "cell_type": "markdown",
   "id": "979dc63e-7168-4045-8648-2f2ffa6e0434",
   "metadata": {},
   "source": [
    "### b.\tCreate two instances of the rectangle class and call the instance methods"
   ]
  },
  {
   "cell_type": "code",
   "execution_count": 25,
   "id": "5047ac57-b390-407e-bc28-3fe85c0b6147",
   "metadata": {},
   "outputs": [],
   "source": [
    "rect1 = Rectangle(5, 3)"
   ]
  },
  {
   "cell_type": "code",
   "execution_count": 26,
   "id": "7d8489cb-2565-4b23-8c01-e1b4f8e5dfd3",
   "metadata": {},
   "outputs": [],
   "source": [
    "rect2 = Rectangle(4, 6)"
   ]
  },
  {
   "cell_type": "code",
   "execution_count": 27,
   "id": "960e4883-d04e-4437-adff-249069ce678f",
   "metadata": {},
   "outputs": [
    {
     "name": "stdout",
     "output_type": "stream",
     "text": [
      "15\n",
      "16\n",
      "5.830951894845301\n"
     ]
    }
   ],
   "source": [
    "print(rect1.area()) \n",
    "print(rect1.perimeter())  \n",
    "print(rect1.diagonal())  "
   ]
  },
  {
   "cell_type": "code",
   "execution_count": 28,
   "id": "3ad34a7d-6dad-415c-abfe-b431e2f01b35",
   "metadata": {},
   "outputs": [
    {
     "name": "stdout",
     "output_type": "stream",
     "text": [
      "24\n",
      "20\n",
      "7.211102550927978\n"
     ]
    }
   ],
   "source": [
    "print(rect2.area())  \n",
    "print(rect2.perimeter())  \n",
    "print(rect2.diagonal())  "
   ]
  },
  {
   "cell_type": "markdown",
   "id": "5ec6e36a-1bad-41d0-9f34-403ed5c6aa07",
   "metadata": {},
   "source": [
    "## Problem 4:"
   ]
  },
  {
   "cell_type": "markdown",
   "id": "358767bc-08f0-41c1-b83e-9e1fd04dbb44",
   "metadata": {},
   "source": [
    "  The HR system needs to process payroll for the company’s employees, but there are different types of employees depending on how their payroll is calculated."
   ]
  },
  {
   "cell_type": "markdown",
   "id": "fc4377f2-f322-4097-b0bc-949f23fd010c",
   "metadata": {},
   "source": [
    "##  Base Employee Class"
   ]
  },
  {
   "cell_type": "markdown",
   "id": "3c841c0d-3d3d-4875-b51d-418f01fee045",
   "metadata": {},
   "source": [
    "#1.\tImplement a base class, Employee, that handles the common interface for every employee"
   ]
  },
  {
   "cell_type": "code",
   "execution_count": 29,
   "id": "ebbdd372-1cc1-4576-8a19-fce8d421f9cc",
   "metadata": {},
   "outputs": [],
   "source": [
    "class Employee:\n",
    "    def __init__(self, id, name):\n",
    "        self.id = id\n",
    "        self.name = name\n",
    "\n",
    "    def calculate_payroll(self):\n",
    "        raise NotImplementedError(\"Subclasses must implement calculate_payroll()\")"
   ]
  },
  {
   "cell_type": "markdown",
   "id": "a6e22b88-fd15-4847-98de-868983d91a24",
   "metadata": {},
   "source": [
    " 2.\tAdministrative workers have a fixed salary, so every week they get paid the same amount"
   ]
  },
  {
   "cell_type": "raw",
   "id": "e5ff232a-b7b3-4462-94a2-6df0f6979f1b",
   "metadata": {},
   "source": [
    "# a)\tYou create a derived class, SalaryEmployee, that inherits from Employee. The class initializes with the .id and .name required by the base class, and you use super() to initialize the members of the base class. \n",
    "b)\tSalaryEmployee also requires a weekly_salary initialization parameter that represents the amount that the employee makes per week.\n",
    "c)\tThe class provides the required .calculate_payroll() method that the HR system uses. The implementation just returns the amount stored in weekly_salary.\n"
   ]
  },
  {
   "cell_type": "markdown",
   "id": "9903d498-8d4e-4ee7-9e85-d0b742009cbf",
   "metadata": {},
   "source": [
    "## SalaryEmployee Class"
   ]
  },
  {
   "cell_type": "code",
   "execution_count": 30,
   "id": "86e22acd-f585-4de4-8172-9f8a11e38b4b",
   "metadata": {},
   "outputs": [],
   "source": [
    "class SalaryEmployee(Employee):\n",
    "    def __init__(self, id, name, weekly_salary):\n",
    "        super().__init__(id, name)\n",
    "        self.weekly_salary = weekly_salary\n",
    "\n",
    "    def calculate_payroll(self):\n",
    "        return self.weekly_salary"
   ]
  },
  {
   "cell_type": "code",
   "execution_count": 31,
   "id": "e8322bf5-8957-419c-9d6a-b6617b27aabf",
   "metadata": {},
   "outputs": [],
   "source": [
    "raib=SalaryEmployee(2, \"aihab\", 14)"
   ]
  },
  {
   "cell_type": "markdown",
   "id": "6d36bdfd-32af-4778-bb28-5b6e346a33a8",
   "metadata": {},
   "source": [
    "#3.\tThe company also employs manufacturing workers who are paid by the hour, so you add HourlyEmployee to the HR system"
   ]
  },
  {
   "cell_type": "raw",
   "id": "9d3e247a-74c1-4183-b986-4fd373b376fe",
   "metadata": {},
   "source": [
    "# a)\tYou create a derived class, HourlyEmployee, that inherits from Employee. The class initializes with the .id and .name required by the base class, and you use super() to initialize the members of the base class. \n",
    "b)\tHourlyEmployee also requires hours_worked and the hourly_rate required to calculate the payroll. \n",
    "c)\tThe class provides the required .calculate_payroll() method by returning the hours worked times the hourly rate.\n"
   ]
  },
  {
   "cell_type": "markdown",
   "id": "d1516b5a-4e22-4ca8-9218-70884728917d",
   "metadata": {},
   "source": [
    "## HourlyEmployee Class"
   ]
  },
  {
   "cell_type": "code",
   "execution_count": 32,
   "id": "b4915d26-51e0-4f8b-b34c-1e82d7d00c45",
   "metadata": {},
   "outputs": [],
   "source": [
    "class HourlyEmployee(Employee):\n",
    "    def __init__(self, id, name, hours_worked, hour_rate):\n",
    "        super().__init__(id, name)\n",
    "        self.hours_worked = hours_worked\n",
    "        self.hour_rate = hour_rate\n",
    "\n",
    "    def calculate_payroll(self):\n",
    "        return self.hours_worked * self.hour_rate"
   ]
  },
  {
   "cell_type": "code",
   "execution_count": 33,
   "id": "e8d44c02-e5cc-45c4-b86e-eee5a42640d6",
   "metadata": {},
   "outputs": [],
   "source": [
    "shh=HourlyEmployee(3 , \"shah\" ,10, 5)"
   ]
  },
  {
   "cell_type": "markdown",
   "id": "3547c317-0d20-4ec7-a844-8534c27d7e99",
   "metadata": {},
   "source": [
    " 4.\tthe company employs sales associates who are paid through a fixed salary plus a commission based on their sales, so you create a CommissionEmployee class"
   ]
  },
  {
   "cell_type": "raw",
   "id": "b861cfef-97f4-4b98-83e2-69e759178867",
   "metadata": {},
   "source": [
    "# a)\tDerive CommissionEmployee from SalaryEmployee because both classes have a weekly_salary to consider. At the same time, you initialize CommissionEmployee with a commission value that’s based on the sales for the employee.\n",
    "b)\tIn .calculate_payroll(), you leverage the implementation of the base class to retrieve the fixed salary, and you add the commission value.\n"
   ]
  },
  {
   "cell_type": "markdown",
   "id": "f35429cd-d1d8-45ec-b510-5d368e97cf1a",
   "metadata": {},
   "source": [
    "## CommissionEmployee Class"
   ]
  },
  {
   "cell_type": "code",
   "execution_count": 34,
   "id": "84ef0971-f7a9-4ffb-8a19-1dcfc35f0d55",
   "metadata": {},
   "outputs": [],
   "source": [
    "class CommissionEmployee(SalaryEmployee):\n",
    "    def __init__(self, id, name, weekly_salary, commission):\n",
    "        super().__init__(id, name, weekly_salary)\n",
    "        self.commission = commission\n",
    "\n",
    "    def calculate_payroll(self):\n",
    "        return super().calculate_payroll() + self.commission"
   ]
  },
  {
   "cell_type": "code",
   "execution_count": 35,
   "id": "88517d04-f00c-47ed-a092-1782869cd841",
   "metadata": {},
   "outputs": [],
   "source": [
    "a=CommissionEmployee(2, \"aihab\", 10, 2)"
   ]
  },
  {
   "cell_type": "code",
   "execution_count": 36,
   "id": "81c16f2a-d2a8-4a27-8bd0-a7ef93e364c7",
   "metadata": {},
   "outputs": [
    {
     "data": {
      "text/plain": [
       "12"
      ]
     },
     "execution_count": 36,
     "metadata": {},
     "output_type": "execute_result"
    }
   ],
   "source": [
    "a.calculate_payroll()"
   ]
  },
  {
   "cell_type": "markdown",
   "id": "e4f15ea3-72d5-4023-8785-d6667bc4244a",
   "metadata": {},
   "source": [
    "5.\tImplementing a PayrollSystem class that processes payroll"
   ]
  },
  {
   "cell_type": "raw",
   "id": "d8a7a97e-3759-47b4-ae8a-483a264a72a0",
   "metadata": {},
   "source": [
    "# a)\tPayrollSystem implements a .calculate_payroll() method that takes a collection of employees and prints their .id, .name, and check amount using the .calculate_payroll() method exposed on each employee object."
   ]
  },
  {
   "cell_type": "markdown",
   "id": "099ae859-b887-4885-a6e8-8f09be5fbff3",
   "metadata": {},
   "source": [
    "### PayrollSystem Class"
   ]
  },
  {
   "cell_type": "code",
   "execution_count": 37,
   "id": "5e718b02-4e1b-438f-9ee6-c88808fa94a8",
   "metadata": {},
   "outputs": [],
   "source": [
    "class PayrollSystem:\n",
    "    def calculate_payroll(self, employees):\n",
    "        for employee in employees:\n",
    "            print(f\"Employee {employee.id} - {employee.name} - ${employee.calculate_payroll()}\")"
   ]
  },
  {
   "cell_type": "markdown",
   "id": "bf0b4f0f-a637-4af3-8e92-f6a4dd02ef22",
   "metadata": {},
   "source": [
    "Task:  creates the employees and passes them to the payroll system to process payroll"
   ]
  },
  {
   "cell_type": "markdown",
   "id": "97bba500-d0c6-4a25-840b-6d6986360adb",
   "metadata": {},
   "source": [
    "### Creating Employees and Processing Payroll"
   ]
  },
  {
   "cell_type": "code",
   "execution_count": 38,
   "id": "e36ba18f-16ea-4c42-b215-322b5160e6ca",
   "metadata": {},
   "outputs": [
    {
     "name": "stdout",
     "output_type": "stream",
     "text": [
      "Employee 1 - Aihab - $10\n",
      "Employee 2 - Raib - $50\n",
      "Employee 3 - Adil - $150\n"
     ]
    }
   ],
   "source": [
    "salary_employee = SalaryEmployee(1, \"Aihab\", 10)\n",
    "hourly_employee = HourlyEmployee(2, \"Raib\", 10, 5)\n",
    "commission_employee = CommissionEmployee(3, \"Adil\", 100, 50)\n",
    "\n",
    "payroll_system = PayrollSystem()\n",
    "payroll_system.calculate_payroll([salary_employee, hourly_employee, commission_employee])"
   ]
  },
  {
   "cell_type": "markdown",
   "id": "b3955c60-adff-4f01-b473-0e199298d968",
   "metadata": {},
   "source": [
    "## Problem 5:"
   ]
  },
  {
   "cell_type": "markdown",
   "id": "f2cf3ae7-e515-4efc-a599-109f1848c275",
   "metadata": {},
   "source": [
    "Design a class for the employee of electrical department "
   ]
  },
  {
   "cell_type": "code",
   "execution_count": 1,
   "id": "4bcc4d57-a047-4fcc-a4da-db911588278e",
   "metadata": {},
   "outputs": [],
   "source": [
    "# 1. Base Class: Employee"
   ]
  },
  {
   "cell_type": "code",
   "execution_count": 2,
   "id": "05c6078d-2633-4d06-8cd8-85195038dcd4",
   "metadata": {},
   "outputs": [],
   "source": [
    "class Employee:\n",
    "    def __init__(self, name: str, email: str, pay: float):\n",
    "        self.name = name\n",
    "        self.email = email\n",
    "        self.pay = pay\n",
    "\n",
    "    def raise_pay(self, percent: float):\n",
    "        self.pay *= (1 + percent / 100)"
   ]
  },
  {
   "cell_type": "code",
   "execution_count": 3,
   "id": "488eeb70-f4d0-48b8-9a05-13f4fdf3197b",
   "metadata": {},
   "outputs": [],
   "source": [
    "# 2. Derived Class: Instructor"
   ]
  },
  {
   "cell_type": "code",
   "execution_count": 5,
   "id": "e0688285-ade5-4640-82b5-f3c9b4528963",
   "metadata": {},
   "outputs": [],
   "source": [
    "class Instructor(Employee):\n",
    "    def __init__(self, name: str, email: str, pay: float, designation: str):\n",
    "        super().__init__(name, email, pay)\n",
    "        self.designation = designation\n",
    "        self.courses = []\n",
    "    def assign_course(self, course):\n",
    "        self.courses.append(course)"
   ]
  },
  {
   "cell_type": "code",
   "execution_count": 6,
   "id": "a5d9fc7f-7da8-4da2-8c90-debef4b76635",
   "metadata": {},
   "outputs": [],
   "source": [
    "class AdminStaff(Employee):\n",
    "    def __init__(self, name: str, email: str, pay: float, team: str = None):\n",
    "        super().__init__(name, email, pay)\n",
    "        self.team = team\n",
    "        self.tasks = []\n",
    "\n",
    "    def assign_task(self, task):\n",
    "        self.tasks.append(task)"
   ]
  },
  {
   "cell_type": "code",
   "execution_count": 10,
   "id": "2c1fa846-0b2f-4438-bedc-d08567e8396f",
   "metadata": {},
   "outputs": [],
   "source": [
    "instructor1 = Instructor(\"irshad\", \"irshad@uetpeshawar.edu.pk\", 50000, \"lecturer\")\n",
    "instructor1.assign_course(\"EE101\")\n",
    "instructor1.raise_pay(5) "
   ]
  },
  {
   "cell_type": "code",
   "execution_count": 12,
   "id": "11afbc04-342c-49bd-a70a-c1371d64f700",
   "metadata": {},
   "outputs": [],
   "source": [
    "admin1 = AdminStaff(\"mr\", \"mr@example.com\", 40000, \"IT Support\")\n",
    "admin1.assign_task(\"Fix network issues in Lab 3\")"
   ]
  }
 ],
 "metadata": {
  "kernelspec": {
   "display_name": "Python 3 (ipykernel)",
   "language": "python",
   "name": "python3"
  },
  "language_info": {
   "codemirror_mode": {
    "name": "ipython",
    "version": 3
   },
   "file_extension": ".py",
   "mimetype": "text/x-python",
   "name": "python",
   "nbconvert_exporter": "python",
   "pygments_lexer": "ipython3",
   "version": "3.9.19"
  }
 },
 "nbformat": 4,
 "nbformat_minor": 5
}
