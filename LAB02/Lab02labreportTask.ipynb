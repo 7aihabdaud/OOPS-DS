{
 "cells": [
  {
   "cell_type": "markdown",
   "id": "ae5569e7-e21f-49e6-a452-60b7207363e3",
   "metadata": {},
   "source": [
    "# Lab 2"
   ]
  },
  {
   "cell_type": "markdown",
   "id": "05f10b08-0bbe-4e25-bf8e-ee7a98d87d99",
   "metadata": {},
   "source": [
    "# Define a function that will take the parameters as current and resistance and will output the voltage across the resistance."
   ]
  },
  {
   "cell_type": "code",
   "execution_count": 2,
   "id": "a8aca0e9-7c1b-4f1d-8558-d57aea6008a8",
   "metadata": {},
   "outputs": [],
   "source": [
    "def calculate_voltage(current, resistance):\n",
    "    voltage = current * resistance\n",
    "    return voltage"
   ]
  },
  {
   "cell_type": "markdown",
   "id": "b1c5e000-c26c-417a-9602-ac676d45615b",
   "metadata": {},
   "source": [
    "# a. The argument pass will like positional arguments."
   ]
  },
  {
   "cell_type": "code",
   "execution_count": 3,
   "id": "7e47473c-bbe4-4599-abb0-1363b6a10589",
   "metadata": {},
   "outputs": [],
   "source": [
    "voltage = calculate_voltage(2, 10)  "
   ]
  },
  {
   "cell_type": "code",
   "execution_count": 4,
   "id": "5e7b3be6-d370-427c-822b-1b377b5945cb",
   "metadata": {},
   "outputs": [
    {
     "name": "stdout",
     "output_type": "stream",
     "text": [
      "20\n"
     ]
    }
   ],
   "source": [
    "print(voltage)  "
   ]
  },
  {
   "cell_type": "markdown",
   "id": "962cf320-33ea-4e06-b175-9e7295b1ec17",
   "metadata": {},
   "source": [
    "# b. The arguments passing will like keyword arguments."
   ]
  },
  {
   "cell_type": "code",
   "execution_count": 5,
   "id": "1b49b0d2-43f8-4c06-8a9b-c672cdc2c8f8",
   "metadata": {},
   "outputs": [],
   "source": [
    "voltage = calculate_voltage(resistance=10, current=2)"
   ]
  },
  {
   "cell_type": "code",
   "execution_count": 6,
   "id": "2a57c78b-e686-4249-92c3-edc55467a4d4",
   "metadata": {},
   "outputs": [
    {
     "name": "stdout",
     "output_type": "stream",
     "text": [
      "20\n"
     ]
    }
   ],
   "source": [
    "print(voltage)"
   ]
  },
  {
   "cell_type": "markdown",
   "id": "d1b3947f-a7d4-46f6-87d3-92e9dfea0f72",
   "metadata": {},
   "source": [
    "# c. The arguments passing will like default arguments."
   ]
  },
  {
   "cell_type": "raw",
   "id": "abea8167-f9f6-40bf-93dd-15774734e319",
   "metadata": {},
   "source": [
    "# Providing both arguments"
   ]
  },
  {
   "cell_type": "code",
   "execution_count": 7,
   "id": "b37d031a-9ad9-4adb-86eb-4963a46e796c",
   "metadata": {},
   "outputs": [],
   "source": [
    "voltage = calculate_voltage(2, 5) "
   ]
  },
  {
   "cell_type": "code",
   "execution_count": 8,
   "id": "ac09b3e6-3bcf-4086-8daa-3b3bcac2d9cc",
   "metadata": {},
   "outputs": [
    {
     "name": "stdout",
     "output_type": "stream",
     "text": [
      "10\n"
     ]
    }
   ],
   "source": [
    "print(voltage)  "
   ]
  },
  {
   "cell_type": "code",
   "execution_count": 9,
   "id": "3aa22302-bc40-4382-85fe-672655aaa64c",
   "metadata": {},
   "outputs": [],
   "source": [
    "# Providing one argument"
   ]
  },
  {
   "cell_type": "code",
   "execution_count": 10,
   "id": "bf5ecc1f-268c-415f-8b2f-b3d6f7afefc6",
   "metadata": {},
   "outputs": [
    {
     "ename": "TypeError",
     "evalue": "calculate_voltage() missing 1 required positional argument: 'resistance'",
     "output_type": "error",
     "traceback": [
      "\u001b[1;31m---------------------------------------------------------------------------\u001b[0m",
      "\u001b[1;31mTypeError\u001b[0m                                 Traceback (most recent call last)",
      "Cell \u001b[1;32mIn[10], line 1\u001b[0m\n\u001b[1;32m----> 1\u001b[0m voltage \u001b[38;5;241m=\u001b[39m \u001b[43mcalculate_voltage\u001b[49m\u001b[43m(\u001b[49m\u001b[38;5;241;43m3\u001b[39;49m\u001b[43m)\u001b[49m\n",
      "\u001b[1;31mTypeError\u001b[0m: calculate_voltage() missing 1 required positional argument: 'resistance'"
     ]
    }
   ],
   "source": [
    "voltage = calculate_voltage(3)  "
   ]
  },
  {
   "cell_type": "code",
   "execution_count": 11,
   "id": "d6c70338-6a42-48a5-bbbe-9d3750fc473f",
   "metadata": {},
   "outputs": [
    {
     "name": "stdout",
     "output_type": "stream",
     "text": [
      "10\n"
     ]
    }
   ],
   "source": [
    "print(voltage)  "
   ]
  },
  {
   "cell_type": "raw",
   "id": "e1ec2048-a607-46e2-8743-e47344bff25e",
   "metadata": {},
   "source": [
    "# Providing no arguments"
   ]
  },
  {
   "cell_type": "code",
   "execution_count": 12,
   "id": "3e156593-d0b5-4a34-a331-431f5027fca9",
   "metadata": {},
   "outputs": [
    {
     "ename": "TypeError",
     "evalue": "calculate_voltage() missing 2 required positional arguments: 'current' and 'resistance'",
     "output_type": "error",
     "traceback": [
      "\u001b[1;31m---------------------------------------------------------------------------\u001b[0m",
      "\u001b[1;31mTypeError\u001b[0m                                 Traceback (most recent call last)",
      "Cell \u001b[1;32mIn[12], line 1\u001b[0m\n\u001b[1;32m----> 1\u001b[0m voltage \u001b[38;5;241m=\u001b[39m \u001b[43mcalculate_voltage\u001b[49m\u001b[43m(\u001b[49m\u001b[43m)\u001b[49m\n",
      "\u001b[1;31mTypeError\u001b[0m: calculate_voltage() missing 2 required positional arguments: 'current' and 'resistance'"
     ]
    }
   ],
   "source": [
    "voltage = calculate_voltage()  "
   ]
  },
  {
   "cell_type": "code",
   "execution_count": 13,
   "id": "262c2c68-a39b-4df9-b7d6-4ea162981242",
   "metadata": {},
   "outputs": [
    {
     "name": "stdout",
     "output_type": "stream",
     "text": [
      "10\n"
     ]
    }
   ],
   "source": [
    "print(voltage) "
   ]
  },
  {
   "cell_type": "markdown",
   "id": "dee3680d-de27-4e6a-b907-e4a117cf8041",
   "metadata": {},
   "source": [
    "# d. Pass the arguments of one style to the other"
   ]
  },
  {
   "cell_type": "raw",
   "id": "1b4b7c36-f0b6-4d90-8e9d-55b9b622ed81",
   "metadata": {},
   "source": [
    "# Passing Positional Arguments to Keyword Arguments"
   ]
  },
  {
   "cell_type": "code",
   "execution_count": 14,
   "id": "0d075924-329d-4c5b-9ec7-06444adb25b2",
   "metadata": {
    "jupyter": {
     "source_hidden": true
    }
   },
   "outputs": [],
   "source": [
    "current_value = 2\n",
    "resistance_value = 4\n",
    "voltage = calculate_voltage(current=current_value, resistance=resistance_value)"
   ]
  },
  {
   "cell_type": "code",
   "execution_count": 15,
   "id": "aacf45b3-c1cc-470c-86f4-b4d42501bfdd",
   "metadata": {},
   "outputs": [
    {
     "name": "stdout",
     "output_type": "stream",
     "text": [
      "8\n"
     ]
    }
   ],
   "source": [
    "print(voltage)  "
   ]
  },
  {
   "cell_type": "raw",
   "id": "540fbd49-9143-4a77-9323-fb263f24ea26",
   "metadata": {},
   "source": [
    "# Passing Keyword Arguments to Positional Arguments"
   ]
  },
  {
   "cell_type": "code",
   "execution_count": 16,
   "id": "1599c24f-7e57-4b7e-874f-a619342853db",
   "metadata": {},
   "outputs": [],
   "source": [
    "current_value = 2\n",
    "resistance_value = 6\n",
    "voltage = calculate_voltage(current_value, resistance_value)"
   ]
  },
  {
   "cell_type": "code",
   "execution_count": 17,
   "id": "de931d5f-2daf-41d1-95ab-62a574ed62e3",
   "metadata": {},
   "outputs": [
    {
     "name": "stdout",
     "output_type": "stream",
     "text": [
      "12\n"
     ]
    }
   ],
   "source": [
    "print(voltage) "
   ]
  },
  {
   "cell_type": "markdown",
   "id": "87849e9f-e64a-4b96-91fe-30852c4a9141",
   "metadata": {},
   "source": [
    "# e. Passing less number of arguments and check the error message"
   ]
  },
  {
   "cell_type": "code",
   "execution_count": 18,
   "id": "d2de36d5-c2ee-46dd-bb28-43903cf3fe55",
   "metadata": {},
   "outputs": [
    {
     "ename": "TypeError",
     "evalue": "calculate_voltage() missing 1 required positional argument: 'resistance'",
     "output_type": "error",
     "traceback": [
      "\u001b[1;31m---------------------------------------------------------------------------\u001b[0m",
      "\u001b[1;31mTypeError\u001b[0m                                 Traceback (most recent call last)",
      "Cell \u001b[1;32mIn[18], line 2\u001b[0m\n\u001b[0;32m      1\u001b[0m \u001b[38;5;66;03m# Calling the function with only one argument:\u001b[39;00m\n\u001b[1;32m----> 2\u001b[0m voltage \u001b[38;5;241m=\u001b[39m \u001b[43mcalculate_voltage\u001b[49m\u001b[43m(\u001b[49m\u001b[38;5;241;43m2\u001b[39;49m\u001b[43m)\u001b[49m\n",
      "\u001b[1;31mTypeError\u001b[0m: calculate_voltage() missing 1 required positional argument: 'resistance'"
     ]
    }
   ],
   "source": [
    "# Calling the function with only one argument:\n",
    "voltage = calculate_voltage(2)"
   ]
  },
  {
   "cell_type": "code",
   "execution_count": 19,
   "id": "3177f74f-e854-48f5-bc52-ef06f8ce4e14",
   "metadata": {},
   "outputs": [
    {
     "ename": "TypeError",
     "evalue": "calculate_voltage() missing 2 required positional arguments: 'current' and 'resistance'",
     "output_type": "error",
     "traceback": [
      "\u001b[1;31m---------------------------------------------------------------------------\u001b[0m",
      "\u001b[1;31mTypeError\u001b[0m                                 Traceback (most recent call last)",
      "Cell \u001b[1;32mIn[19], line 2\u001b[0m\n\u001b[0;32m      1\u001b[0m \u001b[38;5;66;03m# Calling the function with no arguments:\u001b[39;00m\n\u001b[1;32m----> 2\u001b[0m voltage \u001b[38;5;241m=\u001b[39m \u001b[43mcalculate_voltage\u001b[49m\u001b[43m(\u001b[49m\u001b[43m)\u001b[49m\n",
      "\u001b[1;31mTypeError\u001b[0m: calculate_voltage() missing 2 required positional arguments: 'current' and 'resistance'"
     ]
    }
   ],
   "source": [
    "# Calling the function with no arguments:\n",
    "voltage = calculate_voltage()"
   ]
  },
  {
   "cell_type": "markdown",
   "id": "9b627708-6b3c-40c7-934b-9bbc2dda3daa",
   "metadata": {},
   "source": [
    "# f. Verify that whether positional argument follows keyword argument"
   ]
  },
  {
   "cell_type": "code",
   "execution_count": 20,
   "id": "47004a20-6e43-4944-aba7-af87bc06098c",
   "metadata": {},
   "outputs": [
    {
     "ename": "SyntaxError",
     "evalue": "positional argument follows keyword argument (2812469131.py, line 4)",
     "output_type": "error",
     "traceback": [
      "\u001b[1;36m  Cell \u001b[1;32mIn[20], line 4\u001b[1;36m\u001b[0m\n\u001b[1;33m    my_function(c=3, 2, 1)\u001b[0m\n\u001b[1;37m                         ^\u001b[0m\n\u001b[1;31mSyntaxError\u001b[0m\u001b[1;31m:\u001b[0m positional argument follows keyword argument\n"
     ]
    }
   ],
   "source": [
    "#Incorrect Function Call\n",
    "def my_function(a, b, c):\n",
    "  print(a, b, c)\n",
    "my_function(c=3, 2, 1) "
   ]
  },
  {
   "cell_type": "code",
   "execution_count": 21,
   "id": "e420f079-b8bb-4579-8f82-84e95085f8f4",
   "metadata": {},
   "outputs": [
    {
     "name": "stdout",
     "output_type": "stream",
     "text": [
      "1 2 3\n"
     ]
    }
   ],
   "source": [
    "#Correct Function Calls\n",
    "def my_function(a, b, c):\n",
    "  print(a, b, c)\n",
    "my_function(1, 2, 3) "
   ]
  },
  {
   "cell_type": "code",
   "execution_count": 22,
   "id": "d1ecb02d-78aa-417a-90be-362bb03bceb3",
   "metadata": {},
   "outputs": [
    {
     "name": "stdout",
     "output_type": "stream",
     "text": [
      "1 2 3\n"
     ]
    }
   ],
   "source": [
    "# Keyword Arguments Only\n",
    "my_function(a=1, b=2, c=3)"
   ]
  },
  {
   "cell_type": "code",
   "execution_count": 23,
   "id": "febb3672-af06-4943-822f-6e9f514e1e55",
   "metadata": {},
   "outputs": [
    {
     "name": "stdout",
     "output_type": "stream",
     "text": [
      "1 2 3\n"
     ]
    }
   ],
   "source": [
    "#Mixed Positional and Keyword Arguments\n",
    "my_function(1, 2, c=3)"
   ]
  }
 ],
 "metadata": {
  "kernelspec": {
   "display_name": "Python 3 (ipykernel)",
   "language": "python",
   "name": "python3"
  },
  "language_info": {
   "codemirror_mode": {
    "name": "ipython",
    "version": 3
   },
   "file_extension": ".py",
   "mimetype": "text/x-python",
   "name": "python",
   "nbconvert_exporter": "python",
   "pygments_lexer": "ipython3",
   "version": "3.9.19"
  }
 },
 "nbformat": 4,
 "nbformat_minor": 5
}
