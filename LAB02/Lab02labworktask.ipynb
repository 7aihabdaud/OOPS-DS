{
 "cells": [
  {
   "cell_type": "markdown",
   "id": "cbdf096b-e4c3-4430-ae85-40d16b40ffe4",
   "metadata": {},
   "source": [
    "<font color='maroon'>\n",
    "\n",
    "#  *Aihab Daud*\n",
    "##  *REG # 23jzelel0509*\n",
    "\n",
    "</font>\n"
   ]
  },
  {
   "cell_type": "markdown",
   "id": "33bf17ea-3fd8-4a4f-b85e-5a5d183641e9",
   "metadata": {},
   "source": [
    "<font color='maroon'>\n",
    "    \n",
    "### Subject: OOP & DS\n",
    "### LAB-02\n",
    "</font>"
   ]
  },
  {
   "cell_type": "markdown",
   "id": "bd49f6d0-a57d-4e4e-9bdc-a50b4dd8b214",
   "metadata": {},
   "source": [
    "<font color='maroon'>\n",
    "    \n",
    "#### SUBJECT\n",
    "#####         All about function.creating/making of function and passing arguments\n",
    "</font>"
   ]
  },
  {
   "cell_type": "markdown",
   "id": "bd60aeeb-29cf-4581-88ba-f07c182e5124",
   "metadata": {},
   "source": [
    "<font color='cyan'>\n",
    "    \n",
    "## Lab work tasks\n",
    "</font>"
   ]
  },
  {
   "cell_type": "markdown",
   "id": "397c4c12-1497-4be5-b0de-cc566fccffbf",
   "metadata": {},
   "source": [
    "##### Sting formatting"
   ]
  },
  {
   "cell_type": "markdown",
   "id": "964c4a9e-9109-441d-82aa-15e0532f5a5e",
   "metadata": {},
   "source": [
    "### 1) Observe the output of the following if:"
   ]
  },
  {
   "cell_type": "code",
   "execution_count": 1,
   "id": "75a6b5e5-1d37-40e2-9908-c1022117084f",
   "metadata": {},
   "outputs": [],
   "source": [
    "errno = 50159747054"
   ]
  },
  {
   "cell_type": "code",
   "execution_count": 2,
   "id": "c12c80de-a35a-48b9-8af6-e0036e20fdf6",
   "metadata": {},
   "outputs": [],
   "source": [
    "name = 'Bob'"
   ]
  },
  {
   "cell_type": "raw",
   "id": "f8b2153f-d607-4f58-bbd6-c17855b2bb1f",
   "metadata": {},
   "source": [
    "A)"
   ]
  },
  {
   "cell_type": "code",
   "execution_count": 3,
   "id": "539a0da9-0438-4e7b-88cf-667d8e03136c",
   "metadata": {},
   "outputs": [
    {
     "data": {
      "text/plain": [
       "'Hello, Bob'"
      ]
     },
     "execution_count": 3,
     "metadata": {},
     "output_type": "execute_result"
    }
   ],
   "source": [
    "'Hello, %s' % name"
   ]
  },
  {
   "cell_type": "raw",
   "id": "e52d91d2-3bcb-4e12-bcc5-e4f5d19b760b",
   "metadata": {},
   "source": [
    "B)"
   ]
  },
  {
   "cell_type": "code",
   "execution_count": 4,
   "id": "6109b385-aaa7-49b8-83b6-3c8fac334198",
   "metadata": {},
   "outputs": [
    {
     "data": {
      "text/plain": [
       "'Hey Bob, there is a 0xbadc0ffee error!'"
      ]
     },
     "execution_count": 4,
     "metadata": {},
     "output_type": "execute_result"
    }
   ],
   "source": [
    "'Hey %s, there is a 0x%x error!' % (name, errno)"
   ]
  },
  {
   "cell_type": "raw",
   "id": "f3bfac62-1f3d-40ac-9eab-c44214a24afa",
   "metadata": {},
   "source": [
    "C)"
   ]
  },
  {
   "cell_type": "code",
   "execution_count": 5,
   "id": "ac34aeb2-51f4-480a-a08b-e7a5e31c9e03",
   "metadata": {},
   "outputs": [
    {
     "data": {
      "text/plain": [
       "'Hey Bob, there is a 0xbadc0ffee error!'"
      ]
     },
     "execution_count": 5,
     "metadata": {},
     "output_type": "execute_result"
    }
   ],
   "source": [
    "'Hey %(name)s, there is a 0x%(errno)x error!' % { \"name\": name, \"errno\": errno }"
   ]
  },
  {
   "cell_type": "markdown",
   "id": "9d2cd489-f9a9-40e5-8624-63949a615356",
   "metadata": {},
   "source": [
    "### 2) Observe the output of: (Mostly used) "
   ]
  },
  {
   "cell_type": "code",
   "execution_count": 6,
   "id": "975a1589-46c3-4b88-802c-d4b3923e67fd",
   "metadata": {},
   "outputs": [
    {
     "data": {
      "text/plain": [
       "'Hello, Bob'"
      ]
     },
     "execution_count": 6,
     "metadata": {},
     "output_type": "execute_result"
    }
   ],
   "source": [
    "'Hello, {}'.format(name)"
   ]
  },
  {
   "cell_type": "markdown",
   "id": "40b6bd58-224a-4ef2-859b-41db62db5c49",
   "metadata": {},
   "source": [
    "### 3) Observe the output of: (Recommended for Python 3.6+)\n"
   ]
  },
  {
   "cell_type": "code",
   "execution_count": 7,
   "id": "31b20d6e-6f67-4ec8-ac1e-24ede7aff100",
   "metadata": {},
   "outputs": [
    {
     "data": {
      "text/plain": [
       "'Hello, Bob!'"
      ]
     },
     "execution_count": 7,
     "metadata": {},
     "output_type": "execute_result"
    }
   ],
   "source": [
    "f'Hello, {name}!'"
   ]
  },
  {
   "cell_type": "markdown",
   "id": "768bb920-87f6-492b-98c7-c53622f8d9d4",
   "metadata": {},
   "source": [
    "### 4) Observe the output of:"
   ]
  },
  {
   "cell_type": "raw",
   "id": "c50b6c3e-6a31-4916-ba2b-1f5f887483af",
   "metadata": {},
   "source": [
    "# a. from string import Template"
   ]
  },
  {
   "cell_type": "code",
   "execution_count": 8,
   "id": "ee1a185a-ab8c-48a8-89ee-9f1675b1d5e4",
   "metadata": {},
   "outputs": [],
   "source": [
    "from string import Template"
   ]
  },
  {
   "cell_type": "code",
   "execution_count": 9,
   "id": "d69725a8-8073-45ee-b96e-7702ecf117d6",
   "metadata": {},
   "outputs": [
    {
     "data": {
      "text/plain": [
       "'Hey, Bob!'"
      ]
     },
     "execution_count": 9,
     "metadata": {},
     "output_type": "execute_result"
    }
   ],
   "source": [
    "t = Template('Hey, $name!') \n",
    "t.substitute(name=name)"
   ]
  },
  {
   "cell_type": "raw",
   "id": "d5d6e012-77fb-469a-8a66-7012e41c2902",
   "metadata": {},
   "source": [
    "# b."
   ]
  },
  {
   "cell_type": "code",
   "execution_count": 10,
   "id": "f5fd94dd-4d08-4f07-a626-54868d74df4f",
   "metadata": {},
   "outputs": [
    {
     "data": {
      "text/plain": [
       "'Hey Bob, there is a 0xbadc0ffee error!'"
      ]
     },
     "execution_count": 10,
     "metadata": {},
     "output_type": "execute_result"
    }
   ],
   "source": [
    "templ_string = 'Hey $name, there is a $error error!'\n",
    "Template(templ_string).substitute(name=name, error=hex(errno))"
   ]
  },
  {
   "cell_type": "markdown",
   "id": "23a4645c-e7de-407b-990f-e49c637f0fb9",
   "metadata": {},
   "source": [
    "<font color='cyan'>\n",
    "    \n",
    "# Built-in Function:\n",
    "</font>"
   ]
  },
  {
   "cell_type": "raw",
   "id": "bfedc76f-cbf1-414a-bc11-8a0f0c016918",
   "metadata": {},
   "source": [
    "# i. Use len() and find the length of three lists and two strings."
   ]
  },
  {
   "cell_type": "code",
   "execution_count": 11,
   "id": "6c583159-8ed3-492f-a502-8c84ee9d31dc",
   "metadata": {},
   "outputs": [],
   "source": [
    "list1 = [1, 2, 3, 4, 5]\n",
    "list2 = ['apple', 'banana', 'cherry']\n",
    "list3 = [[1, 2], [3, 4], [5, 6]]\n",
    "string1 = \"Hello, world!\"\n",
    "string2 = \"IFYKYK\""
   ]
  },
  {
   "cell_type": "code",
   "execution_count": 12,
   "id": "8550f73e-cbea-46e0-9d85-fb43cf8240b0",
   "metadata": {},
   "outputs": [],
   "source": [
    "length_list1 = len(list1)\n",
    "length_list2 = len(list2)\n",
    "length_list3 = len(list3)\n",
    "length_string1 = len(string1)\n",
    "length_string2 = len(string2)"
   ]
  },
  {
   "cell_type": "code",
   "execution_count": 13,
   "id": "df498fd2-31d7-465d-b810-12e7c3541294",
   "metadata": {},
   "outputs": [
    {
     "name": "stdout",
     "output_type": "stream",
     "text": [
      "Length of list1: 5\n",
      "Length of list2: 3\n",
      "Length of list3: 3\n",
      "Length of string1: 13\n",
      "Length of string2: 6\n"
     ]
    }
   ],
   "source": [
    "print(\"Length of list1:\", length_list1)\n",
    "print(\"Length of list2:\", length_list2)\n",
    "print(\"Length of list3:\", length_list3)\n",
    "print(\"Length of string1:\", length_string1)\n",
    "print(\"Length of string2:\", length_string2)"
   ]
  },
  {
   "cell_type": "markdown",
   "id": "27052a80-929f-4dad-8e36-84d4da014c07",
   "metadata": {},
   "source": [
    " ii. Use for three example .is_integer()."
   ]
  },
  {
   "cell_type": "markdown",
   "id": "e1b421b6-fa89-4e13-8071-a8bc2a39b054",
   "metadata": {},
   "source": [
    "1. Checking if a float is an integer:"
   ]
  },
  {
   "cell_type": "code",
   "execution_count": 14,
   "id": "dc46fe47-2096-48c9-a20a-0f5f10c41047",
   "metadata": {},
   "outputs": [
    {
     "name": "stdout",
     "output_type": "stream",
     "text": [
      "True\n"
     ]
    }
   ],
   "source": [
    "number1 = 5.0\n",
    "print(number1.is_integer()) "
   ]
  },
  {
   "cell_type": "markdown",
   "id": "1bed702e-bf48-46c9-8be7-05934dfe1c45",
   "metadata": {},
   "source": [
    "2. Checking if a float with a decimal part is an integer:"
   ]
  },
  {
   "cell_type": "code",
   "execution_count": 26,
   "id": "916b4637-3209-4052-b1ee-b4d8084b9fe1",
   "metadata": {},
   "outputs": [
    {
     "name": "stdout",
     "output_type": "stream",
     "text": [
      "False\n"
     ]
    }
   ],
   "source": [
    "number2 = 3.14\n",
    "print(number2.is_integer()) "
   ]
  },
  {
   "cell_type": "markdown",
   "id": "b1ec41bd-945e-491c-80ef-6adde140715a",
   "metadata": {},
   "source": [
    "3. Checking if a float with a large decimal part is an integer:"
   ]
  },
  {
   "cell_type": "code",
   "execution_count": 27,
   "id": "4fcf01e8-afaa-4343-ae74-44901ecfeb5e",
   "metadata": {},
   "outputs": [
    {
     "name": "stdout",
     "output_type": "stream",
     "text": [
      "False\n"
     ]
    }
   ],
   "source": [
    "number3 = 2.999999999999999\n",
    "print(number3.is_integer())  "
   ]
  },
  {
   "cell_type": "markdown",
   "id": "bd789ac8-3c01-41f0-94d2-881a9eac58d0",
   "metadata": {},
   "source": [
    "iii. Use for three example .conjugate()"
   ]
  },
  {
   "cell_type": "code",
   "execution_count": null,
   "id": "7e46abb8-b11d-4549-ad70-b5bbc037c3e1",
   "metadata": {},
   "outputs": [],
   "source": [
    "# Simple Conjugate:"
   ]
  },
  {
   "cell_type": "code",
   "execution_count": 32,
   "id": "4b5f2dce-3a2f-4b9b-aaad-61699f285f56",
   "metadata": {},
   "outputs": [],
   "source": [
    "z = 3 + 4j \n",
    "conjugate_z = z.conjugate() "
   ]
  },
  {
   "cell_type": "code",
   "execution_count": 33,
   "id": "7abb6017-1419-4db6-a3ac-a37b0b735954",
   "metadata": {},
   "outputs": [
    {
     "name": "stdout",
     "output_type": "stream",
     "text": [
      "Conjugate of (3+4j) is: (3-4j)\n"
     ]
    }
   ],
   "source": [
    "print(f\"Conjugate of {z} is: {conjugate_z}\") "
   ]
  },
  {
   "cell_type": "code",
   "execution_count": 34,
   "id": "fe9da74f-d5ce-40d9-8a88-84065baffc30",
   "metadata": {},
   "outputs": [],
   "source": [
    "# Conjugate of a Variable:"
   ]
  },
  {
   "cell_type": "code",
   "execution_count": 35,
   "id": "9347df7d-27d5-4a81-830e-e6846a6c4b36",
   "metadata": {},
   "outputs": [],
   "source": [
    "x = 2 \n",
    "y = -1 \n",
    "z = x + y*1j \n",
    "conjugate_z = z.conjugate() "
   ]
  },
  {
   "cell_type": "code",
   "execution_count": 36,
   "id": "0d18662b-f764-4c10-bee1-959e6e293c63",
   "metadata": {},
   "outputs": [
    {
     "name": "stdout",
     "output_type": "stream",
     "text": [
      "Conjugate of (2-1j) is: (2+1j)\n"
     ]
    }
   ],
   "source": [
    "print(f\"Conjugate of {z} is: {conjugate_z}\")"
   ]
  },
  {
   "cell_type": "code",
   "execution_count": 37,
   "id": "4fbfa34b-84e1-499b-9fe3-c15b8230340e",
   "metadata": {},
   "outputs": [],
   "source": [
    "# Conjugate in a Calculation:"
   ]
  },
  {
   "cell_type": "code",
   "execution_count": 38,
   "id": "16444526-2e94-45ea-87f3-66e46a7e89be",
   "metadata": {},
   "outputs": [],
   "source": [
    "z1 = 1 + 2j\n",
    "z2 = 3 - 1j\n",
    "product = z1 * z2 \n",
    "conjugate_product = product.conjugate() "
   ]
  },
  {
   "cell_type": "code",
   "execution_count": 39,
   "id": "d19e59de-0515-4730-b4ba-6e02a153cfa2",
   "metadata": {},
   "outputs": [
    {
     "name": "stdout",
     "output_type": "stream",
     "text": [
      "Conjugate of (1+2j) * (3-1j) is: (5-5j)\n"
     ]
    }
   ],
   "source": [
    "print(f\"Conjugate of {z1} * {z2} is: {conjugate_product}\")"
   ]
  },
  {
   "cell_type": "markdown",
   "id": "e3bc510b-c5d9-4807-81be-3e9d41c59253",
   "metadata": {},
   "source": [
    "<font color='olive'>\n",
    "    \n",
    "# Function:\n",
    "</font>"
   ]
  },
  {
   "cell_type": "markdown",
   "id": "0f2d8ce7-e4f9-4122-89b4-d2a23689f1a6",
   "metadata": {},
   "source": [
    "##  i. Define a function that will take the name and registration number of a student and print it. Include appropriate docstrings."
   ]
  },
  {
   "cell_type": "code",
   "execution_count": 30,
   "id": "a09901ae-64a6-452c-9ff5-8d473f163a4e",
   "metadata": {},
   "outputs": [],
   "source": [
    "def print_student_info(name, registration_number):\n",
    "    \"\"\"\n",
    "    Prints the name and registration number of a student.\n",
    "    \"\"\"\n",
    "    print(f\"Student Name: {name}\")\n",
    "    print(f\"Registration Number: {registration_number}\")"
   ]
  },
  {
   "cell_type": "markdown",
   "id": "15c01616-029b-40ca-b519-05c8b0e90ee7",
   "metadata": {},
   "source": [
    "a. The argument pass will like positional arguments. "
   ]
  },
  {
   "cell_type": "code",
   "execution_count": 32,
   "id": "a93706c2-b05c-47ac-a750-5e412be543fb",
   "metadata": {},
   "outputs": [
    {
     "name": "stdout",
     "output_type": "stream",
     "text": [
      "Student Name: Aihab Daud\n",
      "Registration Number: 23jzele0509\n"
     ]
    }
   ],
   "source": [
    "student_name = \"Aihab Daud\"\n",
    "student_reg_no = \"23jzele0509\"\n",
    "print_student_info(student_name, student_reg_no)"
   ]
  },
  {
   "cell_type": "markdown",
   "id": "b69bcf57-1ddc-46e2-8b3e-a8041e673cb8",
   "metadata": {},
   "source": [
    "b. The arguments passing will like keyword arguments."
   ]
  },
  {
   "cell_type": "code",
   "execution_count": 34,
   "id": "a3607cef-e2d1-43de-99a7-aa757b0da03b",
   "metadata": {},
   "outputs": [
    {
     "name": "stdout",
     "output_type": "stream",
     "text": [
      "Student Name: Aihab daud\n",
      "Registration Number: 509\n"
     ]
    }
   ],
   "source": [
    "print_student_info(name=\"Aihab daud\", registration_number=\"509\")"
   ]
  },
  {
   "cell_type": "markdown",
   "id": "4ca52301-5e08-415b-9e78-c4d1aef73fe1",
   "metadata": {},
   "source": [
    "c. The arguments passing will like default arguments"
   ]
  },
  {
   "cell_type": "code",
   "execution_count": 37,
   "id": "4e271159-bf03-4c99-b297-5202461d7608",
   "metadata": {},
   "outputs": [],
   "source": [
    "def print_student_info(name, registration_number=\"Not Provided\"):\n",
    "    print(f\"Student Name: {name}\")\n",
    "    print(f\"Registration Number: {registration_number}\")"
   ]
  },
  {
   "cell_type": "code",
   "execution_count": 38,
   "id": "be39b053-31ab-4dfd-a076-c29d80148100",
   "metadata": {},
   "outputs": [
    {
     "name": "stdout",
     "output_type": "stream",
     "text": [
      "Student Name: Alice Wonderland\n",
      "Registration Number: Not Provided\n"
     ]
    }
   ],
   "source": [
    "print_student_info(name=\"Alice Wonderland\")"
   ]
  },
  {
   "cell_type": "markdown",
   "id": "f8f387c9-a486-4a51-b33f-c1599d0aed8b",
   "metadata": {},
   "source": [
    "d. Pass the arguments of one style to the other"
   ]
  },
  {
   "cell_type": "code",
   "execution_count": 40,
   "id": "390b7080-d8f9-4ae7-9ad7-95a321086e43",
   "metadata": {},
   "outputs": [
    {
     "name": "stdout",
     "output_type": "stream",
     "text": [
      "Student Name: Aihab Daud\n",
      "Registration Number: 23jzele0509\n",
      "Student Name: Aihab daud\n",
      "Registration Number: 509\n"
     ]
    }
   ],
   "source": [
    "print_student_info(name=student_name, registration_number=student_reg_no) \n",
    "print_student_info(\"Aihab daud\", \"509\")"
   ]
  },
  {
   "cell_type": "markdown",
   "id": "5ae87d8b-34b8-48ec-b8ea-0ae99e833b67",
   "metadata": {},
   "source": [
    "e. Passing less number of arguments and check the error message."
   ]
  },
  {
   "cell_type": "code",
   "execution_count": 41,
   "id": "67d27079-6707-4218-a04e-c63c9dae31c7",
   "metadata": {},
   "outputs": [
    {
     "name": "stdout",
     "output_type": "stream",
     "text": [
      "Error: print_student_info() missing 1 required positional argument: 'name'\n"
     ]
    }
   ],
   "source": [
    "try:\n",
    "    print_student_info()\n",
    "except TypeError as e:\n",
    "    print(f\"Error: {e}\")"
   ]
  },
  {
   "cell_type": "markdown",
   "id": "c1a60ef5-2543-423d-85ee-01fd0b314618",
   "metadata": {},
   "source": [
    "f. Verify that whether positional argument follows keyword argument"
   ]
  },
  {
   "cell_type": "code",
   "execution_count": 42,
   "id": "92d10a05-02c8-41e3-a2a7-efe4c01dc310",
   "metadata": {},
   "outputs": [
    {
     "ename": "TypeError",
     "evalue": "print_student_info() got multiple values for argument 'name'",
     "output_type": "error",
     "traceback": [
      "\u001b[1;31m---------------------------------------------------------------------------\u001b[0m",
      "\u001b[1;31mTypeError\u001b[0m                                 Traceback (most recent call last)",
      "Cell \u001b[1;32mIn[42], line 2\u001b[0m\n\u001b[0;32m      1\u001b[0m \u001b[38;5;28;01mtry\u001b[39;00m:\n\u001b[1;32m----> 2\u001b[0m     \u001b[43mprint_student_info\u001b[49m\u001b[43m(\u001b[49m\u001b[43mstudent_name\u001b[49m\u001b[43m,\u001b[49m\u001b[43m \u001b[49m\u001b[43mregistration_number\u001b[49m\u001b[38;5;241;43m=\u001b[39;49m\u001b[38;5;124;43m\"\u001b[39;49m\u001b[38;5;124;43m509\u001b[39;49m\u001b[38;5;124;43m\"\u001b[39;49m\u001b[43m,\u001b[49m\u001b[43m \u001b[49m\u001b[43mname\u001b[49m\u001b[38;5;241;43m=\u001b[39;49m\u001b[38;5;124;43m\"\u001b[39;49m\u001b[38;5;124;43mAihab \u001b[39;49m\u001b[38;5;124;43m\"\u001b[39;49m\u001b[43m)\u001b[49m\n\u001b[0;32m      3\u001b[0m \u001b[38;5;28;01mexcept\u001b[39;00m \u001b[38;5;167;01mSyntaxError\u001b[39;00m \u001b[38;5;28;01mas\u001b[39;00m e:\n\u001b[0;32m      4\u001b[0m     \u001b[38;5;28mprint\u001b[39m(\u001b[38;5;124mf\u001b[39m\u001b[38;5;124m\"\u001b[39m\u001b[38;5;124mError: \u001b[39m\u001b[38;5;132;01m{\u001b[39;00me\u001b[38;5;132;01m}\u001b[39;00m\u001b[38;5;124m\"\u001b[39m)\n",
      "\u001b[1;31mTypeError\u001b[0m: print_student_info() got multiple values for argument 'name'"
     ]
    }
   ],
   "source": [
    "try:\n",
    "    print_student_info(student_name, registration_number=\"509\", name=\"Aihab \")\n",
    "except SyntaxError as e:\n",
    "    print(f\"Error: {e}\")"
   ]
  },
  {
   "cell_type": "markdown",
   "id": "c9845b39-b45c-4133-ac6d-0fa5629dc257",
   "metadata": {},
   "source": [
    "## ii. Define a function that will take the parameters as current and resistance and will output the voltage across the resistance. Include appropriate docstrings."
   ]
  },
  {
   "cell_type": "code",
   "execution_count": 43,
   "id": "029dac4b-01be-4432-85f7-301a6afd5a2f",
   "metadata": {},
   "outputs": [],
   "source": [
    "def calculate_voltage(current, resistance):\n",
    "    \"\"\"\n",
    "    Calculates the voltage across a resistance using Ohm's Law..\n",
    "    \"\"\"\n",
    "    voltage = current * resistance\n",
    "    return voltage"
   ]
  },
  {
   "cell_type": "markdown",
   "id": "e5fa8472-2baf-4e1b-a644-2881c92ca27d",
   "metadata": {},
   "source": [
    "a. The argument pass will like positional arguments"
   ]
  },
  {
   "cell_type": "code",
   "execution_count": 44,
   "id": "e0b19fdb-1a1e-40b8-a2bd-75eef7aaf893",
   "metadata": {},
   "outputs": [
    {
     "name": "stdout",
     "output_type": "stream",
     "text": [
      "Voltage: 250.0 V\n"
     ]
    }
   ],
   "source": [
    "current_value = 2.5\n",
    "resistance_value = 100\n",
    "voltage = calculate_voltage(current_value, resistance_value)\n",
    "print(f\"Voltage: {voltage} V\")"
   ]
  },
  {
   "cell_type": "markdown",
   "id": "17230629-b446-4b13-995a-2808e00d0191",
   "metadata": {},
   "source": [
    "b. The arguments passing will like keyword arguments."
   ]
  },
  {
   "cell_type": "code",
   "execution_count": 45,
   "id": "bfa6aadb-a6ed-461a-8831-49412f58ff1d",
   "metadata": {},
   "outputs": [
    {
     "name": "stdout",
     "output_type": "stream",
     "text": [
      "Voltage: 250.0 V\n"
     ]
    }
   ],
   "source": [
    "voltage = calculate_voltage(current=2.5, resistance=100)\n",
    "print(f\"Voltage: {voltage} V\")"
   ]
  },
  {
   "cell_type": "markdown",
   "id": "e9084441-c7c0-4cdf-8ac0-a7c2e513191b",
   "metadata": {},
   "source": [
    "c. The arguments passing will like default arguments."
   ]
  },
  {
   "cell_type": "code",
   "execution_count": 47,
   "id": "ed124899-ee1b-4b20-97e8-58dbd9aaec7d",
   "metadata": {},
   "outputs": [],
   "source": [
    "def calculate_voltage(current, resistance=100):\n",
    "    voltage = current * resistance\n",
    "    return voltage"
   ]
  },
  {
   "cell_type": "code",
   "execution_count": 48,
   "id": "c41f4abc-de5e-423d-a856-dd8611a28964",
   "metadata": {},
   "outputs": [
    {
     "name": "stdout",
     "output_type": "stream",
     "text": [
      "Voltage: 250.0 V\n"
     ]
    }
   ],
   "source": [
    "current_value = 2.5\n",
    "voltage = calculate_voltage(current_value)\n",
    "print(f\"Voltage: {voltage} V\")"
   ]
  },
  {
   "cell_type": "markdown",
   "id": "cfc4a35a-1dd3-4b42-85bd-70a7cdd4b844",
   "metadata": {},
   "source": [
    "d. Pass the arguments of one style to the other."
   ]
  },
  {
   "cell_type": "code",
   "execution_count": 51,
   "id": "6f5d3ed6-d105-4ff1-9936-56e14458541c",
   "metadata": {},
   "outputs": [
    {
     "name": "stdout",
     "output_type": "stream",
     "text": [
      "Voltage: 250.0 V\n"
     ]
    }
   ],
   "source": [
    "# Passing positional arguments to a function expecting keyword arguments\n",
    "voltage = calculate_voltage(current=current_value, resistance=resistance_value)\n",
    "print(f\"Voltage: {voltage} V\")"
   ]
  },
  {
   "cell_type": "code",
   "execution_count": 52,
   "id": "22864161-199c-4f70-998f-596c3afeded4",
   "metadata": {},
   "outputs": [
    {
     "name": "stdout",
     "output_type": "stream",
     "text": [
      "Voltage: 250.0 V\n"
     ]
    }
   ],
   "source": [
    "# Passing keyword arguments to a function expecting positional arguments\n",
    "voltage = calculate_voltage(current_value, resistance_value)\n",
    "print(f\"Voltage: {voltage} V\")"
   ]
  },
  {
   "cell_type": "markdown",
   "id": "3c49c5d4-99fd-4307-bfcf-ea407a81a9f9",
   "metadata": {},
   "source": [
    "e. Passing less number of arguments and check the error message."
   ]
  },
  {
   "cell_type": "code",
   "execution_count": 53,
   "id": "d8136a3b-90bf-4a14-94f3-c792a6628349",
   "metadata": {},
   "outputs": [
    {
     "name": "stdout",
     "output_type": "stream",
     "text": [
      "Error: calculate_voltage() missing 1 required positional argument: 'current'\n"
     ]
    }
   ],
   "source": [
    "try:\n",
    "    voltage = calculate_voltage()\n",
    "except TypeError as e:\n",
    "    print(f\"Error: {e}\")"
   ]
  },
  {
   "cell_type": "markdown",
   "id": "2102a4e4-e4e2-4eeb-a166-283a0d4ceb63",
   "metadata": {},
   "source": [
    "f. Verify that whether positional argument follows keyword argument"
   ]
  },
  {
   "cell_type": "code",
   "execution_count": 54,
   "id": "c49ca95d-652b-427b-bc4a-657d89a93c8f",
   "metadata": {},
   "outputs": [
    {
     "ename": "TypeError",
     "evalue": "calculate_voltage() got multiple values for argument 'current'",
     "output_type": "error",
     "traceback": [
      "\u001b[1;31m---------------------------------------------------------------------------\u001b[0m",
      "\u001b[1;31mTypeError\u001b[0m                                 Traceback (most recent call last)",
      "Cell \u001b[1;32mIn[54], line 2\u001b[0m\n\u001b[0;32m      1\u001b[0m \u001b[38;5;28;01mtry\u001b[39;00m:\n\u001b[1;32m----> 2\u001b[0m     voltage \u001b[38;5;241m=\u001b[39m \u001b[43mcalculate_voltage\u001b[49m\u001b[43m(\u001b[49m\u001b[43mcurrent_value\u001b[49m\u001b[43m,\u001b[49m\u001b[43m \u001b[49m\u001b[43mresistance\u001b[49m\u001b[38;5;241;43m=\u001b[39;49m\u001b[38;5;241;43m100\u001b[39;49m\u001b[43m,\u001b[49m\u001b[43m \u001b[49m\u001b[43mcurrent\u001b[49m\u001b[38;5;241;43m=\u001b[39;49m\u001b[38;5;241;43m2.5\u001b[39;49m\u001b[43m)\u001b[49m\n\u001b[0;32m      3\u001b[0m \u001b[38;5;28;01mexcept\u001b[39;00m \u001b[38;5;167;01mSyntaxError\u001b[39;00m \u001b[38;5;28;01mas\u001b[39;00m e:\n\u001b[0;32m      4\u001b[0m     \u001b[38;5;28mprint\u001b[39m(\u001b[38;5;124mf\u001b[39m\u001b[38;5;124m\"\u001b[39m\u001b[38;5;124mError: \u001b[39m\u001b[38;5;132;01m{\u001b[39;00me\u001b[38;5;132;01m}\u001b[39;00m\u001b[38;5;124m\"\u001b[39m)\n",
      "\u001b[1;31mTypeError\u001b[0m: calculate_voltage() got multiple values for argument 'current'"
     ]
    }
   ],
   "source": [
    "try:\n",
    "    voltage = calculate_voltage(current_value, resistance=100, current=2.5)\n",
    "except SyntaxError as e:\n",
    "    print(f\"Error: {e}\")"
   ]
  },
  {
   "cell_type": "markdown",
   "id": "8af0bb5e-51b9-4909-9ec9-78b4c83600dd",
   "metadata": {},
   "source": [
    "### iii. Define a function with name charge_from_solar and pass the state of charge (SOC) to thefunction. If SOC is less than 20% display charging if it is above 90% do nothing and return and if it is in between display that battery will be charge and there is --- % of charge in the battery. Include appropriate docstrings. Print the doc string. Also add annotation to the function parameters and return type."
   ]
  },
  {
   "cell_type": "code",
   "execution_count": 56,
   "id": "ebcb9004-ce46-491d-8bc4-4a3eef419850",
   "metadata": {},
   "outputs": [],
   "source": [
    "def charge_from_solar(SOC: float) -> None:\n",
    "    \"\"\"\n",
    "    Determines charging status based on State of Charge (SOC) of the battery.\n",
    "    \"\"\"\n",
    "    if SOC < 20:\n",
    "        print(\"Charging\")\n",
    "    elif SOC >= 90:\n",
    "        return\n",
    "    else:\n",
    "        print(f\"Battery will be charged. Current SOC: {SOC:.2f}%\")"
   ]
  },
  {
   "cell_type": "code",
   "execution_count": 57,
   "id": "c6ccec51-681f-4e4c-9e23-15567a6586fb",
   "metadata": {},
   "outputs": [
    {
     "name": "stdout",
     "output_type": "stream",
     "text": [
      "\n",
      "    Determines charging status based on State of Charge (SOC) of the battery.\n",
      "    \n"
     ]
    }
   ],
   "source": [
    "print(charge_from_solar.__doc__)"
   ]
  },
  {
   "cell_type": "code",
   "execution_count": 60,
   "id": "f3cbc45f-6d31-43fc-8b5a-9d1c6fdf706e",
   "metadata": {},
   "outputs": [
    {
     "name": "stdout",
     "output_type": "stream",
     "text": [
      "Battery will be charged. Current SOC: 50.00%\n"
     ]
    }
   ],
   "source": [
    "SOC_value = 50  \n",
    "charge_from_solar(SOC_value)"
   ]
  },
  {
   "cell_type": "markdown",
   "id": "f9254866-adf0-489d-a51e-9621f6061f62",
   "metadata": {},
   "source": [
    "## iv. Define three function.\n"
   ]
  },
  {
   "cell_type": "raw",
   "id": "b71dc04d-b83e-4a00-87fe-344f05297276",
   "metadata": {},
   "source": [
    "1. Function resistance():"
   ]
  },
  {
   "cell_type": "code",
   "execution_count": 64,
   "id": "04b14a7c-6d49-420b-ac56-0a0051b29b3e",
   "metadata": {},
   "outputs": [],
   "source": [
    "def resistance() -> list[float]:\n",
    "    \"\"\"\n",
    "    Generates a list of five random resistances between 10 and 100 ohms.\n",
    "    \"\"\"\n",
    "    import random\n",
    "    return [random.uniform(10, 100) for _ in range(5)]"
   ]
  },
  {
   "cell_type": "raw",
   "id": "d189f884-0a84-4142-9d61-a827c633faa3",
   "metadata": {},
   "source": [
    "2. Function voltage()"
   ]
  },
  {
   "cell_type": "code",
   "execution_count": 65,
   "id": "48f2e0c0-9edd-4ffc-992b-e1de7d8f87fb",
   "metadata": {},
   "outputs": [],
   "source": [
    "def voltage() -> list[float]:\n",
    "    \"\"\"\n",
    "    Generates a list of five random voltages between 5 and 20 volts.\n",
    "    \"\"\"\n",
    "    import random\n",
    "    return [random.uniform(5, 20) for _ in range(5)]"
   ]
  },
  {
   "cell_type": "raw",
   "id": "a5237057-3c6f-469c-9ea5-56e4f575d8a9",
   "metadata": {},
   "source": [
    "3. Function current():"
   ]
  },
  {
   "cell_type": "code",
   "execution_count": 66,
   "id": "3482da44-2447-4344-b214-256623fef2fa",
   "metadata": {},
   "outputs": [],
   "source": [
    "def current(resistances: list[float], voltages: list[float]) -> list[float]:\n",
    "    \"\"\"\n",
    "    Calculates the current flowing through each resistor using Ohm's Law.\n",
    "    \"\"\"\n",
    "    return [v / r for v, r in zip(voltages, resistances)]"
   ]
  },
  {
   "cell_type": "markdown",
   "id": "5620c3f5-4504-4cea-a389-648d4a0ea334",
   "metadata": {},
   "source": [
    "a. Pass these two lists to a third function name current"
   ]
  },
  {
   "cell_type": "code",
   "execution_count": 67,
   "id": "b140df27-068f-422f-a3ea-95ebec748c43",
   "metadata": {},
   "outputs": [],
   "source": [
    "if __name__ == \"__main__\":\n",
    "    resistances = resistance()\n",
    "    voltages = voltage()\n",
    "    currents = current(resistances, voltages)"
   ]
  },
  {
   "cell_type": "code",
   "execution_count": 68,
   "id": "eb747b8b-65d1-419e-b0e9-d40ed4e4c94a",
   "metadata": {},
   "outputs": [
    {
     "name": "stdout",
     "output_type": "stream",
     "text": [
      "Resistances (ohms): [13.669329433986645, 13.581658766184301, 46.542528603428295, 95.00502646840759, 50.85472376876753]\n",
      "Voltages (volts): [8.303393829798733, 19.60858638175373, 8.403792737887528, 14.770114485760967, 16.541459053998246]\n",
      "Currents (amperes): [0.6074470492424922, 1.4437548991125673, 0.18056158507186285, 0.15546666355250724, 0.3252688802167321]\n"
     ]
    }
   ],
   "source": [
    "print(\"Resistances (ohms):\", resistances)\n",
    "print(\"Voltages (volts):\", voltages)\n",
    "print(\"Currents (amperes):\", currents)"
   ]
  },
  {
   "cell_type": "markdown",
   "id": "f034a7dc-b6c1-458c-b56c-72163d211c4e",
   "metadata": {},
   "source": [
    "b. In part a return the data in tuple."
   ]
  },
  {
   "cell_type": "code",
   "execution_count": 70,
   "id": "6931591e-a908-414d-9833-fe6e5d327843",
   "metadata": {},
   "outputs": [],
   "source": [
    "if __name__ == \"__main__\":\n",
    "    resistances = resistance()\n",
    "    voltages = voltage()\n",
    "    currents = current(resistances, voltages)"
   ]
  },
  {
   "cell_type": "code",
   "execution_count": 71,
   "id": "9c633d2d-ed9f-4bfd-984d-7f9fb748231a",
   "metadata": {},
   "outputs": [
    {
     "name": "stdout",
     "output_type": "stream",
     "text": [
      "Data: ([14.695047734288885, 67.76696826764336, 46.528239038651314, 80.50059131091176, 92.80570653495475], [7.631702160578932, 8.470298101629211, 12.61136663651651, 6.885574012379334, 6.873186266648471], [0.5193383715774804, 0.12499154555912924, 0.2710475809333803, 0.08553445260775373, 0.07405995302734669])\n"
     ]
    }
   ],
   "source": [
    "data = (resistances, voltages, currents)\n",
    "print(\"Data:\", data)"
   ]
  },
  {
   "cell_type": "markdown",
   "id": "7691fe3d-d371-4a61-96f4-a2d08b474664",
   "metadata": {},
   "source": [
    "c. Return the data from current function as dictionary with keys current_1 to current_5."
   ]
  },
  {
   "cell_type": "code",
   "execution_count": 75,
   "id": "558a3f55-6c5e-4f5c-bd0a-8734e38fce90",
   "metadata": {},
   "outputs": [],
   "source": [
    "def current(resistances: list[float], voltages: list[float]) -> dict[str, float]:\n",
    "    currents = [v / r for v, r in zip(voltages, resistances)]\n",
    "    return {f\"current_{i+1}\": current for i, current in enumerate(currents)}"
   ]
  },
  {
   "cell_type": "code",
   "execution_count": 76,
   "id": "26402dce-514a-4c63-b3ab-5eee75b769a5",
   "metadata": {},
   "outputs": [],
   "source": [
    "if __name__ == \"__main__\":\n",
    "    resistances = resistance()\n",
    "    voltages = voltage()\n",
    "    current_dict = current(resistances, voltages)"
   ]
  },
  {
   "cell_type": "code",
   "execution_count": 77,
   "id": "212d3e88-34ed-479b-b92b-908bd380381f",
   "metadata": {},
   "outputs": [
    {
     "name": "stdout",
     "output_type": "stream",
     "text": [
      "Resistances (ohms): [73.02024264725816, 81.25249387602867, 50.430070399725494, 70.92011137539669, 31.175081335578923]\n",
      "Voltages (volts): [10.87230551535459, 5.4546408970061275, 15.156444411450462, 6.878671145815999, 16.40291523075073]\n",
      "Currents (amperes): {'current_1': 0.1488944040884098, 'current_2': 0.06713198126975116, 'current_3': 0.3005437884840423, 'current_4': 0.0969918266118561, 'current_5': 0.5261546891950114}\n"
     ]
    }
   ],
   "source": [
    "print(\"Resistances (ohms):\", resistances)\n",
    "print(\"Voltages (volts):\", voltages)\n",
    "print(\"Currents (amperes):\", current_dict)"
   ]
  },
  {
   "cell_type": "markdown",
   "id": "3c976856-c236-4317-9ca2-2254fe250de8",
   "metadata": {},
   "source": [
    "## v. Define a function with name series. The function will take a list or tuple of resisters. The function will return the net resistance."
   ]
  },
  {
   "cell_type": "markdown",
   "id": "80d8a124-abcd-45d5-b211-7c4185b4602c",
   "metadata": {},
   "source": [
    "display annotation using\n",
    "special dunder attribute of the function called __annotations__.\n"
   ]
  },
  {
   "cell_type": "code",
   "execution_count": 80,
   "id": "0118a414-0a47-4035-81f9-0abd8021416b",
   "metadata": {},
   "outputs": [],
   "source": [
    "def series(resistors: list[float]) -> float:\n",
    "    \"\"\"\n",
    "    Calculates the equivalent resistance of a series combination of resistors.\n",
    "    \"\"\"\n",
    "    return sum(resistors)"
   ]
  },
  {
   "cell_type": "code",
   "execution_count": 81,
   "id": "acb98e24-92ae-4380-bb75-d4d5740c428f",
   "metadata": {},
   "outputs": [
    {
     "name": "stdout",
     "output_type": "stream",
     "text": [
      "\n",
      "    Calculates the equivalent resistance of a series combination of resistors.\n",
      "    \n",
      "{'resistors': list[float], 'return': <class 'float'>}\n"
     ]
    }
   ],
   "source": [
    "if __name__ == \"__main__\":\n",
    "    print(series.__doc__)\n",
    "    print(series.__annotations__)"
   ]
  },
  {
   "cell_type": "markdown",
   "id": "af688484-0ddb-4f7b-be04-eca53e635c8b",
   "metadata": {},
   "source": [
    "## vi) Define a function with name parallel. The function will take a list or tuple of resisters. The function will return the net resistance."
   ]
  },
  {
   "cell_type": "markdown",
   "id": "c68b37cd-062b-462f-a1e1-ba670ba1fd62",
   "metadata": {},
   "source": [
    "In addition, display annotation using\n",
    "special dunder attribute of the function called __annotations__.\n"
   ]
  },
  {
   "cell_type": "code",
   "execution_count": 84,
   "id": "d4cffb29-73be-4349-bdb9-81b18161fd1c",
   "metadata": {},
   "outputs": [],
   "source": [
    "def parallel(resistors: list[float]) -> float:\n",
    "    \"\"\"\n",
    "    Calculates the equivalent resistance of a parallel combination of resistors.\n",
    "    \"\"\"\n",
    "    if not resistors:\n",
    "        raise ValueError(\"Resistor list cannot be empty.\")\n",
    "        return 1 / sum(1 / r for r in resistors)"
   ]
  },
  {
   "cell_type": "code",
   "execution_count": 85,
   "id": "d30aae82-802a-408a-9b57-d919308f12a0",
   "metadata": {},
   "outputs": [
    {
     "name": "stdout",
     "output_type": "stream",
     "text": [
      "\n",
      "    Calculates the equivalent resistance of a parallel combination of resistors.\n",
      "    \n",
      "{'resistors': list[float], 'return': <class 'float'>}\n"
     ]
    }
   ],
   "source": [
    "if __name__ == \"__main__\":\n",
    "    print(parallel.__doc__)\n",
    "    print(parallel.__annotations__)"
   ]
  },
  {
   "cell_type": "markdown",
   "id": "4e48c6d5-b209-4e50-b704-0ff107476ae2",
   "metadata": {},
   "source": [
    "## vii. Define a function with name series. The function will take resisters values and use *args for tuple packing. The function will return the net resistance."
   ]
  },
  {
   "cell_type": "markdown",
   "id": "ed7eb7fd-7864-4516-96f5-4ddd786e7c8d",
   "metadata": {},
   "source": [
    "In addition, display annotation using\n",
    "special dunder attribute of the function called __annotations__.\n"
   ]
  },
  {
   "cell_type": "code",
   "execution_count": 87,
   "id": "503e8b8a-eafc-4b44-8b1a-aa1b537e92e2",
   "metadata": {},
   "outputs": [],
   "source": [
    "def series(*resistors: float) -> float:\n",
    "    \"\"\"\n",
    "    Calculates the equivalent resistance of a series combination of resistors.\n",
    "    \"\"\"\n",
    "    return sum(resistors)"
   ]
  },
  {
   "cell_type": "code",
   "execution_count": 88,
   "id": "d59b9c6b-0c77-44d0-87b7-96174c90a5a4",
   "metadata": {},
   "outputs": [
    {
     "name": "stdout",
     "output_type": "stream",
     "text": [
      "\n",
      "    Calculates the equivalent resistance of a series combination of resistors.\n",
      "    \n",
      "{'resistors': <class 'float'>, 'return': <class 'float'>}\n"
     ]
    }
   ],
   "source": [
    "if __name__ == \"__main__\":\n",
    "    print(series.__doc__)\n",
    "    print(series.__annotations__)"
   ]
  },
  {
   "cell_type": "markdown",
   "id": "6f9a4efa-0906-4169-a0b4-2ebb46cb42bc",
   "metadata": {},
   "source": [
    "## viii. Define a function with name parallel. The function will take resisters values and use *argsfor tuple packing. The function will return the net resistance."
   ]
  },
  {
   "cell_type": "markdown",
   "id": "334661bc-68d7-46d1-b884-d0ad088c757c",
   "metadata": {},
   "source": [
    "In addition, display \n",
    "annotation using special dunder attribute of the function called __annotations__."
   ]
  },
  {
   "cell_type": "code",
   "execution_count": 92,
   "id": "1bb4b592-5c00-435e-a045-e7130d5ee018",
   "metadata": {},
   "outputs": [],
   "source": [
    "def parallel(*resistors: float) -> float:\n",
    "    \"\"\"\n",
    "    Calculates the equivalent resistance of a parallel combination of resistors.\n",
    "    \"\"\"\n",
    "    if not resistors:\n",
    "        raise ValueError(\"Resistor list cannot be empty.\")\n",
    "\n",
    "    return 1 / sum(1 / r for r in resistors)"
   ]
  },
  {
   "cell_type": "code",
   "execution_count": 93,
   "id": "bc6d8bcb-63e6-4de7-b526-54aa5982fb5b",
   "metadata": {},
   "outputs": [
    {
     "name": "stdout",
     "output_type": "stream",
     "text": [
      "\n",
      "    Calculates the equivalent resistance of a parallel combination of resistors.\n",
      "    \n",
      "{'resistors': <class 'float'>, 'return': <class 'float'>}\n"
     ]
    }
   ],
   "source": [
    "if __name__ == \"__main__\":\n",
    "    print(parallel.__doc__)\n",
    "    print(parallel.__annotations__)"
   ]
  },
  {
   "cell_type": "markdown",
   "id": "edeed4ac-3812-4e82-a119-f14282ac1204",
   "metadata": {},
   "source": [
    "## ix. Consider a scenario in which you receive the data of battery SOC (% age), solar generation (Kw) and market price (per unit in rupees) from a hybrid solar inverter that are connected with green meter in a list or tuple like [60, 2, 60] or (60, 2, 60). Design a function "
   ]
  },
  {
   "cell_type": "markdown",
   "id": "8c3b6b1d-449e-4336-bba2-eaa8a3fc426f",
   "metadata": {},
   "source": [
    "In addition, display \n",
    "annotation using special dunder attribute of the function called __annotations__.\n"
   ]
  },
  {
   "cell_type": "code",
   "execution_count": 102,
   "id": "59220dd0-6f3b-480a-ba9b-ce5f28bb3962",
   "metadata": {},
   "outputs": [],
   "source": [
    "def print_inverter_data(data: tuple[float, float, float]) -> None:\n",
    "    \"\"\"\n",
    "    Prints the battery SOC (%), solar generation (kW), and market price (rupees/unit) \n",
    "    in a well-formatted manner.\n",
    "    \"\"\"\n",
    "    SOC, solar_gen, market_price = data\n",
    "    print(f\"Battery SOC: {SOC:.2f}%\")\n",
    "    print(f\"Solar Generation: {solar_gen:.2f} kW\")\n",
    "    print(f\"Market Price: {market_price:.2f} rupees/unit\")"
   ]
  },
  {
   "cell_type": "code",
   "execution_count": 103,
   "id": "d11994a5-bec7-43e2-a140-e0e753d85a7d",
   "metadata": {},
   "outputs": [
    {
     "name": "stdout",
     "output_type": "stream",
     "text": [
      "Battery SOC: 60.00%\n",
      "Solar Generation: 2.00 kW\n",
      "Market Price: 60.00 rupees/unit\n",
      "\n",
      "    Prints the battery SOC (%), solar generation (kW), and market price (rupees/unit) \n",
      "    in a well-formatted manner.\n",
      "    \n",
      "{'data': tuple[float, float, float], 'return': None}\n"
     ]
    }
   ],
   "source": [
    "if __name__ == \"__main__\":\n",
    "    inverter_data = (60, 2, 60) \n",
    "    print_inverter_data(inverter_data)\n",
    "    print(print_inverter_data.__doc__)\n",
    "    print(print_inverter_data.__annotations__)"
   ]
  },
  {
   "cell_type": "markdown",
   "id": "7a0db0a0-833d-4798-8ae8-be1821507563",
   "metadata": {},
   "source": [
    "### Consider a scenario in which you receive the data of battery SOC (% age), solar generation (Kw) and market price (per unit in rupees) from a hybrid solar inverter that are connected with green meter in a dictionary like {‘SOC’: 60, ‘solar generation’: 2, ‘price’: 60}. Design a function"
   ]
  },
  {
   "cell_type": "markdown",
   "id": "5503a799-0477-482e-b013-a4a8e7f0d148",
   "metadata": {},
   "source": [
    " In addition, display annotation using special dunder attribute of the function called __annotations__."
   ]
  },
  {
   "cell_type": "code",
   "execution_count": 107,
   "id": "ab28f40f-1429-4b98-9efd-7ac0ca4ebb71",
   "metadata": {},
   "outputs": [],
   "source": [
    "def print_inverter_data(data: dict[str, float]) -> None:\n",
    "    \"\"\"\n",
    "    Prints the battery SOC (%), solar generation (kW), and market price (rupees/unit) \n",
    "    from a dictionary in a well-formatted manner.\n",
    "\n",
    "    Args:\n",
    "        data (dict[str, float]): A dictionary containing the data with keys 'SOC', \n",
    "                                'solar generation', and 'price'.\n",
    "\n",
    "    \"\"\"\n",
    "    SOC = data['SOC']\n",
    "    solar_gen = data['solar generation']\n",
    "    market_price = data['price']"
   ]
  },
  {
   "cell_type": "code",
   "execution_count": 112,
   "id": "37f5873b-5d63-4d4f-9551-91cfcf1e0347",
   "metadata": {},
   "outputs": [
    {
     "name": "stdout",
     "output_type": "stream",
     "text": [
      "\n",
      "    Prints the battery SOC (%), solar generation (kW), and market price (rupees/unit) \n",
      "    from a dictionary in a well-formatted manner.\n",
      "\n",
      "    Args:\n",
      "        data (dict[str, float]): A dictionary containing the data with keys 'SOC', \n",
      "                                'solar generation', and 'price'.\n",
      "\n",
      "    \n",
      "{'data': dict[str, float], 'return': None}\n"
     ]
    }
   ],
   "source": [
    "if __name__ == \"__main__\":\n",
    "    inverter_data = {'SOC': 60, 'solar generation': 2, 'price': 60}\n",
    "    print_inverter_data(inverter_data)\n",
    "    print(print_inverter_data.__doc__)\n",
    "    print(print_inverter_data.__annotations__)\n",
    "    \n"
   ]
  },
  {
   "cell_type": "markdown",
   "id": "1205f11e-923e-4cd0-8115-9fa3cc7d0646",
   "metadata": {},
   "source": [
    "### xi. Change the scenario while keep the more elegant approach of pass dictionary and use dictionarypacking. Consider a scenario in which you receive the data of battery SOC (% age), solar generation (Kw) and market price (per unit in rupees) from a hybrid solar inverter that are connected with green meter in a dictionary like {‘SOC’: 60, ‘solar generation’: 2, ‘price’: 60}. Let you pass these value in a function call like solar (SOC = 60, solar generation = 2, price = 60)."
   ]
  },
  {
   "cell_type": "markdown",
   "id": "20e2f0e8-f68f-43d9-95a0-47e09e45264e",
   "metadata": {},
   "source": [
    " In addition, display annotation using special dunder attribute of the function \n",
    "called __annotations__."
   ]
  },
  {
   "cell_type": "code",
   "execution_count": 123,
   "id": "7d38cbc6-ef89-443f-8bb3-951586c23b76",
   "metadata": {},
   "outputs": [
    {
     "name": "stdout",
     "output_type": "stream",
     "text": [
      "Battery SOC: 60.00%\n",
      "Solar Generation: 0.00 kW\n",
      "Market Price: 60.00 rupees/unit\n",
      "\n",
      "    Prints the battery SOC (%), solar generation (kW), and market price (rupees/unit) \n",
      "    from a dictionary in a well-formatted manner.\n",
      "\n",
      "    Args:\n",
      "        **kwargs: A dictionary containing the data with keys 'SOC', \n",
      "                                'solar generation', and 'price'.\n",
      "\n",
      "    \n",
      "{'kwargs': <class 'float'>, 'return': None}\n"
     ]
    }
   ],
   "source": [
    "def solar(**kwargs: float) -> None:\n",
    "    \"\"\"\n",
    "    Prints the battery SOC (%), solar generation (kW), and market price (rupees/unit) \n",
    "    from a dictionary in a well-formatted manner.\n",
    "\n",
    "    Args:\n",
    "        **kwargs: A dictionary containing the data with keys 'SOC', \n",
    "                                'solar generation', and 'price'.\n",
    "\n",
    "    \"\"\"\n",
    "    SOC = kwargs.get('SOC', 0.0)  # Use get() with default value\n",
    "    solar_gen = kwargs.get('solar generation', 0.0)\n",
    "    market_price = kwargs.get('price', 0.0)\n",
    "\n",
    "    print(f\"Battery SOC: {SOC:.2f}%\")\n",
    "    print(f\"Solar Generation: {solar_gen:.2f} kW\")\n",
    "    print(f\"Market Price: {market_price:.2f} rupees/unit\")\n",
    "\n",
    "if __name__ == \"__main__\":\n",
    "    solar(SOC=60, solar_generation=2, price=60)\n",
    "    print(solar.__doc__)\n",
    "    print(solar.__annotations__)"
   ]
  },
  {
   "cell_type": "markdown",
   "id": "927a91cc-4126-491e-a6f1-e8e76318437a",
   "metadata": {},
   "source": [
    "## xii. Understand the functions given below by run, modify and also design different scenarios."
   ]
  },
  {
   "cell_type": "code",
   "execution_count": 125,
   "id": "e9d8190f-655a-4ff6-88cb-fa327eeabcec",
   "metadata": {},
   "outputs": [],
   "source": [
    "def f(a, b, *args, **kwargs):\n",
    " print(F'a = {a}')\n",
    " print(F'b = {b}')\n",
    " print(F'args = {args}')\n",
    " print(F'kwargs = {kwargs}')"
   ]
  },
  {
   "cell_type": "code",
   "execution_count": 126,
   "id": "8efdde8f-5d41-4e8a-a27d-3bb9bb32eda5",
   "metadata": {},
   "outputs": [
    {
     "name": "stdout",
     "output_type": "stream",
     "text": [
      "a = 1\n",
      "b = 2\n",
      "args = ('foo', 'bar', 'baz', 'qux')\n",
      "kwargs = {'x': 100, 'y': 200, 'z': 300}\n"
     ]
    }
   ],
   "source": [
    "f(1, 2, 'foo', 'bar', 'baz', 'qux', x=100, y=200, z=300)"
   ]
  },
  {
   "cell_type": "code",
   "execution_count": 128,
   "id": "75b415b8-d280-4b28-9943-4343e58e6db6",
   "metadata": {},
   "outputs": [],
   "source": [
    "def f(*args):\n",
    "    for i in args:\n",
    "        print(i)\n",
    "a = [1, 2, 3]\n",
    "t = (4, 5, 6)\n",
    "s = {7, 8, 9}\n"
   ]
  },
  {
   "cell_type": "code",
   "execution_count": 129,
   "id": "69bf9b00-c13f-487f-9551-e3d743c02881",
   "metadata": {},
   "outputs": [
    {
     "name": "stdout",
     "output_type": "stream",
     "text": [
      "1\n",
      "2\n",
      "3\n",
      "4\n",
      "5\n",
      "6\n",
      "8\n",
      "9\n",
      "7\n"
     ]
    }
   ],
   "source": [
    "f(*a, *t, *s)"
   ]
  },
  {
   "cell_type": "code",
   "execution_count": 131,
   "id": "660eb5e9-5ac7-49d7-ad97-a61c7d9f0761",
   "metadata": {},
   "outputs": [
    {
     "name": "stdout",
     "output_type": "stream",
     "text": [
      "a -> 1\n",
      "b -> 2\n",
      "x -> 3\n",
      "y -> 4\n"
     ]
    }
   ],
   "source": [
    "def f(**kwargs):\n",
    "    for k, v in kwargs.items():\n",
    "        print(k, '->', v)\n",
    "d1 = {'a': 1, 'b': 2}\n",
    "d2 = {'x': 3, 'y': 4}\n",
    "f(**d1, **d2)"
   ]
  },
  {
   "cell_type": "code",
   "execution_count": 133,
   "id": "1ecdcd41-d908-48b3-87d7-14e615bb75bb",
   "metadata": {},
   "outputs": [
    {
     "name": "stdout",
     "output_type": "stream",
     "text": [
      "1\n",
      "2\n",
      "3\n",
      "4\n",
      "5\n",
      "6\n"
     ]
    }
   ],
   "source": [
    "def f(*args):\n",
    "    for i in args:\n",
    "        print(i)\n",
    "f(*[1, 2, 3], *[4, 5, 6])"
   ]
  },
  {
   "cell_type": "code",
   "execution_count": 134,
   "id": "067fec35-f27f-4497-83ca-4f5708b02013",
   "metadata": {},
   "outputs": [
    {
     "name": "stdout",
     "output_type": "stream",
     "text": [
      "a -> 1\n",
      "b -> 2\n",
      "x -> 3\n",
      "y -> 4\n"
     ]
    }
   ],
   "source": [
    "def f(**kwargs):\n",
    "    for k, v in kwargs.items():\n",
    "        print(k, '->', v)\n",
    "f(**{'a': 1, 'b': 2}, **{'x': 3, 'y': 4})"
   ]
  },
  {
   "cell_type": "code",
   "execution_count": 137,
   "id": "6d1491de-525d-428d-a2cc-e95d230d6b77",
   "metadata": {},
   "outputs": [],
   "source": [
    "def f(a: int, b: str) -> float:\n",
    "    print(a, b)\n",
    "    return(3.5)"
   ]
  },
  {
   "cell_type": "code",
   "execution_count": 138,
   "id": "f1f4ae45-93cb-46aa-a4c9-562d2b503315",
   "metadata": {},
   "outputs": [
    {
     "name": "stdout",
     "output_type": "stream",
     "text": [
      "1 foo\n"
     ]
    },
    {
     "data": {
      "text/plain": [
       "{'a': int, 'b': str, 'return': float}"
      ]
     },
     "execution_count": 138,
     "metadata": {},
     "output_type": "execute_result"
    }
   ],
   "source": [
    "f(1, 'foo')\n",
    "f.__annotations__\n"
   ]
  },
  {
   "cell_type": "markdown",
   "id": "c7b9eb96-501f-4ea4-a05c-f1a543564688",
   "metadata": {},
   "source": [
    " If you want to assign a default value to a parameter that has an annotation, \n",
    "then the default value goes after the annotation:"
   ]
  },
  {
   "cell_type": "code",
   "execution_count": 139,
   "id": "fbde3ddd-7706-45f6-9835-8689dc458e08",
   "metadata": {},
   "outputs": [
    {
     "name": "stdout",
     "output_type": "stream",
     "text": [
      "12 baz\n"
     ]
    },
    {
     "data": {
      "text/plain": [
       "3.5"
      ]
     },
     "execution_count": 139,
     "metadata": {},
     "output_type": "execute_result"
    }
   ],
   "source": [
    "def f(a: int = 12, b: str = 'baz') -> float:\n",
    " print(a, b)\n",
    " return(3.5)\n",
    "f.__annotations__\n",
    "f()\n"
   ]
  },
  {
   "cell_type": "code",
   "execution_count": 140,
   "id": "a06596cb-7cb7-4b3a-a9ee-3704e429a61b",
   "metadata": {},
   "outputs": [
    {
     "name": "stdout",
     "output_type": "stream",
     "text": [
      "foo 2.5\n"
     ]
    },
    {
     "data": {
      "text/plain": [
       "(1, 2, 3)"
      ]
     },
     "execution_count": 140,
     "metadata": {},
     "output_type": "execute_result"
    }
   ],
   "source": [
    "def f(a: int, b: str) -> float:\n",
    " print(a, b)\n",
    " return 1, 2, 3\n",
    "f('foo', 2.5)"
   ]
  },
  {
   "cell_type": "markdown",
   "id": "c690a013-2721-495a-9bfc-c83466474de7",
   "metadata": {},
   "source": [
    "<font color='olive'>\n",
    "    \n",
    "# String:\n",
    "</font>"
   ]
  },
  {
   "cell_type": "markdown",
   "id": "fb1739da-429e-409f-bf7e-4ac4f5b0c1fc",
   "metadata": {},
   "source": [
    "i. Use of \\n and \\t. It is encouraging to learn the use of the following table of escape \n",
    "sequences."
   ]
  },
  {
   "cell_type": "code",
   "execution_count": 141,
   "id": "b2bed175-8d6d-4806-b2df-e0047e39715a",
   "metadata": {},
   "outputs": [
    {
     "name": "stdout",
     "output_type": "stream",
     "text": [
      "Hello,\n",
      "World!\n"
     ]
    }
   ],
   "source": [
    "print(\"Hello,\\nWorld!\")"
   ]
  },
  {
   "cell_type": "code",
   "execution_count": 142,
   "id": "8ac122f0-cb8a-44c6-8b71-f3ada0ded867",
   "metadata": {},
   "outputs": [
    {
     "name": "stdout",
     "output_type": "stream",
     "text": [
      "Column 1\tColumn 2\tColumn 3\n"
     ]
    }
   ],
   "source": [
    "print(\"Column 1\\tColumn 2\\tColumn 3\")"
   ]
  },
  {
   "cell_type": "code",
   "execution_count": 143,
   "id": "5c107933-6f13-4e34-8a1e-c2f7079c175c",
   "metadata": {},
   "outputs": [
    {
     "name": "stdout",
     "output_type": "stream",
     "text": [
      "Data Table:\n",
      "\n",
      "\tItem\t\tQuantity\tPrice\n",
      "\tApple\t\t10\t\t$1.50\n",
      "\tBanana\t\t5\t\t$0.75\n"
     ]
    }
   ],
   "source": [
    "print(\"Data Table:\\n\")\n",
    "print(\"\\tItem\\t\\tQuantity\\tPrice\")\n",
    "print(\"\\tApple\\t\\t10\\t\\t$1.50\")\n",
    "print(\"\\tBanana\\t\\t5\\t\\t$0.75\")"
   ]
  },
  {
   "cell_type": "markdown",
   "id": "a86ae76e-7de9-4085-a417-d4cb6eefe82a",
   "metadata": {},
   "source": [
    "ii. Use F-String for three string formatting."
   ]
  },
  {
   "cell_type": "code",
   "execution_count": 145,
   "id": "3a0504ac-e3ca-408d-a789-c5e3ee15ea66",
   "metadata": {},
   "outputs": [
    {
     "name": "stdout",
     "output_type": "stream",
     "text": [
      "Hello, Aihab!\n"
     ]
    }
   ],
   "source": [
    "name = \"Aihab\"\n",
    "greeting = f\"Hello, {name}!\"\n",
    "print(greeting)  "
   ]
  },
  {
   "cell_type": "code",
   "execution_count": 146,
   "id": "de1abd48-a865-4226-a1b2-76b01937ddd4",
   "metadata": {},
   "outputs": [
    {
     "name": "stdout",
     "output_type": "stream",
     "text": [
      "The price is $19.99\n"
     ]
    }
   ],
   "source": [
    "price = 19.99\n",
    "formatted_price = f\"The price is ${price:.2f}\"\n",
    "print(formatted_price)  "
   ]
  },
  {
   "cell_type": "code",
   "execution_count": 148,
   "id": "85552b49-639a-43f7-8709-01e9edfcabf8",
   "metadata": {},
   "outputs": [
    {
     "name": "stdout",
     "output_type": "stream",
     "text": [
      "Aihab Daud\n"
     ]
    }
   ],
   "source": [
    "first_name = \"Aihab\"\n",
    "last_name = \"Daud\"\n",
    "full_name = f\"{first_name} {last_name}\"\n",
    "print(full_name)  "
   ]
  },
  {
   "cell_type": "markdown",
   "id": "cb28fcc4-7a92-424b-98b2-4fef1f4f78f7",
   "metadata": {},
   "source": [
    "iii. Use .capitalize() for three examples."
   ]
  },
  {
   "cell_type": "code",
   "execution_count": 149,
   "id": "7d10e3d0-c9c9-4bd5-8de0-7330730b5aa3",
   "metadata": {},
   "outputs": [
    {
     "name": "stdout",
     "output_type": "stream",
     "text": [
      "Hello world\n"
     ]
    }
   ],
   "source": [
    "string1 = \"hello world\"\n",
    "capitalized_string1 = string1.capitalize()\n",
    "print(capitalized_string1)  "
   ]
  },
  {
   "cell_type": "code",
   "execution_count": 150,
   "id": "64d86a51-f615-4ec6-93a6-0415f2578304",
   "metadata": {},
   "outputs": [
    {
     "name": "stdout",
     "output_type": "stream",
     "text": [
      "This is a sentence.\n"
     ]
    }
   ],
   "source": [
    "sentence = \"this is a sentence.\"\n",
    "capitalized_sentence = sentence.capitalize()\n",
    "print(capitalized_sentence)"
   ]
  },
  {
   "cell_type": "code",
   "execution_count": 151,
   "id": "059fd354-1ac0-4867-9068-fa3c508ec468",
   "metadata": {},
   "outputs": [
    {
     "name": "stdout",
     "output_type": "stream",
     "text": [
      "I am learning Python.\n"
     ]
    }
   ],
   "source": [
    "word = \"python\"\n",
    "sentence = f\"I am learning {word}.\"\n",
    "capitalized_word = word.capitalize()\n",
    "capitalized_sentence = f\"I am learning {capitalized_word}.\"\n",
    "print(capitalized_sentence)"
   ]
  },
  {
   "cell_type": "markdown",
   "id": "ba28918f-eead-494d-bb3f-f9d3118f4dda",
   "metadata": {},
   "source": [
    "iv. Use .format(*args, **kwargs) for five example formatting."
   ]
  },
  {
   "cell_type": "code",
   "execution_count": 153,
   "id": "61253209-d90d-465e-8806-b258e86d6991",
   "metadata": {},
   "outputs": [
    {
     "name": "stdout",
     "output_type": "stream",
     "text": [
      "My name is Aihab Daud and I am 20 years old.\n"
     ]
    }
   ],
   "source": [
    "name = \"Aihab Daud\"\n",
    "age = 20\n",
    "print(\"My name is {} and I am {} years old.\".format(name, age)) \n"
   ]
  },
  {
   "cell_type": "code",
   "execution_count": 154,
   "id": "c291a2c3-b8ed-44f7-a8af-3cd4807c180e",
   "metadata": {},
   "outputs": [
    {
     "name": "stdout",
     "output_type": "stream",
     "text": [
      "My name is asd and I am 25 years old.\n"
     ]
    }
   ],
   "source": [
    "print(\"My name is {name} and I am {age} years old.\".format(name=\"asd\", age=25))"
   ]
  },
  {
   "cell_type": "code",
   "execution_count": 155,
   "id": "fef2315d-6453-42c8-9f08-c4ec5a581542",
   "metadata": {},
   "outputs": [
    {
     "name": "stdout",
     "output_type": "stream",
     "text": [
      "My name is e and I am 35 years old.\n"
     ]
    }
   ],
   "source": [
    "print(\"My name is {0} and I am {age} years old.\".format(\"e\", age=35))"
   ]
  },
  {
   "cell_type": "code",
   "execution_count": 156,
   "id": "48cc61cb-4155-4b19-a828-8be214751c17",
   "metadata": {},
   "outputs": [
    {
     "name": "stdout",
     "output_type": "stream",
     "text": [
      "My name is D and I am 40 years old.\n"
     ]
    }
   ],
   "source": [
    "my_list = [\"D\", 40]\n",
    "print(\"My name is {} and I am {} years old.\".format(*my_list))"
   ]
  },
  {
   "cell_type": "code",
   "execution_count": 157,
   "id": "4728dd17-8bbe-4b90-ad70-a0713d0d0d95",
   "metadata": {},
   "outputs": [
    {
     "name": "stdout",
     "output_type": "stream",
     "text": [
      "My name is Eve and I am 45 years old.\n"
     ]
    }
   ],
   "source": [
    "my_dict = {\"name\": \"Eve\", \"age\": 45}\n",
    "print(\"My name is {name} and I am {age} years old.\".format(**my_dict))\n"
   ]
  },
  {
   "cell_type": "markdown",
   "id": "4a635f39-84e4-44e3-abe6-e0c9dd83222e",
   "metadata": {},
   "source": [
    "v. Use .lower() for three examples."
   ]
  },
  {
   "cell_type": "code",
   "execution_count": 158,
   "id": "39c30d70-a43b-4f1c-a5dd-6d515f475387",
   "metadata": {},
   "outputs": [
    {
     "name": "stdout",
     "output_type": "stream",
     "text": [
      "hello, world!\n"
     ]
    }
   ],
   "source": [
    "text = \"HELLO, WORLD!\"\n",
    "lowercase_text = text.lower()\n",
    "print(lowercase_text)  "
   ]
  },
  {
   "cell_type": "code",
   "execution_count": 159,
   "id": "8e3d79c4-4868-4266-a4e0-c459f16e316c",
   "metadata": {},
   "outputs": [
    {
     "name": "stdout",
     "output_type": "stream",
     "text": [
      "this is a sentence.\n"
     ]
    }
   ],
   "source": [
    "sentence = \"This IS A Sentence.\"\n",
    "lowercase_sentence = sentence.lower()\n",
    "print(lowercase_sentence) "
   ]
  },
  {
   "cell_type": "code",
   "execution_count": 160,
   "id": "a728c802-4d69-4429-b231-1b1fcd7cf59c",
   "metadata": {},
   "outputs": [
    {
     "name": "stdout",
     "output_type": "stream",
     "text": [
      "The words are not equal.\n",
      "The words are equal (case-insensitive).\n"
     ]
    }
   ],
   "source": [
    "word1 = \"apple\"\n",
    "word2 = \"Apple\"\n",
    "\n",
    "if word1 == word2:\n",
    "    print(\"The words are equal.\")\n",
    "else:\n",
    "    print(\"The words are not equal.\")  # Output: The words are not equal.\n",
    "\n",
    "if word1.lower() == word2.lower():\n",
    "    print(\"The words are equal (case-insensitive).\")  # Output: The words are equal (case-insensitive)."
   ]
  },
  {
   "cell_type": "markdown",
   "id": "13530c17-6471-4419-bacb-130e045d62fa",
   "metadata": {},
   "source": [
    "vi. Some method on string return true false and they are frequently use in different applications. \n",
    "Use .isdigit(),.islower(), and .isnumeric() in two example"
   ]
  },
  {
   "cell_type": "code",
   "execution_count": 163,
   "id": "9a50c6ac-09b1-4111-a5b7-94c2fca10aec",
   "metadata": {},
   "outputs": [],
   "source": [
    "# 1. .isdigit()"
   ]
  },
  {
   "cell_type": "code",
   "execution_count": 164,
   "id": "b6cbeb55-419e-4ddc-8f48-730cb5dfd703",
   "metadata": {},
   "outputs": [
    {
     "name": "stdout",
     "output_type": "stream",
     "text": [
      "True\n"
     ]
    }
   ],
   "source": [
    "string1 = \"12345\"\n",
    "print(string1.isdigit())  # Output: True"
   ]
  },
  {
   "cell_type": "code",
   "execution_count": 165,
   "id": "ad02db2a-e931-4cea-9983-3d0353ae01d9",
   "metadata": {},
   "outputs": [
    {
     "name": "stdout",
     "output_type": "stream",
     "text": [
      "False\n"
     ]
    }
   ],
   "source": [
    "string2 = \"123a45\"\n",
    "print(string2.isdigit())  # Output: False"
   ]
  },
  {
   "cell_type": "code",
   "execution_count": 166,
   "id": "49382fd4-13f3-4061-9326-ca9238cb8b54",
   "metadata": {},
   "outputs": [],
   "source": [
    "# 2. .islower()"
   ]
  },
  {
   "cell_type": "code",
   "execution_count": 167,
   "id": "abb0ad3e-124a-44fc-a9b2-58ee8632b833",
   "metadata": {},
   "outputs": [
    {
     "name": "stdout",
     "output_type": "stream",
     "text": [
      "True\n"
     ]
    }
   ],
   "source": [
    "string1 = \"hello world\"\n",
    "print(string1.islower())  # Output: True"
   ]
  },
  {
   "cell_type": "code",
   "execution_count": 168,
   "id": "0f9b6168-c597-4593-8fe5-9569d70c37a2",
   "metadata": {},
   "outputs": [
    {
     "name": "stdout",
     "output_type": "stream",
     "text": [
      "False\n"
     ]
    }
   ],
   "source": [
    "string2 = \"Hello World\"\n",
    "print(string2.islower())  # Output: False"
   ]
  },
  {
   "cell_type": "code",
   "execution_count": 169,
   "id": "acf80e3f-d055-4917-95d7-2e127b79ff2e",
   "metadata": {},
   "outputs": [],
   "source": [
    "#.isnumeric()"
   ]
  },
  {
   "cell_type": "code",
   "execution_count": 170,
   "id": "b0a57bc5-537a-44fd-a029-4fb418708da2",
   "metadata": {},
   "outputs": [
    {
     "name": "stdout",
     "output_type": "stream",
     "text": [
      "True\n"
     ]
    }
   ],
   "source": [
    "string1 = \"12345\"\n",
    "print(string1.isnumeric())  # Output: True"
   ]
  },
  {
   "cell_type": "code",
   "execution_count": 171,
   "id": "b63735b9-8ed3-41fb-b046-aa0f1bffb016",
   "metadata": {},
   "outputs": [
    {
     "name": "stdout",
     "output_type": "stream",
     "text": [
      "True\n"
     ]
    }
   ],
   "source": [
    "string2 = \"½\"\n",
    "print(string2.isnumeric())  # Output: True"
   ]
  },
  {
   "cell_type": "markdown",
   "id": "07009c8c-99c6-4a23-a20a-d97d9904b560",
   "metadata": {},
   "source": [
    "vii. Some other string operation required other methods. Use .split() for two example. "
   ]
  },
  {
   "cell_type": "code",
   "execution_count": 172,
   "id": "0f57916a-5ae8-4817-90b1-b754805d2aaa",
   "metadata": {},
   "outputs": [
    {
     "name": "stdout",
     "output_type": "stream",
     "text": [
      "['This', 'is', 'a', 'sample', 'sentence.']\n"
     ]
    }
   ],
   "source": [
    "sentence = \"This is a sample sentence.\"\n",
    "words = sentence.split()\n",
    "print(words)  "
   ]
  },
  {
   "cell_type": "code",
   "execution_count": 174,
   "id": "419711da-71d8-441a-a9da-2d09fd0522b2",
   "metadata": {},
   "outputs": [
    {
     "name": "stdout",
     "output_type": "stream",
     "text": [
      "['name:A', 'age:30']\n",
      "Name: A\n",
      "Age: 30\n"
     ]
    }
   ],
   "source": [
    "data = \"name:A,age:30\"\n",
    "parts = data.split(\",\")\n",
    "print(parts) \n",
    "\n",
    "name_value = parts[0].split(\":\")[1] \n",
    "age_value = parts[1].split(\":\")[1]\n",
    "print(\"Name:\", name_value) \n",
    "print(\"Age:\", age_value)  "
   ]
  }
 ],
 "metadata": {
  "kernelspec": {
   "display_name": "Python 3 (ipykernel)",
   "language": "python",
   "name": "python3"
  },
  "language_info": {
   "codemirror_mode": {
    "name": "ipython",
    "version": 3
   },
   "file_extension": ".py",
   "mimetype": "text/x-python",
   "name": "python",
   "nbconvert_exporter": "python",
   "pygments_lexer": "ipython3",
   "version": "3.9.19"
  }
 },
 "nbformat": 4,
 "nbformat_minor": 5
}
