{
 "cells": [
  {
   "cell_type": "markdown",
   "id": "4f03953c-360a-4096-8b8e-60025956ba19",
   "metadata": {},
   "source": [
    "# Lab 13"
   ]
  },
  {
   "cell_type": "markdown",
   "id": "7edd2762-f828-4de0-81cb-808c40d7918f",
   "metadata": {},
   "source": [
    "# PRIORITY QUEUE"
   ]
  },
  {
   "cell_type": "markdown",
   "id": "a0342c2b-6709-45b7-8b6e-3e6456b90a47",
   "metadata": {},
   "source": [
    "\n",
    "# 1. Lab work task:"
   ]
  },
  {
   "cell_type": "code",
   "execution_count": 1,
   "id": "5af57670-b1a1-42e1-8b37-afce479a0e96",
   "metadata": {},
   "outputs": [],
   "source": [
    "# Importing heapq for priority queue:"
   ]
  },
  {
   "cell_type": "code",
   "execution_count": null,
   "id": "cc50da81-e411-4eed-bacb-912df63104f3",
   "metadata": {},
   "outputs": [],
   "source": [
    "import heapq"
   ]
  },
  {
   "cell_type": "markdown",
   "id": "c9aadd87-d4dc-4077-bbce-b616e58a903f",
   "metadata": {},
   "source": [
    "2. Enqueue (Insert):"
   ]
  },
  {
   "cell_type": "code",
   "execution_count": 10,
   "id": "42a4defc-b3bd-4b7d-a0cc-0ea5cba8d7b8",
   "metadata": {},
   "outputs": [],
   "source": [
    "import heapq\n",
    "def enqueue(self, data, priority):\n",
    "    heapq.heappush(self.heap, (priority, data))"
   ]
  },
  {
   "cell_type": "markdown",
   "id": "9a48b00e-9c61-4775-b927-6e4896b52ad0",
   "metadata": {},
   "source": [
    "# IMPLEMENTING PUSH OPERATION:"
   ]
  },
  {
   "cell_type": "code",
   "execution_count": 11,
   "id": "3a47a360-0e7e-4750-9cbe-1f9b9d4bb53d",
   "metadata": {},
   "outputs": [],
   "source": [
    "from heapq import heappush\n",
    "fruits = []\n",
    "heappush(fruits, \"orange\")\n",
    "heappush(fruits, \"apple\")\n",
    "heappush(fruits, \"banana\")"
   ]
  },
  {
   "cell_type": "code",
   "execution_count": 13,
   "id": "9eefd581-068b-49ab-b2c2-94c7a502c1ee",
   "metadata": {},
   "outputs": [
    {
     "name": "stdout",
     "output_type": "stream",
     "text": [
      "['apple', 'orange', 'banana']\n"
     ]
    }
   ],
   "source": [
    "print(fruits)"
   ]
  },
  {
   "cell_type": "markdown",
   "id": "a599bcdd-7136-43c3-b0d1-fc94e8aee858",
   "metadata": {},
   "source": [
    "# 3. Dequeue (Remove):"
   ]
  },
  {
   "cell_type": "code",
   "execution_count": 14,
   "id": "4076b234-a76a-4722-b67f-60f1e7086b39",
   "metadata": {},
   "outputs": [
    {
     "data": {
      "text/plain": [
       "['banana', 'orange']"
      ]
     },
     "execution_count": 14,
     "metadata": {},
     "output_type": "execute_result"
    }
   ],
   "source": [
    "from heapq import heappop\n",
    "heappop(fruits)\n",
    "fruits"
   ]
  },
  {
   "cell_type": "markdown",
   "id": "ed4f0259-5378-4cd5-9ec5-c59df1099215",
   "metadata": {},
   "source": [
    "COMPAIRING STRING OBJECTS:\n"
   ]
  },
  {
   "cell_type": "code",
   "execution_count": 15,
   "id": "00abae95-5436-49c7-9f05-0365468bec30",
   "metadata": {},
   "outputs": [],
   "source": [
    "Person1 = (\"John\", \"Brown\", 42)\n",
    "person2 = (\"John\", \"Doe\", 42)\n",
    "person3 = (\"John\", \"Doe\", 24)"
   ]
  },
  {
   "cell_type": "code",
   "execution_count": 16,
   "id": "4b75ffe0-88b6-4e46-8451-da689f0018aa",
   "metadata": {},
   "outputs": [
    {
     "data": {
      "text/plain": [
       "True"
      ]
     },
     "execution_count": 16,
     "metadata": {},
     "output_type": "execute_result"
    }
   ],
   "source": [
    "Person1 < person2"
   ]
  },
  {
   "cell_type": "code",
   "execution_count": 17,
   "id": "c18c3470-9281-4c0e-9707-5606a6cc74da",
   "metadata": {},
   "outputs": [
    {
     "data": {
      "text/plain": [
       "False"
      ]
     },
     "execution_count": 17,
     "metadata": {},
     "output_type": "execute_result"
    }
   ],
   "source": [
    "person2 < person3"
   ]
  },
  {
   "cell_type": "markdown",
   "id": "28f1900a-98d1-4166-9a7b-6ba23363301a",
   "metadata": {},
   "source": [
    "# 4. BUILDING PRIORITY QUEUE DATA TYPE:"
   ]
  },
  {
   "cell_type": "code",
   "execution_count": 18,
   "id": "399ce1b4-4a9b-45bd-94e4-95f5efaa62b8",
   "metadata": {},
   "outputs": [],
   "source": [
    "from collections import deque\n",
    "from heapq import heappop, heappush\n",
    "\n",
    "class PriorityQueue:\n",
    "    def __init__(self):\n",
    "        self._elements = []\n",
    "\n",
    "    def enqueue_with_priority(self, priority, value):\n",
    "        heappush(self._elements, (priority, value))\n",
    "\n",
    "    def dequeue(self):\n",
    "        return heappop(self._elements)"
   ]
  },
  {
   "cell_type": "code",
   "execution_count": 19,
   "id": "c2bf4872-846f-4d8e-9c94-eee867d03ea5",
   "metadata": {},
   "outputs": [],
   "source": [
    "# i. It’s a basic priority queue implementation, which defines a heap of elements using a \n",
    "#Python list and two methods that manipulate it. The enqueue_with_priority() method takes two arguments, a priority and a corresponding value."
   ]
  },
  {
   "cell_type": "code",
   "execution_count": 21,
   "id": "fedb5ac3-a83a-4ba5-b943-a42349a3a688",
   "metadata": {},
   "outputs": [],
   "source": [
    "CRITICAL = 3\n",
    "IMPORTANT = 2\n",
    "NEUTRAL = 1\n",
    "\n",
    "messages = PriorityQueue()\n",
    "\n",
    "messages.enqueue_with_priority(IMPORTANT, \"Windshield wipers turned on\")\n",
    "messages.enqueue_with_priority(NEUTRAL, \"Radio station tuned in\")\n",
    "messages.enqueue_with_priority(CRITICAL, \"Brake pedal depressed\")\n",
    "messages.enqueue_with_priority(IMPORTANT, \"Hazard lights turned on\")"
   ]
  },
  {
   "cell_type": "code",
   "execution_count": 22,
   "id": "012dce15-1b89-48ba-acdd-bf1df2c5e3cc",
   "metadata": {},
   "outputs": [
    {
     "data": {
      "text/plain": [
       "[(1, 'Radio station tuned in'),\n",
       " (2, 'Hazard lights turned on'),\n",
       " (3, 'Brake pedal depressed'),\n",
       " (2, 'Windshield wipers turned on')]"
      ]
     },
     "execution_count": 22,
     "metadata": {},
     "output_type": "execute_result"
    }
   ],
   "source": [
    "messages._elements"
   ]
  },
  {
   "cell_type": "code",
   "execution_count": 23,
   "id": "ee06eae2-6649-452d-bc87-401c91b8daa2",
   "metadata": {},
   "outputs": [
    {
     "data": {
      "text/plain": [
       "(1, 'Radio station tuned in')"
      ]
     },
     "execution_count": 23,
     "metadata": {},
     "output_type": "execute_result"
    }
   ],
   "source": [
    "messages.dequeue()"
   ]
  },
  {
   "cell_type": "markdown",
   "id": "16c2ce7a-600f-45a9-81f4-68395a951bce",
   "metadata": {},
   "source": [
    "# 5. NEGATIVE PRIORITY:"
   ]
  },
  {
   "cell_type": "code",
   "execution_count": 25,
   "id": "a3ba5f9c-a90d-4c5d-8b40-91d06cbfa704",
   "metadata": {},
   "outputs": [],
   "source": [
    "import heapq\n",
    "class PriorityQueue:\n",
    "    def __init__(self):\n",
    "        self._elements = []\n",
    "    def enqueue_with_priority(self, priority, value):\n",
    "        heapq.heappush(self._elements, (-priority, value))\n",
    "    def dequeue(self):\n",
    "        return heapq.heappop(self._elements)[1]"
   ]
  },
  {
   "cell_type": "code",
   "execution_count": 26,
   "id": "b560d4b9-8141-4043-a920-463c8ad5ef61",
   "metadata": {},
   "outputs": [
    {
     "data": {
      "text/plain": [
       "(2, 'Hazard lights turned on')"
      ]
     },
     "execution_count": 26,
     "metadata": {},
     "output_type": "execute_result"
    }
   ],
   "source": [
    "messages.dequeue()"
   ]
  },
  {
   "cell_type": "markdown",
   "id": "cd620ace-8de6-4cc7-948e-6d62c1300606",
   "metadata": {},
   "source": [
    "HANDLING CORNER CASES IN PRIORITY QUEUE:"
   ]
  },
  {
   "cell_type": "code",
   "execution_count": 43,
   "id": "3f817bd4-f89d-4670-a1eb-aeadebc61650",
   "metadata": {},
   "outputs": [],
   "source": [
    "from dataclasses import dataclass\n",
    "@dataclass\n",
    "class Message:\n",
    "    event: str"
   ]
  },
  {
   "cell_type": "code",
   "execution_count": 44,
   "id": "54dd7e29-02f6-4b50-8a9a-8b99dbcd25c5",
   "metadata": {},
   "outputs": [],
   "source": [
    "wipers = Message(\"Windshield wipers turned on\")\n",
    "hazard_lights = Message(\"Hazard lights turned on\")"
   ]
  },
  {
   "cell_type": "code",
   "execution_count": 45,
   "id": "f376690e-0730-499b-8695-3a3096ff8305",
   "metadata": {},
   "outputs": [],
   "source": [
    "messages = PriorityQueue()\n",
    "messages.enqueue_with_priority(CRITICAL, wipers)\n",
    "messages.enqueue_with_priority(IMPORTANT, hazard_lights)"
   ]
  },
  {
   "cell_type": "markdown",
   "id": "1532a456-6c05-4588-a846-d00b0a0ff082",
   "metadata": {},
   "source": [
    "You can use the count() iterator from the itertools module to count from zero to infinity in a \n",
    "concise way:\n"
   ]
  },
  {
   "cell_type": "code",
   "execution_count": 48,
   "id": "67a38225-3917-4610-b071-2f841229cb91",
   "metadata": {},
   "outputs": [],
   "source": [
    "from collections import deque\n",
    "from heapq import heappop, heappush\n",
    "from itertools import count\n",
    "\n",
    "class PriorityQueue:\n",
    "    def __init__(self):\n",
    "        self._elements = []\n",
    "        self._counter = count()\n",
    "\n",
    "    def enqueue_with_priority(self, priority, value):\n",
    "        element = (-priority, next(self._counter), value)  # Use a tuple for priority, counter, and value\n",
    "        heappush(self._elements, element)\n",
    "\n",
    "    def dequeue(self):\n",
    "        return heappop(self._elements)[-1]  # Return the last element of the popped tuple (the value)"
   ]
  },
  {
   "cell_type": "markdown",
   "id": "65de710f-6835-4333-baef-101210c25046",
   "metadata": {},
   "source": [
    "Refactoring The Code Using A Mixin Class"
   ]
  },
  {
   "cell_type": "code",
   "execution_count": 49,
   "id": "80278f75-cf2b-4d61-9184-25e12dcb6324",
   "metadata": {},
   "outputs": [],
   "source": [
    "class IterableMixin:\n",
    "    def __len__(self):\n",
    "        return len(self._elements)\n",
    "\n",
    "    def __iter__(self):\n",
    "        while len(self) > 0:\n",
    "            yield self.dequeue()"
   ]
  },
  {
   "cell_type": "markdown",
   "id": "201b13bd-dd43-404b-aaa5-131521362b57",
   "metadata": {},
   "source": [
    "# Note:"
   ]
  },
  {
   "cell_type": "code",
   "execution_count": 50,
   "id": "5f8d12f3-a6e9-40ea-b629-ca01400d2675",
   "metadata": {},
   "outputs": [],
   "source": [
    "#You moved the .__len__() and .__iter__() methods from the Queue class to a separate IterableMixin class and made the former extend that mixin\n"
   ]
  },
  {
   "cell_type": "code",
   "execution_count": 51,
   "id": "a8809e06-a42b-4e6a-91aa-2c19a47f9657",
   "metadata": {},
   "outputs": [],
   "source": [
    "from collections import deque\n",
    "from heapq import heappop, heappush\n",
    "from itertools import count"
   ]
  },
  {
   "cell_type": "code",
   "execution_count": null,
   "id": "b58d2eab-7181-4939-b63b-52e947e495e6",
   "metadata": {},
   "outputs": [],
   "source": []
  },
  {
   "cell_type": "code",
   "execution_count": null,
   "id": "0d8eb080-6bf7-41c2-bc22-5d422ce69593",
   "metadata": {},
   "outputs": [],
   "source": []
  },
  {
   "cell_type": "code",
   "execution_count": null,
   "id": "0e5d68bb-49ae-4fbe-bf64-6d7a86c93ec4",
   "metadata": {},
   "outputs": [],
   "source": []
  },
  {
   "cell_type": "code",
   "execution_count": null,
   "id": "f237d83c-062d-4111-90a9-897dab78776e",
   "metadata": {},
   "outputs": [],
   "source": []
  },
  {
   "cell_type": "code",
   "execution_count": null,
   "id": "ac54aa84-3253-462e-ac7e-d1e5016e791d",
   "metadata": {},
   "outputs": [],
   "source": []
  },
  {
   "cell_type": "code",
   "execution_count": null,
   "id": "2f6ab190-59ae-4a08-8d48-73e8a491c926",
   "metadata": {},
   "outputs": [],
   "source": []
  },
  {
   "cell_type": "code",
   "execution_count": null,
   "id": "73c399ca-aef3-4254-b956-86d41cba28e3",
   "metadata": {},
   "outputs": [],
   "source": []
  },
  {
   "cell_type": "code",
   "execution_count": null,
   "id": "075a5db3-c9f4-43a8-a26f-296855e41088",
   "metadata": {},
   "outputs": [],
   "source": []
  },
  {
   "cell_type": "code",
   "execution_count": null,
   "id": "951c0593-d64a-44f6-88ed-878e48ba0b8b",
   "metadata": {},
   "outputs": [],
   "source": []
  },
  {
   "cell_type": "code",
   "execution_count": null,
   "id": "d0573503-a965-4628-93e6-1f23ee809cd8",
   "metadata": {},
   "outputs": [],
   "source": []
  },
  {
   "cell_type": "code",
   "execution_count": null,
   "id": "ff0b688d-0761-4489-93b7-c7206f021b7b",
   "metadata": {},
   "outputs": [],
   "source": []
  },
  {
   "cell_type": "code",
   "execution_count": null,
   "id": "b4234693-a2e2-45a7-860d-6b8d196b9b67",
   "metadata": {},
   "outputs": [],
   "source": []
  },
  {
   "cell_type": "code",
   "execution_count": null,
   "id": "9a74eb93-cc14-4f22-8f66-b5b512a92a7b",
   "metadata": {},
   "outputs": [],
   "source": []
  },
  {
   "cell_type": "code",
   "execution_count": null,
   "id": "1dca95b8-e81d-41eb-b203-1c99c2ca771b",
   "metadata": {},
   "outputs": [],
   "source": []
  },
  {
   "cell_type": "code",
   "execution_count": null,
   "id": "68b381b9-d20d-40ac-b320-660114188a95",
   "metadata": {},
   "outputs": [],
   "source": []
  },
  {
   "cell_type": "code",
   "execution_count": null,
   "id": "4bb2542d-e0ae-4cfc-9f99-ea4a5c104882",
   "metadata": {},
   "outputs": [],
   "source": []
  },
  {
   "cell_type": "code",
   "execution_count": null,
   "id": "816f907f-f595-4661-b187-dc7470552273",
   "metadata": {},
   "outputs": [],
   "source": []
  },
  {
   "cell_type": "code",
   "execution_count": null,
   "id": "7bc78a1d-2be1-40a9-895d-78bd3cab4c8f",
   "metadata": {},
   "outputs": [],
   "source": []
  },
  {
   "cell_type": "code",
   "execution_count": null,
   "id": "ff7a119e-baab-410f-a6b0-fe12fcff8312",
   "metadata": {},
   "outputs": [],
   "source": []
  }
 ],
 "metadata": {
  "kernelspec": {
   "display_name": "Python 3 (ipykernel)",
   "language": "python",
   "name": "python3"
  },
  "language_info": {
   "codemirror_mode": {
    "name": "ipython",
    "version": 3
   },
   "file_extension": ".py",
   "mimetype": "text/x-python",
   "name": "python",
   "nbconvert_exporter": "python",
   "pygments_lexer": "ipython3",
   "version": "3.9.19"
  }
 },
 "nbformat": 4,
 "nbformat_minor": 5
}
