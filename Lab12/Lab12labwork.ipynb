{
 "cells": [
  {
   "cell_type": "markdown",
   "id": "2e3485c7-64bd-4a01-a865-6d1ebc046a05",
   "metadata": {},
   "source": [
    "# LAB 12"
   ]
  },
  {
   "cell_type": "markdown",
   "id": "f0f0f493-b242-4538-8838-d7ad60a6509e",
   "metadata": {},
   "source": [
    "# QUEUE ALGORITHMS"
   ]
  },
  {
   "cell_type": "markdown",
   "id": "7df17d4b-a48e-4794-b53e-d2e0d623c9be",
   "metadata": {},
   "source": [
    "TYPES OF QUEUE:\n",
    "i. List Queue\n",
    "ii. Deque Queue\n",
    "iii. Node base Queue.\n"
   ]
  },
  {
   "cell_type": "markdown",
   "id": "1aa0bfe8-24c5-4c9e-bd82-bacf1cd46541",
   "metadata": {},
   "source": [
    "# 1. LIST QUEUE:"
   ]
  },
  {
   "cell_type": "markdown",
   "id": "c4d771c9-4337-4f0b-9a94-132724d7aabc",
   "metadata": {},
   "source": [
    "a. Run this Code"
   ]
  },
  {
   "cell_type": "code",
   "execution_count": 16,
   "id": "0d40c4b6-bcf8-4e20-8208-b4ac34e1ca97",
   "metadata": {},
   "outputs": [],
   "source": [
    "class Queue:\n",
    "    def __init__(self):\n",
    "        self.items = []\n",
    "\n",
    "    def is_empty(self):\n",
    "        return len(self.items) == 0"
   ]
  },
  {
   "cell_type": "code",
   "execution_count": 17,
   "id": "4543aa47-cf02-4b07-ae6c-f6e760bed02c",
   "metadata": {},
   "outputs": [],
   "source": [
    "# i. __init__(self):This is the constructor method that initializes a new \n",
    "# instance of the Queue class. It creates an empty list (self.items) to store \n",
    "#the elements of the queue\n",
    "\n",
    "#ii. is_empty(self): This method returns True if the queue is empty.\n",
    "#(i.e., it has no elements), and False otherwise. It checks the length of the \n",
    "#list (self.items) to determine if the queue is empty."
   ]
  },
  {
   "cell_type": "code",
   "execution_count": 18,
   "id": "003eca30-4a73-4221-a07e-e8ccbf645faa",
   "metadata": {},
   "outputs": [],
   "source": [
    "def enqueue(self, item):\n",
    "    self.items.append(item)"
   ]
  },
  {
   "cell_type": "code",
   "execution_count": 19,
   "id": "91788ab9-57d2-47a6-a1b4-ace08200838b",
   "metadata": {},
   "outputs": [],
   "source": [
    "#iii. enqueue(self, item): This method adds an item to the rear of the queue. \n",
    "#It appends the specified item to the end of the list (self.items), effectively \n",
    "#adding it to the rear of the queue"
   ]
  },
  {
   "cell_type": "code",
   "execution_count": 20,
   "id": "453df027-7df6-4fd8-a669-acba71c78c28",
   "metadata": {},
   "outputs": [],
   "source": [
    "def dequeue(self):\n",
    "    if not self.is_empty():\n",
    "        return self.items.pop(0)\n",
    "    else:\n",
    "        print(\"Queue is empty. Cannot dequeue.\")"
   ]
  },
  {
   "cell_type": "code",
   "execution_count": 21,
   "id": "a58fbec8-8842-4d80-9151-b1dd17085a4f",
   "metadata": {},
   "outputs": [],
   "source": [
    "# iv. dequeue(self): This method removes and returns the item from the front \n",
    "#of the queue. It uses the pop(0) method to remove and return the first \n",
    "#element in the list. Before attempting to dequeue, it checks if the queue \n",
    "#is empty using the is_empty method to avoid errors."
   ]
  },
  {
   "cell_type": "code",
   "execution_count": 23,
   "id": "c336acd2-8811-416c-acce-7efaaed04f1f",
   "metadata": {},
   "outputs": [
    {
     "ename": "AttributeError",
     "evalue": "'Queue' object has no attribute 'enqueue'",
     "output_type": "error",
     "traceback": [
      "\u001b[1;31m---------------------------------------------------------------------------\u001b[0m",
      "\u001b[1;31mAttributeError\u001b[0m                            Traceback (most recent call last)",
      "Cell \u001b[1;32mIn[23], line 3\u001b[0m\n\u001b[0;32m      1\u001b[0m my_queue \u001b[38;5;241m=\u001b[39m Queue()\n\u001b[1;32m----> 3\u001b[0m \u001b[43mmy_queue\u001b[49m\u001b[38;5;241;43m.\u001b[39;49m\u001b[43menqueue\u001b[49m(\u001b[38;5;241m1\u001b[39m)\n\u001b[0;32m      4\u001b[0m my_queue\u001b[38;5;241m.\u001b[39menqueue(\u001b[38;5;241m2\u001b[39m)\n\u001b[0;32m      5\u001b[0m my_queue\u001b[38;5;241m.\u001b[39menqueue(\u001b[38;5;241m3\u001b[39m)\n",
      "\u001b[1;31mAttributeError\u001b[0m: 'Queue' object has no attribute 'enqueue'"
     ]
    }
   ],
   "source": [
    "my_queue = Queue()\n",
    "\n",
    "my_queue.enqueue(1)\n",
    "my_queue.enqueue(2)\n",
    "my_queue.enqueue(3)\n",
    "\n",
    "print(\"Dequeue:\", my_queue.dequeue())\n",
    "print(\"Dequeue:\", my_queue.dequeue())\n",
    "\n",
    "print(\"Is the queue empty?\", my_queue.is_empty())"
   ]
  },
  {
   "cell_type": "markdown",
   "id": "a0dfa4ae-12ba-43cd-be28-08b1f5a7bb90",
   "metadata": {},
   "source": [
    "# 2. DEQUE QUEUE:"
   ]
  },
  {
   "cell_type": "code",
   "execution_count": 24,
   "id": "8d2f9da9-d872-4e9e-9f1e-ae5cbe7b116d",
   "metadata": {},
   "outputs": [],
   "source": [
    "from collections import deque\n",
    "\n",
    "class DequeQueue:\n",
    "    def __init__(self):\n",
    "        self.items = deque()\n",
    "\n",
    "    def is_empty(self):\n",
    "        return len(self.items) == 0\n",
    "\n",
    "    def enqueue(self, item):\n",
    "        self.items.append(item)\n",
    "\n",
    "    def dequeue(self):\n",
    "        if not self.is_empty():\n",
    "            return self.items.popleft()\n",
    "        else:\n",
    "            print(\"Queue is empty. Cannot dequeue.\")"
   ]
  },
  {
   "cell_type": "code",
   "execution_count": 25,
   "id": "917dcfb1-949c-4a48-94a9-5b0013abba62",
   "metadata": {},
   "outputs": [],
   "source": [
    "# i. __init__(self): The constructor initializes a new instance of the \n",
    "#DequeQueue class. It creates an empty deque (self.items) to store the elements of the queue."
   ]
  },
  {
   "cell_type": "code",
   "execution_count": 26,
   "id": "aa14a583-5ea4-4dc3-8e51-3e4aeec21748",
   "metadata": {},
   "outputs": [],
   "source": [
    "def __init__(self):\n",
    "    self.items = deque()"
   ]
  },
  {
   "cell_type": "code",
   "execution_count": 27,
   "id": "007c4d68-3dd0-4394-894c-dfed98593316",
   "metadata": {},
   "outputs": [],
   "source": [
    "# ii. is_empty(self): This method returns True if the queue is empty (i.e., it \n",
    "#has no elements), and False otherwise. It checks the length of the deque (self.items) to determine if the queue is empty."
   ]
  },
  {
   "cell_type": "code",
   "execution_count": 28,
   "id": "b182bb33-5d8c-47ef-a770-09a1f8105138",
   "metadata": {},
   "outputs": [],
   "source": [
    "def is_empty(self):\n",
    "    return len(self.items) == 0"
   ]
  },
  {
   "cell_type": "code",
   "execution_count": 29,
   "id": "96a809b7-484f-466e-8882-19617660bb05",
   "metadata": {},
   "outputs": [],
   "source": [
    "# iii. enqueue(self, item): This method adds an item to the rear of the queue. \n",
    "#It uses the append method of the deque to add the specified item to the end, effectively enqueueing it"
   ]
  },
  {
   "cell_type": "code",
   "execution_count": 30,
   "id": "1f01e24f-ce80-413e-b849-b59325652f79",
   "metadata": {},
   "outputs": [],
   "source": [
    "def enqueue(self, item):\n",
    "    self.items.append(item)"
   ]
  },
  {
   "cell_type": "code",
   "execution_count": 31,
   "id": "5657565c-82b6-4f94-be4a-0b938035b40f",
   "metadata": {},
   "outputs": [],
   "source": [
    "#iv. dequeue(self): This method removes and returns the item from the front of the queue. It uses the popleft method of the deque to remove and \n",
    "#return the leftmost element. Before attempting to dequeue, it checks if the queue is empty using the is_empty method to avoid errors"
   ]
  },
  {
   "cell_type": "code",
   "execution_count": 32,
   "id": "8a605680-bdbe-404e-8508-1feb25dcb3b6",
   "metadata": {},
   "outputs": [],
   "source": [
    "def dequeue(self):\n",
    "    if not self.is_empty():\n",
    "        return self.items.popleft()\n",
    "    else:\n",
    "        print(\"Queue is empty. Cannot dequeue.\")"
   ]
  },
  {
   "cell_type": "code",
   "execution_count": 33,
   "id": "b5025dba-f478-4caf-b64d-29817ce4a220",
   "metadata": {},
   "outputs": [],
   "source": [
    "# Now, let's create instances and demonstrate the usage:v. This creates a DequeQueue object, enqueues three elements, prints the \n",
    "#queue, dequeues two elements, and checks if the queue is empty. The output should demonstrate the basic functionality of the deque-based queue."
   ]
  },
  {
   "cell_type": "code",
   "execution_count": 34,
   "id": "feab74d5-d124-4605-bc25-bb6da9470fe6",
   "metadata": {},
   "outputs": [],
   "source": [
    "from collections import deque\n",
    "\n",
    "class DequeQueue:\n",
    "    def __init__(self):\n",
    "        self.items = deque()\n",
    "\n",
    "    def is_empty(self):\n",
    "        return len(self.items) == 0\n",
    "\n",
    "    def enqueue(self, item):\n",
    "        self.items.append(item)\n",
    "\n",
    "    def dequeue(self):\n",
    "        if not self.is_empty():\n",
    "            return self.items.popleft()\n",
    "        else:\n",
    "            print(\"Queue is empty. Cannot dequeue.\")"
   ]
  },
  {
   "cell_type": "code",
   "execution_count": 35,
   "id": "b64aa0a5-5db1-4a79-aed2-58ed81fa003c",
   "metadata": {},
   "outputs": [
    {
     "name": "stdout",
     "output_type": "stream",
     "text": [
      "Current Queue: [1, 2, 3]\n",
      "Dequeued: 1\n",
      "Dequeued: 2\n",
      "Is the queue empty? False\n"
     ]
    }
   ],
   "source": [
    "# Create an instance of the DequeQueue class\n",
    "my_queue = DequeQueue()\n",
    "\n",
    "# Enqueue elements\n",
    "my_queue.enqueue(1)\n",
    "my_queue.enqueue(2)\n",
    "my_queue.enqueue(3)\n",
    "\n",
    "# Print the queue (for demonstration purposes, not a standard queue method)\n",
    "print(\"Current Queue:\", list(my_queue.items)) \n",
    "\n",
    "# Dequeue two elements\n",
    "print(\"Dequeued:\", my_queue.dequeue())\n",
    "print(\"Dequeued:\", my_queue.dequeue())\n",
    "\n",
    "# Check if the queue is empty\n",
    "print(\"Is the queue empty?\", my_queue.is_empty())"
   ]
  },
  {
   "cell_type": "markdown",
   "id": "dceaad94-8d68-463a-af62-18141f125f5c",
   "metadata": {},
   "source": [
    "# 3. NODE BASE QUEUE:"
   ]
  },
  {
   "cell_type": "code",
   "execution_count": 39,
   "id": "432dd0c2-54b0-4c14-b44b-d307f749e084",
   "metadata": {},
   "outputs": [],
   "source": [
    "class Node:\n",
    "    def __init__(self, data=None):\n",
    "        self.data = data\n",
    "        self.next = None\n",
    "class NodeQueue:\n",
    "    def __init__(self):\n",
    "        self.front = None \n",
    "        self.rear = None   \n",
    "\n",
    "    def is_empty(self):\n",
    "        return self.front is None\n",
    "    def enqueue(self, data):\n",
    "        new_node = Node(data)\n",
    "        if self.rear is None:\n",
    "            self.front = new_node\n",
    "            self.rear = new_node\n",
    "        else: \n",
    "            self.rear.next = new_node\n",
    "            self.rear = new_node\n",
    "    def dequeue(self):\n",
    "        if self.is_empty():\n",
    "            print(\"Queue is empty. Cannot dequeue.\")\n",
    "            return None\n",
    "\n",
    "        else:  \n",
    "            removed_data = self.front.data\n",
    "            self.front = self.front.next\n",
    "            if self.front is None:\n",
    "                self.rear = None\n",
    "\n",
    "            return removed_data"
   ]
  },
  {
   "cell_type": "code",
   "execution_count": null,
   "id": "51bd10d5-cb77-49a5-8b97-b2565843c086",
   "metadata": {},
   "outputs": [],
   "source": [
    "# i. Node class: This class represents a node in the queue. Each node contains data and a reference to the next node in the queue"
   ]
  },
  {
   "cell_type": "code",
   "execution_count": 40,
   "id": "3d2f4269-05ad-4994-998f-266f42e26f6c",
   "metadata": {},
   "outputs": [],
   "source": [
    "class Node:\n",
    "    def __init__(self, data=None):\n",
    "        self.data = data\n",
    "        self.next = None"
   ]
  },
  {
   "cell_type": "code",
   "execution_count": 41,
   "id": "8f447651-8546-48f7-97b8-7d3d1bf48749",
   "metadata": {},
   "outputs": [],
   "source": [
    "# ii. __init__(self): The constructor initializes a new instance of the NodeQueue class. It sets both the front and rear pointers to None\n",
    "#because the queue is initially empty."
   ]
  },
  {
   "cell_type": "code",
   "execution_count": 42,
   "id": "ab097389-4149-4451-8321-c8ffa1cafcb8",
   "metadata": {},
   "outputs": [],
   "source": [
    "class NodeQueue:\n",
    "    def __init__(self):\n",
    "        self.front = None\n",
    "        self.rear = None"
   ]
  },
  {
   "cell_type": "code",
   "execution_count": 43,
   "id": "98c60693-c1b7-4fed-8822-3e1b58130e40",
   "metadata": {},
   "outputs": [],
   "source": [
    "# iii. is_empty(self): This method returns True if the queue is empty (i.e., front is None), and False otherwise"
   ]
  },
  {
   "cell_type": "code",
   "execution_count": 44,
   "id": "2ee84c50-c153-43eb-aa5b-dd9b6c0ff47f",
   "metadata": {},
   "outputs": [],
   "source": [
    "def is_empty(self):\n",
    "  return self.front is None"
   ]
  },
  {
   "cell_type": "code",
   "execution_count": 45,
   "id": "fce94aac-ed6d-41ba-8329-786b8fb5714d",
   "metadata": {},
   "outputs": [],
   "source": [
    "# iv. enqueue(self, data): This method adds a new node with the given data to the rear of the queue. If the queue is empty, both the front and \n",
    "#rear pointers are set to the new node"
   ]
  },
  {
   "cell_type": "code",
   "execution_count": 46,
   "id": "19a3b48f-4003-4181-8826-4438c2aa33d8",
   "metadata": {},
   "outputs": [],
   "source": [
    "def enqueue(self, data):\n",
    "    new_node = Node(data)\n",
    "    if self.rear is None:\n",
    "        self.front = self.rear = new_node\n",
    "    else:\n",
    "        self.rear.next = new_node\n",
    "        self.rear = new_node"
   ]
  },
  {
   "cell_type": "code",
   "execution_count": 47,
   "id": "a7f26ffa-4429-4ec4-98bf-7375dccddb37",
   "metadata": {},
   "outputs": [],
   "source": [
    "# v. dequeue(self): This method removes and returns the data from the front of the queue. If the queue becomes empty after dequeue, the \n",
    "#rear pointer is also updated to None."
   ]
  },
  {
   "cell_type": "code",
   "execution_count": 48,
   "id": "aeeb6202-fc4b-4f83-9c0a-d65e1ee723f4",
   "metadata": {},
   "outputs": [],
   "source": [
    "def dequeue(self):\n",
    "    if self.is_empty():\n",
    "        print(\"Queue is empty. Cannot dequeue.\")\n",
    "        return None\n",
    "    else:\n",
    "        removed_data = self.front.data\n",
    "        self.front = self.front.next\n",
    "        if self.front is None:\n",
    "            self.rear = None\n",
    "        return removed_data"
   ]
  },
  {
   "cell_type": "code",
   "execution_count": null,
   "id": "a31cb7bf-cf00-474e-9603-55ff8370aef5",
   "metadata": {},
   "outputs": [],
   "source": []
  },
  {
   "cell_type": "code",
   "execution_count": null,
   "id": "7092d542-d6ef-4458-ae73-3dd3c6823d04",
   "metadata": {},
   "outputs": [],
   "source": []
  },
  {
   "cell_type": "code",
   "execution_count": null,
   "id": "6c60548b-75eb-45a7-9c93-1ae1f5ae68dc",
   "metadata": {},
   "outputs": [],
   "source": []
  },
  {
   "cell_type": "code",
   "execution_count": null,
   "id": "f5e4b658-1de8-4c70-9214-560b488299e3",
   "metadata": {},
   "outputs": [],
   "source": []
  },
  {
   "cell_type": "code",
   "execution_count": null,
   "id": "91652236-4e44-4290-8e3b-b5ee4db4acba",
   "metadata": {},
   "outputs": [],
   "source": []
  },
  {
   "cell_type": "code",
   "execution_count": null,
   "id": "516fd8b8-ebb5-413a-99fc-03cc159fb007",
   "metadata": {},
   "outputs": [],
   "source": []
  },
  {
   "cell_type": "code",
   "execution_count": null,
   "id": "fc7893d3-b599-48f5-9835-ab8c011be4f7",
   "metadata": {},
   "outputs": [],
   "source": []
  },
  {
   "cell_type": "code",
   "execution_count": null,
   "id": "189ea6ab-e48b-4b2c-884d-e0cf0ce7102a",
   "metadata": {},
   "outputs": [],
   "source": []
  },
  {
   "cell_type": "code",
   "execution_count": null,
   "id": "d5689439-4a23-431e-a0d2-27499cf86ec3",
   "metadata": {},
   "outputs": [],
   "source": []
  },
  {
   "cell_type": "code",
   "execution_count": null,
   "id": "6442f7d2-c1c5-4744-bcb1-7c0880f6d690",
   "metadata": {},
   "outputs": [],
   "source": []
  },
  {
   "cell_type": "code",
   "execution_count": null,
   "id": "f40c3743-9dc4-4d4b-9f09-a4d0c0e82696",
   "metadata": {},
   "outputs": [],
   "source": []
  },
  {
   "cell_type": "code",
   "execution_count": null,
   "id": "ae03f031-ded8-43c4-946f-8e4917eabb7a",
   "metadata": {},
   "outputs": [],
   "source": []
  },
  {
   "cell_type": "code",
   "execution_count": null,
   "id": "8db14032-9b20-40b5-b410-337e8a9e29aa",
   "metadata": {},
   "outputs": [],
   "source": []
  },
  {
   "cell_type": "code",
   "execution_count": null,
   "id": "3b7dcb5f-d08d-403c-bed3-fbd4e88831fd",
   "metadata": {},
   "outputs": [],
   "source": []
  },
  {
   "cell_type": "code",
   "execution_count": null,
   "id": "4e6f19a8-2da3-4d26-9f8a-3b0c9c4ad615",
   "metadata": {},
   "outputs": [],
   "source": []
  },
  {
   "cell_type": "code",
   "execution_count": null,
   "id": "3876d3f6-22a8-4746-b44f-bdc8612769f7",
   "metadata": {},
   "outputs": [],
   "source": []
  },
  {
   "cell_type": "code",
   "execution_count": null,
   "id": "24cfe130-1f16-478a-9dc9-746558191ae9",
   "metadata": {},
   "outputs": [],
   "source": []
  },
  {
   "cell_type": "code",
   "execution_count": null,
   "id": "bee4fdc0-0463-4ae7-8bbd-e9c04b2aeb7c",
   "metadata": {},
   "outputs": [],
   "source": []
  },
  {
   "cell_type": "code",
   "execution_count": null,
   "id": "54223ba0-9ccb-4597-bbf5-7ae67780a6ef",
   "metadata": {},
   "outputs": [],
   "source": []
  },
  {
   "cell_type": "code",
   "execution_count": null,
   "id": "38a0afcf-ecf0-4078-b95c-acca8fc23060",
   "metadata": {},
   "outputs": [],
   "source": []
  },
  {
   "cell_type": "code",
   "execution_count": null,
   "id": "d95cddc0-d3e9-4f90-8d13-796447080a92",
   "metadata": {},
   "outputs": [],
   "source": []
  },
  {
   "cell_type": "code",
   "execution_count": null,
   "id": "76391ad9-e9c6-4c2a-b3a3-3ddd78cab771",
   "metadata": {},
   "outputs": [],
   "source": []
  },
  {
   "cell_type": "code",
   "execution_count": null,
   "id": "5beb382d-6e3a-48be-9b2c-3fc1d38b417a",
   "metadata": {},
   "outputs": [],
   "source": []
  },
  {
   "cell_type": "code",
   "execution_count": null,
   "id": "b92bef41-3279-4ef2-97f0-59abeadc1a97",
   "metadata": {},
   "outputs": [],
   "source": []
  },
  {
   "cell_type": "code",
   "execution_count": null,
   "id": "1220c918-8622-4be9-b7ad-9b19d91c9357",
   "metadata": {},
   "outputs": [],
   "source": []
  },
  {
   "cell_type": "code",
   "execution_count": null,
   "id": "b457900f-1c5c-42b8-8411-3d7f6a0fa611",
   "metadata": {},
   "outputs": [],
   "source": []
  },
  {
   "cell_type": "code",
   "execution_count": null,
   "id": "c57e26d6-49bb-44b5-bc24-528c127ba7ab",
   "metadata": {},
   "outputs": [],
   "source": []
  },
  {
   "cell_type": "code",
   "execution_count": null,
   "id": "32d348f7-dd91-478c-9eb0-969925fdbabe",
   "metadata": {},
   "outputs": [],
   "source": []
  },
  {
   "cell_type": "code",
   "execution_count": null,
   "id": "bf0fa3e2-4e2a-4365-8560-d27d352e5215",
   "metadata": {},
   "outputs": [],
   "source": []
  },
  {
   "cell_type": "code",
   "execution_count": null,
   "id": "8a55492d-3b96-4b71-998e-09095d361589",
   "metadata": {},
   "outputs": [],
   "source": []
  },
  {
   "cell_type": "code",
   "execution_count": null,
   "id": "b2b5e9f3-5015-4c21-985a-7b2a65a47892",
   "metadata": {},
   "outputs": [],
   "source": []
  },
  {
   "cell_type": "code",
   "execution_count": null,
   "id": "149b0691-e2d6-4b3f-ab04-3dc040878745",
   "metadata": {},
   "outputs": [],
   "source": []
  },
  {
   "cell_type": "code",
   "execution_count": null,
   "id": "ed57f673-2d83-445e-90f9-457751349326",
   "metadata": {},
   "outputs": [],
   "source": []
  },
  {
   "cell_type": "code",
   "execution_count": null,
   "id": "d013a712-4fb5-4afc-9a18-f3fae2f10203",
   "metadata": {},
   "outputs": [],
   "source": []
  },
  {
   "cell_type": "code",
   "execution_count": null,
   "id": "8bdb10e4-8604-499d-989c-3c8196c47e72",
   "metadata": {},
   "outputs": [],
   "source": []
  },
  {
   "cell_type": "code",
   "execution_count": null,
   "id": "11df3649-a5bc-41ac-8370-8db7165c7c50",
   "metadata": {},
   "outputs": [],
   "source": []
  }
 ],
 "metadata": {
  "kernelspec": {
   "display_name": "Python 3 (ipykernel)",
   "language": "python",
   "name": "python3"
  },
  "language_info": {
   "codemirror_mode": {
    "name": "ipython",
    "version": 3
   },
   "file_extension": ".py",
   "mimetype": "text/x-python",
   "name": "python",
   "nbconvert_exporter": "python",
   "pygments_lexer": "ipython3",
   "version": "3.9.19"
  }
 },
 "nbformat": 4,
 "nbformat_minor": 5
}
